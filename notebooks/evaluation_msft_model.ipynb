{
 "cells": [
  {
   "cell_type": "markdown",
   "metadata": {},
   "source": [
    "## Evaluation: MSFT model\n",
    "\n",
    "This is notebook for **MSFT model evaluation** for estimating improvements over the base model and compare with other adapted models. We choose to evaluate on the set of benchmarks from [Open Medical-LLM Leaderboard](https://huggingface.co/spaces/openlifescienceai/open_medical_llm_leaderboard) including:\n",
    "\n",
    "* [MedMCQA](https://huggingface.co/datasets/openlifescienceai/medmcqa) - MCQ, 200 samples from validation split\n",
    "* [MedQA](https://huggingface.co/datasets/GBaker/MedQA-USMLE-4-options-hf) - MCQ, 200 samples from validation split\n",
    "* [MMLU](https://huggingface.co/datasets/cais/mmlu) - MCQ, 200 samples from test splits of 6 medical subsets\n",
    "* [PubMedQA](https://huggingface.co/datasets/qiaojin/PubMedQA) - QA, 200 samples from train split of pqa_labeled subset\n",
    "\n",
    "*MSFT model:* [MilyaShams/DeepSeek-R1-Distill-Qwen-1.5B-medical-msft-merged](https://huggingface.co/MilyaShams/DeepSeek-R1-Distill-Qwen-1.5B-medical-msft-merged)"
   ]
  },
  {
   "cell_type": "markdown",
   "metadata": {},
   "source": [
    "### Setup"
   ]
  },
  {
   "cell_type": "code",
   "execution_count": 1,
   "metadata": {
    "execution": {
     "iopub.execute_input": "2025-04-13T22:03:46.873690Z",
     "iopub.status.busy": "2025-04-13T22:03:46.873374Z",
     "iopub.status.idle": "2025-04-13T22:07:16.977899Z",
     "shell.execute_reply": "2025-04-13T22:07:16.976711Z",
     "shell.execute_reply.started": "2025-04-13T22:03:46.873665Z"
    },
    "trusted": true
   },
   "outputs": [],
   "source": [
    "%%capture\n",
    "!pip install datasets vllm"
   ]
  },
  {
   "cell_type": "code",
   "execution_count": 2,
   "metadata": {
    "execution": {
     "iopub.execute_input": "2025-04-13T22:07:16.980294Z",
     "iopub.status.busy": "2025-04-13T22:07:16.979791Z",
     "iopub.status.idle": "2025-04-13T22:07:40.713808Z",
     "shell.execute_reply": "2025-04-13T22:07:40.713218Z",
     "shell.execute_reply.started": "2025-04-13T22:07:16.980259Z"
    },
    "trusted": true
   },
   "outputs": [
    {
     "name": "stdout",
     "output_type": "stream",
     "text": [
      "INFO 04-13 22:07:24 [__init__.py:239] Automatically detected platform cuda.\n"
     ]
    },
    {
     "name": "stderr",
     "output_type": "stream",
     "text": [
      "2025-04-13 22:07:26.879644: E external/local_xla/xla/stream_executor/cuda/cuda_fft.cc:477] Unable to register cuFFT factory: Attempting to register factory for plugin cuFFT when one has already been registered\n",
      "WARNING: All log messages before absl::InitializeLog() is called are written to STDERR\n",
      "E0000 00:00:1744582047.119015      31 cuda_dnn.cc:8310] Unable to register cuDNN factory: Attempting to register factory for plugin cuDNN when one has already been registered\n",
      "E0000 00:00:1744582047.187703      31 cuda_blas.cc:1418] Unable to register cuBLAS factory: Attempting to register factory for plugin cuBLAS when one has already been registered\n"
     ]
    }
   ],
   "source": [
    "import re\n",
    "from tqdm import tqdm\n",
    "import math\n",
    "import pandas as pd\n",
    "from datasets import load_dataset, concatenate_datasets\n",
    "from vllm import LLM, SamplingParams\n",
    "import torch"
   ]
  },
  {
   "attachments": {},
   "cell_type": "markdown",
   "metadata": {},
   "source": [
    "### MSFT model loading"
   ]
  },
  {
   "cell_type": "code",
   "execution_count": 3,
   "metadata": {
    "execution": {
     "iopub.execute_input": "2025-04-13T22:07:40.714758Z",
     "iopub.status.busy": "2025-04-13T22:07:40.714504Z",
     "iopub.status.idle": "2025-04-13T22:07:40.718358Z",
     "shell.execute_reply": "2025-04-13T22:07:40.717583Z",
     "shell.execute_reply.started": "2025-04-13T22:07:40.714734Z"
    },
    "trusted": true
   },
   "outputs": [],
   "source": [
    "MODEL_NAME = \"MilyaShams/DeepSeek-R1-Distill-Qwen-1.5B-medical-msft-merged\"\n",
    "MAX_TOKENS = 4096"
   ]
  },
  {
   "cell_type": "code",
   "execution_count": 4,
   "metadata": {
    "execution": {
     "iopub.execute_input": "2025-04-13T22:07:40.721105Z",
     "iopub.status.busy": "2025-04-13T22:07:40.720780Z",
     "iopub.status.idle": "2025-04-13T22:10:14.761235Z",
     "shell.execute_reply": "2025-04-13T22:10:14.760327Z",
     "shell.execute_reply.started": "2025-04-13T22:07:40.721079Z"
    },
    "trusted": true
   },
   "outputs": [
    {
     "name": "stdout",
     "output_type": "stream",
     "text": [
      "\n",
      "--- Loading LLM with vLLM ---\n"
     ]
    },
    {
     "data": {
      "application/vnd.jupyter.widget-view+json": {
       "model_id": "8e94139608694f2fb68a8b7f83d2cc2d",
       "version_major": 2,
       "version_minor": 0
      },
      "text/plain": [
       "config.json:   0%|          | 0.00/820 [00:00<?, ?B/s]"
      ]
     },
     "metadata": {},
     "output_type": "display_data"
    },
    {
     "name": "stdout",
     "output_type": "stream",
     "text": [
      "WARNING 04-13 22:07:41 [config.py:2704] Casting torch.bfloat16 to torch.float16.\n",
      "INFO 04-13 22:07:54 [config.py:600] This model supports multiple tasks: {'generate', 'reward', 'score', 'embed', 'classify'}. Defaulting to 'generate'.\n",
      "WARNING 04-13 22:07:54 [arg_utils.py:1708] Compute Capability < 8.0 is not supported by the V1 Engine. Falling back to V0. \n",
      "WARNING 04-13 22:07:54 [arg_utils.py:1570] Chunked prefill is enabled by default for models with max_model_len > 32K. Chunked prefill might not work with some features or models. If you encounter any issues, please disable by launching with --enable-chunked-prefill=False.\n",
      "INFO 04-13 22:07:54 [config.py:1600] Defaulting to use mp for distributed inference\n",
      "INFO 04-13 22:07:54 [config.py:1780] Chunked prefill is enabled with max_num_batched_tokens=2048.\n",
      "INFO 04-13 22:07:54 [llm_engine.py:242] Initializing a V0 LLM engine (v0.8.3) with config: model='MilyaShams/DeepSeek-R1-Distill-Qwen-1.5B-medical-msft-merged', speculative_config=None, tokenizer='MilyaShams/DeepSeek-R1-Distill-Qwen-1.5B-medical-msft-merged', skip_tokenizer_init=False, tokenizer_mode=auto, revision=None, override_neuron_config=None, tokenizer_revision=None, trust_remote_code=False, dtype=torch.float16, max_seq_len=131072, download_dir=None, load_format=LoadFormat.AUTO, tensor_parallel_size=2, pipeline_parallel_size=1, disable_custom_all_reduce=False, quantization=None, enforce_eager=False, kv_cache_dtype=auto,  device_config=cuda, decoding_config=DecodingConfig(guided_decoding_backend='xgrammar', reasoning_backend=None), observability_config=ObservabilityConfig(show_hidden_metrics=False, otlp_traces_endpoint=None, collect_model_forward_time=False, collect_model_execute_time=False), seed=None, served_model_name=MilyaShams/DeepSeek-R1-Distill-Qwen-1.5B-medical-msft-merged, num_scheduler_steps=1, multi_step_stream_outputs=True, enable_prefix_caching=None, chunked_prefill_enabled=True, use_async_output_proc=True, disable_mm_preprocessor_cache=False, mm_processor_kwargs=None, pooler_config=None, compilation_config={\"splitting_ops\":[],\"compile_sizes\":[],\"cudagraph_capture_sizes\":[256,248,240,232,224,216,208,200,192,184,176,168,160,152,144,136,128,120,112,104,96,88,80,72,64,56,48,40,32,24,16,8,4,2,1],\"max_capture_size\":256}, use_cached_outputs=False, \n"
     ]
    },
    {
     "data": {
      "application/vnd.jupyter.widget-view+json": {
       "model_id": "149c3bcb7eb242a3963b48c67541c5be",
       "version_major": 2,
       "version_minor": 0
      },
      "text/plain": [
       "tokenizer_config.json:   0%|          | 0.00/7.09k [00:00<?, ?B/s]"
      ]
     },
     "metadata": {},
     "output_type": "display_data"
    },
    {
     "data": {
      "application/vnd.jupyter.widget-view+json": {
       "model_id": "c9b6dfa3087e491dbb279cbb8c37c4ea",
       "version_major": 2,
       "version_minor": 0
      },
      "text/plain": [
       "tokenizer.json:   0%|          | 0.00/11.4M [00:00<?, ?B/s]"
      ]
     },
     "metadata": {},
     "output_type": "display_data"
    },
    {
     "data": {
      "application/vnd.jupyter.widget-view+json": {
       "model_id": "f1d81ae8f985491895829de055c3442d",
       "version_major": 2,
       "version_minor": 0
      },
      "text/plain": [
       "special_tokens_map.json:   0%|          | 0.00/495 [00:00<?, ?B/s]"
      ]
     },
     "metadata": {},
     "output_type": "display_data"
    },
    {
     "data": {
      "application/vnd.jupyter.widget-view+json": {
       "model_id": "d3243f4e1ece494cbb98261f73a54590",
       "version_major": 2,
       "version_minor": 0
      },
      "text/plain": [
       "generation_config.json:   0%|          | 0.00/242 [00:00<?, ?B/s]"
      ]
     },
     "metadata": {},
     "output_type": "display_data"
    },
    {
     "name": "stdout",
     "output_type": "stream",
     "text": [
      "WARNING 04-13 22:07:56 [multiproc_worker_utils.py:306] Reducing Torch parallelism from 2 threads to 1 to avoid unnecessary CPU contention. Set OMP_NUM_THREADS in the external environment to tune this value as needed.\n",
      "\u001b[1;36m(VllmWorkerProcess pid=145)\u001b[0;0m INFO 04-13 22:07:56 [multiproc_worker_utils.py:225] Worker ready; awaiting tasks\n",
      "INFO 04-13 22:07:58 [cuda.py:240] Cannot use FlashAttention-2 backend for Volta and Turing GPUs.\n",
      "INFO 04-13 22:07:58 [cuda.py:289] Using XFormers backend.\n",
      "\u001b[1;36m(VllmWorkerProcess pid=145)\u001b[0;0m INFO 04-13 22:07:58 [cuda.py:240] Cannot use FlashAttention-2 backend for Volta and Turing GPUs.\n",
      "\u001b[1;36m(VllmWorkerProcess pid=145)\u001b[0;0m INFO 04-13 22:07:58 [cuda.py:289] Using XFormers backend.\n"
     ]
    },
    {
     "name": "stderr",
     "output_type": "stream",
     "text": [
      "[W413 22:08:09.948266599 socket.cpp:204] [c10d] The hostname of the client socket cannot be retrieved. err=-3\n",
      "[W413 22:08:10.409179607 socket.cpp:204] [c10d] The hostname of the client socket cannot be retrieved. err=-3\n",
      "[W413 22:08:19.958967107 socket.cpp:204] [c10d] The hostname of the client socket cannot be retrieved. err=-3\n"
     ]
    },
    {
     "name": "stdout",
     "output_type": "stream",
     "text": [
      "INFO 04-13 22:08:29 [utils.py:990] Found nccl from library libnccl.so.2\n",
      "INFO 04-13 22:08:29 [pynccl.py:69] vLLM is using nccl==2.21.5\n",
      "\u001b[1;36m(VllmWorkerProcess pid=145)\u001b[0;0m INFO 04-13 22:08:29 [utils.py:990] Found nccl from library libnccl.so.2\n",
      "\u001b[1;36m(VllmWorkerProcess pid=145)\u001b[0;0m INFO 04-13 22:08:29 [pynccl.py:69] vLLM is using nccl==2.21.5\n"
     ]
    },
    {
     "name": "stderr",
     "output_type": "stream",
     "text": [
      "[W413 22:08:29.969502460 socket.cpp:204] [c10d] The hostname of the client socket cannot be retrieved. err=-3\n"
     ]
    },
    {
     "name": "stdout",
     "output_type": "stream",
     "text": [
      "INFO 04-13 22:08:30 [custom_all_reduce_utils.py:206] generating GPU P2P access cache in /root/.cache/vllm/gpu_p2p_access_cache_for_0,1.json\n",
      "INFO 04-13 22:08:54 [custom_all_reduce_utils.py:244] reading GPU P2P access cache from /root/.cache/vllm/gpu_p2p_access_cache_for_0,1.json\n",
      "WARNING 04-13 22:08:54 [custom_all_reduce.py:146] Custom allreduce is disabled because your platform lacks GPU P2P capability or P2P test failed. To silence this warning, specify disable_custom_all_reduce=True explicitly.\n",
      "\u001b[1;36m(VllmWorkerProcess pid=145)\u001b[0;0m INFO 04-13 22:08:54 [custom_all_reduce_utils.py:244] reading GPU P2P access cache from /root/.cache/vllm/gpu_p2p_access_cache_for_0,1.json\n",
      "\u001b[1;36m(VllmWorkerProcess pid=145)\u001b[0;0m WARNING 04-13 22:08:54 [custom_all_reduce.py:146] Custom allreduce is disabled because your platform lacks GPU P2P capability or P2P test failed. To silence this warning, specify disable_custom_all_reduce=True explicitly.\n",
      "INFO 04-13 22:08:54 [shm_broadcast.py:264] vLLM message queue communication handle: Handle(local_reader_ranks=[1], buffer_handle=(1, 4194304, 6, 'psm_059d96f6'), local_subscribe_addr='ipc:///tmp/691c578d-0c95-45c7-9457-e56e736c8811', remote_subscribe_addr=None, remote_addr_ipv6=False)\n",
      "INFO 04-13 22:08:54 [parallel_state.py:957] rank 0 in world size 2 is assigned as DP rank 0, PP rank 0, TP rank 0\n",
      "\u001b[1;36m(VllmWorkerProcess pid=145)\u001b[0;0m INFO 04-13 22:08:54 [parallel_state.py:957] rank 1 in world size 2 is assigned as DP rank 0, PP rank 0, TP rank 1\n",
      "INFO 04-13 22:08:54 [model_runner.py:1110] Starting to load model MilyaShams/DeepSeek-R1-Distill-Qwen-1.5B-medical-msft-merged...\n",
      "\u001b[1;36m(VllmWorkerProcess pid=145)\u001b[0;0m INFO 04-13 22:08:54 [model_runner.py:1110] Starting to load model MilyaShams/DeepSeek-R1-Distill-Qwen-1.5B-medical-msft-merged...\n",
      "INFO 04-13 22:08:54 [weight_utils.py:265] Using model weights format ['*.safetensors']\n",
      "\u001b[1;36m(VllmWorkerProcess pid=145)\u001b[0;0m INFO 04-13 22:08:54 [weight_utils.py:265] Using model weights format ['*.safetensors']\n"
     ]
    },
    {
     "data": {
      "application/vnd.jupyter.widget-view+json": {
       "model_id": "519f16bcbd5f49349a3cc14e4fcc93d8",
       "version_major": 2,
       "version_minor": 0
      },
      "text/plain": [
       "model.safetensors:   0%|          | 0.00/3.55G [00:00<?, ?B/s]"
      ]
     },
     "metadata": {},
     "output_type": "display_data"
    },
    {
     "name": "stdout",
     "output_type": "stream",
     "text": [
      "INFO 04-13 22:09:03 [weight_utils.py:281] Time spent downloading weights for MilyaShams/DeepSeek-R1-Distill-Qwen-1.5B-medical-msft-merged: 8.771985 seconds\n",
      "INFO 04-13 22:09:03 [weight_utils.py:315] No model.safetensors.index.json found in remote.\n"
     ]
    },
    {
     "data": {
      "application/vnd.jupyter.widget-view+json": {
       "model_id": "bed30d5257cc4f0ba74924eb00b94bf0",
       "version_major": 2,
       "version_minor": 0
      },
      "text/plain": [
       "Loading safetensors checkpoint shards:   0% Completed | 0/1 [00:00<?, ?it/s]\n"
      ]
     },
     "metadata": {},
     "output_type": "display_data"
    },
    {
     "name": "stdout",
     "output_type": "stream",
     "text": [
      "INFO 04-13 22:09:05 [loader.py:447] Loading weights took 2.17 seconds\n",
      "INFO 04-13 22:09:06 [model_runner.py:1146] Model loading took 1.6901 GiB and 11.254775 seconds\n",
      "\u001b[1;36m(VllmWorkerProcess pid=145)\u001b[0;0m INFO 04-13 22:09:10 [weight_utils.py:281] Time spent downloading weights for MilyaShams/DeepSeek-R1-Distill-Qwen-1.5B-medical-msft-merged: 6.806367 seconds\n",
      "\u001b[1;36m(VllmWorkerProcess pid=145)\u001b[0;0m INFO 04-13 22:09:10 [weight_utils.py:315] No model.safetensors.index.json found in remote.\n",
      "\u001b[1;36m(VllmWorkerProcess pid=145)\u001b[0;0m INFO 04-13 22:09:13 [loader.py:447] Loading weights took 3.17 seconds\n",
      "\u001b[1;36m(VllmWorkerProcess pid=145)\u001b[0;0m INFO 04-13 22:09:14 [model_runner.py:1146] Model loading took 1.6901 GiB and 19.162172 seconds\n",
      "\u001b[1;36m(VllmWorkerProcess pid=145)\u001b[0;0m INFO 04-13 22:09:24 [worker.py:267] Memory profiling takes 9.39 seconds\n",
      "\u001b[1;36m(VllmWorkerProcess pid=145)\u001b[0;0m INFO 04-13 22:09:24 [worker.py:267] the current vLLM instance can use total_gpu_memory (14.74GiB) x gpu_memory_utilization (0.90) = 13.27GiB\n",
      "\u001b[1;36m(VllmWorkerProcess pid=145)\u001b[0;0m INFO 04-13 22:09:24 [worker.py:267] model weights take 1.69GiB; non_torch_memory takes 0.10GiB; PyTorch activation peak memory takes 0.25GiB; the rest of the memory reserved for KV Cache is 11.22GiB.\n",
      "INFO 04-13 22:09:24 [worker.py:267] Memory profiling takes 9.51 seconds\n",
      "INFO 04-13 22:09:24 [worker.py:267] the current vLLM instance can use total_gpu_memory (14.74GiB) x gpu_memory_utilization (0.90) = 13.27GiB\n",
      "INFO 04-13 22:09:24 [worker.py:267] model weights take 1.69GiB; non_torch_memory takes 0.10GiB; PyTorch activation peak memory takes 1.39GiB; the rest of the memory reserved for KV Cache is 10.08GiB.\n",
      "INFO 04-13 22:09:24 [executor_base.py:112] # cuda blocks: 47196, # CPU blocks: 18724\n",
      "INFO 04-13 22:09:24 [executor_base.py:117] Maximum concurrency for 131072 tokens per request: 5.76x\n",
      "\u001b[1;36m(VllmWorkerProcess pid=145)\u001b[0;0m INFO 04-13 22:09:30 [model_runner.py:1456] Capturing cudagraphs for decoding. This may lead to unexpected consequences if the model is not static. To run the model in eager mode, set 'enforce_eager=True' or use '--enforce-eager' in the CLI. If out-of-memory error occurs during cudagraph capture, consider decreasing `gpu_memory_utilization` or switching to eager mode. You can also reduce the `max_num_seqs` as needed to decrease memory usage.\n",
      "INFO 04-13 22:09:31 [model_runner.py:1456] Capturing cudagraphs for decoding. This may lead to unexpected consequences if the model is not static. To run the model in eager mode, set 'enforce_eager=True' or use '--enforce-eager' in the CLI. If out-of-memory error occurs during cudagraph capture, consider decreasing `gpu_memory_utilization` or switching to eager mode. You can also reduce the `max_num_seqs` as needed to decrease memory usage.\n"
     ]
    },
    {
     "name": "stderr",
     "output_type": "stream",
     "text": [
      "Capturing CUDA graph shapes:  97%|█████████▋| 34/35 [00:40<00:01,  1.07s/it]"
     ]
    },
    {
     "name": "stdout",
     "output_type": "stream",
     "text": [
      "\u001b[1;36m(VllmWorkerProcess pid=145)\u001b[0;0m INFO 04-13 22:10:13 [model_runner.py:1598] Graph capturing finished in 43 secs, took 0.40 GiB\n"
     ]
    },
    {
     "name": "stderr",
     "output_type": "stream",
     "text": [
      "Capturing CUDA graph shapes: 100%|██████████| 35/35 [00:42<00:00,  1.21s/it]"
     ]
    },
    {
     "name": "stdout",
     "output_type": "stream",
     "text": [
      "INFO 04-13 22:10:13 [model_runner.py:1598] Graph capturing finished in 42 secs, took 0.40 GiB\n",
      "INFO 04-13 22:10:13 [llm_engine.py:448] init engine (profile, create kv cache, warmup model) took 59.67 seconds\n"
     ]
    },
    {
     "name": "stderr",
     "output_type": "stream",
     "text": [
      "\n"
     ]
    },
    {
     "name": "stdout",
     "output_type": "stream",
     "text": [
      "LLM 'MilyaShams/DeepSeek-R1-Distill-Qwen-1.5B-medical-msft-merged' loaded successfully.\n"
     ]
    }
   ],
   "source": [
    "print(\"\\n--- Loading LLM with vLLM ---\")\n",
    "try:\n",
    "    llm = LLM(\n",
    "        model=MODEL_NAME,\n",
    "        tensor_parallel_size=2,\n",
    "        dtype=torch.float16,\n",
    "    )\n",
    "    sampling_params = SamplingParams(\n",
    "        max_tokens=MAX_TOKENS,\n",
    "        temperature=0.01,\n",
    "        top_p=1.0,\n",
    "        top_k=-1\n",
    "    )\n",
    "    print(f\"LLM '{MODEL_NAME}' loaded successfully.\")\n",
    "except Exception as e:\n",
    "    print(f\"Error loading LLM with vLLM: {e}\")\n",
    "    print(\"Please ensure the MODEL_NAME is correct, vLLM is installed, and you have compatible hardware (GPU).\")\n",
    "    exit()"
   ]
  },
  {
   "cell_type": "markdown",
   "metadata": {},
   "source": [
    "### 1. MedMCQA benchmark"
   ]
  },
  {
   "cell_type": "markdown",
   "metadata": {},
   "source": [
    "#### Dataset loading and preparing"
   ]
  },
  {
   "cell_type": "code",
   "execution_count": 5,
   "metadata": {
    "execution": {
     "iopub.execute_input": "2025-04-13T17:48:23.651287Z",
     "iopub.status.busy": "2025-04-13T17:48:23.650947Z",
     "iopub.status.idle": "2025-04-13T17:48:23.655544Z",
     "shell.execute_reply": "2025-04-13T17:48:23.654797Z",
     "shell.execute_reply.started": "2025-04-13T17:48:23.651252Z"
    },
    "trusted": true
   },
   "outputs": [],
   "source": [
    "SEED = 4242\n",
    "BATCH_SIZE = 4\n",
    "NUM_SAMPLES = 200\n",
    "DATASET_MEDMCQA = \"openlifescienceai/medmcqa\""
   ]
  },
  {
   "cell_type": "code",
   "execution_count": 6,
   "metadata": {
    "execution": {
     "iopub.execute_input": "2025-04-13T17:48:23.656913Z",
     "iopub.status.busy": "2025-04-13T17:48:23.656637Z",
     "iopub.status.idle": "2025-04-13T17:48:26.161588Z",
     "shell.execute_reply": "2025-04-13T17:48:26.160769Z",
     "shell.execute_reply.started": "2025-04-13T17:48:23.656891Z"
    },
    "trusted": true
   },
   "outputs": [
    {
     "data": {
      "application/vnd.jupyter.widget-view+json": {
       "model_id": "290187043bf046cf94ff35f26cf67c4a",
       "version_major": 2,
       "version_minor": 0
      },
      "text/plain": [
       "README.md:   0%|          | 0.00/10.7k [00:00<?, ?B/s]"
      ]
     },
     "metadata": {},
     "output_type": "display_data"
    },
    {
     "data": {
      "application/vnd.jupyter.widget-view+json": {
       "model_id": "c929557a59b04b34919e70a83bc444dc",
       "version_major": 2,
       "version_minor": 0
      },
      "text/plain": [
       "train-00000-of-00001.parquet:   0%|          | 0.00/85.9M [00:00<?, ?B/s]"
      ]
     },
     "metadata": {},
     "output_type": "display_data"
    },
    {
     "data": {
      "application/vnd.jupyter.widget-view+json": {
       "model_id": "ede3b439cc14436f81b939b272d65732",
       "version_major": 2,
       "version_minor": 0
      },
      "text/plain": [
       "test-00000-of-00001.parquet:   0%|          | 0.00/936k [00:00<?, ?B/s]"
      ]
     },
     "metadata": {},
     "output_type": "display_data"
    },
    {
     "data": {
      "application/vnd.jupyter.widget-view+json": {
       "model_id": "e34267387028476d81b5b68ca1cacadf",
       "version_major": 2,
       "version_minor": 0
      },
      "text/plain": [
       "validation-00000-of-00001.parquet:   0%|          | 0.00/1.48M [00:00<?, ?B/s]"
      ]
     },
     "metadata": {},
     "output_type": "display_data"
    },
    {
     "data": {
      "application/vnd.jupyter.widget-view+json": {
       "model_id": "78c4a0a6f7324b99ab3bfa1fc36a8e34",
       "version_major": 2,
       "version_minor": 0
      },
      "text/plain": [
       "Generating train split:   0%|          | 0/182822 [00:00<?, ? examples/s]"
      ]
     },
     "metadata": {},
     "output_type": "display_data"
    },
    {
     "data": {
      "application/vnd.jupyter.widget-view+json": {
       "model_id": "9485e2e5918b4b5b93375e57dd1ad565",
       "version_major": 2,
       "version_minor": 0
      },
      "text/plain": [
       "Generating test split:   0%|          | 0/6150 [00:00<?, ? examples/s]"
      ]
     },
     "metadata": {},
     "output_type": "display_data"
    },
    {
     "data": {
      "application/vnd.jupyter.widget-view+json": {
       "model_id": "6a61edb03d8643f2b7d50e34ce4d6142",
       "version_major": 2,
       "version_minor": 0
      },
      "text/plain": [
       "Generating validation split:   0%|          | 0/4183 [00:00<?, ? examples/s]"
      ]
     },
     "metadata": {},
     "output_type": "display_data"
    },
    {
     "data": {
      "text/plain": [
       "Dataset({\n",
       "    features: ['id', 'question', 'opa', 'opb', 'opc', 'opd', 'cop', 'choice_type', 'exp', 'subject_name', 'topic_name'],\n",
       "    num_rows: 200\n",
       "})"
      ]
     },
     "execution_count": 6,
     "metadata": {},
     "output_type": "execute_result"
    }
   ],
   "source": [
    "ds_medmcqa = load_dataset(DATASET_MEDMCQA, split=\"validation\")\n",
    "ds_medmcqa = ds_medmcqa.shuffle(seed=SEED).select(range(NUM_SAMPLES))\n",
    "ds_medmcqa"
   ]
  },
  {
   "cell_type": "code",
   "execution_count": 7,
   "metadata": {
    "execution": {
     "iopub.execute_input": "2025-04-13T17:48:26.162741Z",
     "iopub.status.busy": "2025-04-13T17:48:26.162429Z",
     "iopub.status.idle": "2025-04-13T17:48:26.169556Z",
     "shell.execute_reply": "2025-04-13T17:48:26.168808Z",
     "shell.execute_reply.started": "2025-04-13T17:48:26.162705Z"
    },
    "trusted": true
   },
   "outputs": [
    {
     "data": {
      "text/plain": [
       "{'id': '4653fb7a-ddbf-493b-b4ef-92205582a27a',\n",
       " 'question': 'Which of the following tooth is not having 5 cusps?',\n",
       " 'opa': 'Mandibular 2nd Molar',\n",
       " 'opb': 'Mandibular 1st Molar',\n",
       " 'opc': 'Mandibular 3rd Molar',\n",
       " 'opd': 'Maxillary 1st Molar',\n",
       " 'cop': 0,\n",
       " 'choice_type': 'single',\n",
       " 'exp': None,\n",
       " 'subject_name': 'Dental',\n",
       " 'topic_name': None}"
      ]
     },
     "execution_count": 7,
     "metadata": {},
     "output_type": "execute_result"
    }
   ],
   "source": [
    "ds_medmcqa[0]"
   ]
  },
  {
   "cell_type": "markdown",
   "metadata": {},
   "source": [
    "#### Helper functions definition"
   ]
  },
  {
   "cell_type": "code",
   "execution_count": 8,
   "metadata": {
    "execution": {
     "iopub.execute_input": "2025-04-13T17:48:26.171143Z",
     "iopub.status.busy": "2025-04-13T17:48:26.170331Z",
     "iopub.status.idle": "2025-04-13T17:48:26.184641Z",
     "shell.execute_reply": "2025-04-13T17:48:26.183916Z",
     "shell.execute_reply.started": "2025-04-13T17:48:26.171114Z"
    },
    "trusted": true
   },
   "outputs": [],
   "source": [
    "def format_prompt_medmcqa(example):\n",
    "    \"\"\"Formats a single example into a prompt for the LLM.\"\"\"\n",
    "    question = example['question']\n",
    "    options = {\n",
    "        \"A\": example['opa'],\n",
    "        \"B\": example['opb'],\n",
    "        \"C\": example['opc'],\n",
    "        \"D\": example['opd']\n",
    "    }\n",
    "    \n",
    "    prompt = f\"\"\"\n",
    "You are an expert in solving multiple-choice questions accurately and explaining your reasoning clearly.\n",
    "Given a question and a list of answer choices (A, B, C, D), your task is to:\n",
    "1. Reason shortly about the question and answer choices to find evidances to support your answer.\n",
    "2. Identify the correct answer. Please choose the single best answer from the options provided.\n",
    "3. Output the final answer in the format: Answer: [Option Letter]\n",
    "\n",
    "Question: {question}\n",
    "Options:\n",
    "A. {options['A']}\n",
    "B. {options['B']}\n",
    "C. {options['C']}\n",
    "D. {options['D']}\n",
    "\n",
    "Reasoning:\n",
    "    \"\"\"\n",
    "    return prompt"
   ]
  },
  {
   "cell_type": "code",
   "execution_count": 9,
   "metadata": {
    "execution": {
     "iopub.execute_input": "2025-04-13T17:48:26.185932Z",
     "iopub.status.busy": "2025-04-13T17:48:26.185645Z",
     "iopub.status.idle": "2025-04-13T17:48:26.195544Z",
     "shell.execute_reply": "2025-04-13T17:48:26.194824Z",
     "shell.execute_reply.started": "2025-04-13T17:48:26.185910Z"
    },
    "trusted": true
   },
   "outputs": [],
   "source": [
    "def get_ground_truth_medmcqa(example):\n",
    "    \"\"\"Maps the correct option index (cop) to the corresponding letter.\"\"\"\n",
    "    mapping = {0: 'A', 1: 'B', 2: 'C', 3: 'D'}\n",
    "    cop_index = example.get('cop')\n",
    "    if cop_index is None or cop_index not in mapping:\n",
    "        print(f\"Warning: Invalid 'cop' value found: {cop_index} in example ID {example.get('id')}. Skipping ground truth.\")\n",
    "        return None\n",
    "    return mapping[cop_index]"
   ]
  },
  {
   "cell_type": "code",
   "execution_count": 5,
   "metadata": {
    "execution": {
     "iopub.execute_input": "2025-04-13T22:10:14.762735Z",
     "iopub.status.busy": "2025-04-13T22:10:14.762395Z",
     "iopub.status.idle": "2025-04-13T22:10:14.768886Z",
     "shell.execute_reply": "2025-04-13T22:10:14.768146Z",
     "shell.execute_reply.started": "2025-04-13T22:10:14.762698Z"
    },
    "trusted": true
   },
   "outputs": [],
   "source": [
    "def extract_choice_mcq(generated_text):\n",
    "    \"\"\"Extracts the predicted choice (A, B, C, or D) from the LLM's output.\"\"\"\n",
    "    text = generated_text.strip()\n",
    "\n",
    "    # Check for phrases like \"The answer is A\" or \"Answer: A\"\n",
    "    match = re.search(r'(?:answer|choice|option) is\\s*:?\\s*([A-D])', text, re.IGNORECASE)\n",
    "    if match:\n",
    "        return match.group(1).upper()\n",
    "\n",
    "    # Look for the first standalone letter A, B, C, or D in the text\n",
    "    match = re.search(r'\\b([A-D])\\b', text)\n",
    "    if match:\n",
    "        return match.group(1).upper()\n",
    "\n",
    "    # Fallback - If no clear choice found, return None\n",
    "    print(f\"Warning: Could not extract answer from text: '{text[:100]}...{text[-100:]}'\")\n",
    "    return None"
   ]
  },
  {
   "cell_type": "markdown",
   "metadata": {},
   "source": [
    "#### Evaluation"
   ]
  },
  {
   "cell_type": "code",
   "execution_count": 11,
   "metadata": {
    "execution": {
     "iopub.execute_input": "2025-04-13T17:48:26.209898Z",
     "iopub.status.busy": "2025-04-13T17:48:26.209698Z",
     "iopub.status.idle": "2025-04-13T17:48:26.282584Z",
     "shell.execute_reply": "2025-04-13T17:48:26.281832Z",
     "shell.execute_reply.started": "2025-04-13T17:48:26.209878Z"
    },
    "trusted": true
   },
   "outputs": [
    {
     "name": "stdout",
     "output_type": "stream",
     "text": [
      "\n",
      "--- Preparing Prompts and Ground Truths ---\n"
     ]
    },
    {
     "name": "stderr",
     "output_type": "stream",
     "text": [
      "Formatting prompts: 100%|██████████| 200/200 [00:00<00:00, 6592.43it/s]\n",
      "Extracting ground truths: 100%|██████████| 200/200 [00:00<00:00, 7645.12it/s]"
     ]
    },
    {
     "name": "stdout",
     "output_type": "stream",
     "text": [
      "\n",
      "Example Prompt:\n",
      "\n",
      "You are an expert in solving multiple-choice questions accurately and explaining your reasoning clearly.\n",
      "Given a question and a list of answer choices (A, B, C, D), your task is to:\n",
      "1. Reason shortly about the question and answer choices to find evidances to support your answer.\n",
      "2. Identify the correct answer. Please choose the single best answer from the options provided.\n",
      "3. Output the final answer in the format: Answer: [Option Letter]\n",
      "\n",
      "Question: Which of the following tooth is not having 5 cusps?\n",
      "Options:\n",
      "A. Mandibular 2nd Molar\n",
      "B. Mandibular 1st Molar\n",
      "C. Mandibular 3rd Molar\n",
      "D. Maxillary 1st Molar\n",
      "\n",
      "Reasoning:\n",
      "    \n",
      "Corresponding Ground Truth: A\n"
     ]
    },
    {
     "name": "stderr",
     "output_type": "stream",
     "text": [
      "\n"
     ]
    }
   ],
   "source": [
    "print(\"\\n--- Preparing Prompts and Ground Truths ---\")\n",
    "prompts = [format_prompt_medmcqa(ex) for ex in tqdm(ds_medmcqa, desc=\"Formatting prompts\")]\n",
    "ground_truths = [get_ground_truth_medmcqa(ex) for ex in tqdm(ds_medmcqa, desc=\"Extracting ground truths\")]\n",
    "valid_indices = [i for i, gt in enumerate(ground_truths) if gt is not None]\n",
    "\n",
    "if len(valid_indices) < len(ground_truths):\n",
    "     print(f\"Warning: {len(ground_truths) - len(valid_indices)} examples had invalid ground truths and were excluded.\")\n",
    "     prompts = [prompts[i] for i in valid_indices]\n",
    "     ground_truths = [ground_truths[i] for i in valid_indices]\n",
    "     original_indices = valid_indices\n",
    "\n",
    "if len(prompts) > 0:\n",
    "    print(\"\\nExample Prompt:\")\n",
    "    print(prompts[0])\n",
    "    print(f\"Corresponding Ground Truth: {ground_truths[0]}\")\n",
    "else:\n",
    "    print(\"No valid prompts to evaluate.\")\n",
    "    exit()"
   ]
  },
  {
   "cell_type": "code",
   "execution_count": 12,
   "metadata": {
    "execution": {
     "iopub.execute_input": "2025-04-13T17:48:26.283648Z",
     "iopub.status.busy": "2025-04-13T17:48:26.283402Z",
     "iopub.status.idle": "2025-04-13T18:22:26.312180Z",
     "shell.execute_reply": "2025-04-13T18:22:26.311397Z",
     "shell.execute_reply.started": "2025-04-13T17:48:26.283631Z"
    },
    "trusted": true
   },
   "outputs": [
    {
     "name": "stdout",
     "output_type": "stream",
     "text": [
      "\n",
      "--- Running Inference ---\n"
     ]
    },
    {
     "name": "stderr",
     "output_type": "stream",
     "text": [
      "Generating Responses: 100%|██████████| 50/50 [34:00<00:00, 40.80s/it]"
     ]
    },
    {
     "name": "stdout",
     "output_type": "stream",
     "text": [
      "\n",
      "Example Generated Text (raw):\n",
      "- The mandibular 2nd molar is the most common type of molar in the lower jaw.\n",
      "     - The mandibular 1st molar is the smallest molar in the lower jaw.\n",
      "     - The mandibular 3rd molar is the largest molar in the lower jaw.\n",
      "     - The maxillary 1st molar is the smallest molar in the upper jaw.\n",
      "\n",
      "Options:\n",
      "A. Mandibular 2nd Molar\n",
      "B. Mandibular 1st Molar\n",
      "C. Mandibular 3rd Molar\n",
      "D. Maxillary 1st Molar\n",
      "\n",
      "Options:\n",
      "A. Mandibular 2nd Molar\n",
      "B. Mandibular 1st Molar\n",
      "C. Mandibular 3rd Molar\n",
      "D. Maxillary 1st Molar\n",
      "\n",
      "Options:\n",
      "A. Mandibular 2nd Molar\n",
      "B. Mandibular 1st Molar\n",
      "C. Mandibular 3rd Molar\n",
      "D. Maxillary 1st Molar\n",
      "\n",
      "Options:\n",
      "A. Mandibular 2nd Molar\n",
      "B. Mandibular 1st Molar\n",
      "C. Mandibular 3rd Molar\n",
      "D. Maxillary 1st Molar\n",
      "\n",
      "Options:\n",
      "A. Mandibular 2nd Molar\n",
      "B. Mandibular 1st Molar\n",
      "C. Mandibular 3rd Molar\n",
      "D. Maxillary 1st Molar\n",
      "\n",
      "Options:\n",
      "A. Mandibular 2nd Molar\n",
      "B. Mandibular 1st Molar\n",
      "C. Mandibular 3rd Molar\n",
      "D. Maxillary 1st Molar\n",
      "\n",
      "Options:\n",
      "A. Mandibular 2nd Molar\n",
      "B. Mandibular 1st Molar\n",
      "C. Mandibular 3rd Molar\n",
      "D. Maxillary 1st Molar\n",
      "\n",
      "Options:\n",
      "A. Mandibular 2nd Molar\n",
      "B. Mandibular 1st Molar\n",
      "C. Mandibular 3rd Molar\n",
      "D. Maxillary 1st Molar\n",
      "\n",
      "Options:\n",
      "A. Mandibular 2nd Molar\n",
      "B. Mandibular 1st Molar\n",
      "C. Mandibular 3rd Molar\n",
      "D. Maxillary 1st Molar\n",
      "\n",
      "Options:\n",
      "A. Mandibular 2nd Molar\n",
      "B. Mandibular 1st Molar\n",
      "C. Mandibular 3rd Molar\n",
      "D. Maxillary 1st Molar\n",
      "\n",
      "Options:\n",
      "A. Mandibular 2nd Molar\n",
      "B. Mandibular 1st Molar\n",
      "C. Mandibular 3rd Molar\n",
      "D. Maxillary 1st Molar\n",
      "\n",
      "Options:\n",
      "A. Mandibular 2nd Molar\n",
      "B. Mandibular 1st Molar\n",
      "C. Mandibular 3rd Molar\n",
      "D. Maxillary 1st Molar\n",
      "\n",
      "Options:\n",
      "A. Mandibular 2nd Molar\n",
      "B. Mandibular 1st Molar\n",
      "C. Mandibular 3rd Molar\n",
      "D. Maxillary 1st Molar\n",
      "\n",
      "Options:\n",
      "A. Mandibular 2nd Molar\n",
      "B. Mandibular 1st Molar\n",
      "C. Mandibular 3rd Molar\n",
      "D. Maxillary 1st Molar\n",
      "\n",
      "Options:\n",
      "A. Mandibular 2nd Molar\n",
      "B. Mandibular 1st Molar\n",
      "C. Mandibular 3rd Molar\n",
      "D. Maxillary 1st Molar\n",
      "\n",
      "Options:\n",
      "A. Mandibular 2nd Molar\n",
      "B. Mandibular 1st Molar\n",
      "C. Mandibular 3rd Molar\n",
      "D. Maxillary 1st Molar\n",
      "\n",
      "Options:\n",
      "A. Mandibular 2nd Molar\n",
      "B. Mandibular 1st Molar\n",
      "C. Mandibular 3rd Molar\n",
      "D. Maxillary 1st Molar\n",
      "\n",
      "Options:\n",
      "A. Mandibular 2nd Molar\n",
      "B. Mandibular 1st Molar\n",
      "C. Mandibular 3rd Molar\n",
      "D. Maxillary 1st Molar\n",
      "\n",
      "Options:\n",
      "A. Mandibular 2nd Molar\n",
      "B. Mandibular 1st Molar\n",
      "C. Mandibular 3rd Molar\n",
      "D. Maxillary 1st Molar\n",
      "\n",
      "Options:\n",
      "A. Mandibular 2nd Molar\n",
      "B. Mandibular 1st Molar\n",
      "C. Mandibular 3rd Molar\n",
      "D. Maxillary 1st Molar\n",
      "\n",
      "Options:\n",
      "A. Mandibular 2nd Molar\n",
      "B. Mandibular 1st Molar\n",
      "C. Mandibular 3rd Molar\n",
      "D. Maxillary 1st Molar\n",
      "\n",
      "Options:\n",
      "A. Mandibular 2nd Molar\n",
      "B. Mandibular 1st Molar\n",
      "C. Mandibular 3rd Molar\n",
      "D. Maxillary 1st Molar\n",
      "\n",
      "Options:\n",
      "A. Mandibular 2nd Molar\n",
      "B. Mandibular 1st Molar\n",
      "C. Mandibular 3rd Molar\n",
      "D. Maxillary 1st Molar\n",
      "\n",
      "Options:\n",
      "A. Mandibular 2nd Molar\n",
      "B. Mandibular 1st Molar\n",
      "C. Mandibular 3rd Molar\n",
      "D. Maxillary 1st Molar\n",
      "\n",
      "Options:\n",
      "A. Mandibular 2nd Molar\n",
      "B. Mandibular 1st Molar\n",
      "C. Mandibular 3rd Molar\n",
      "D. Maxillary 1st Molar\n",
      "\n",
      "Options:\n",
      "A. Mandibular 2nd Molar\n",
      "B. Mandibular 1st Molar\n",
      "C. Mandibular 3rd Molar\n",
      "D. Maxillary 1st Molar\n",
      "\n",
      "Options:\n",
      "A. Mandibular 2nd Molar\n",
      "B. Mandibular 1st Molar\n",
      "C. Mandibular 3rd Molar\n",
      "D. Maxillary 1st Molar\n",
      "\n",
      "Options:\n",
      "A. Mandibular 2nd Molar\n",
      "B. Mandibular 1st Molar\n",
      "C. Mandibular 3rd Molar\n",
      "D. Maxillary 1st Molar\n",
      "\n",
      "Options:\n",
      "A. Mandibular 2nd Molar\n",
      "B. Mandibular 1st Molar\n",
      "C. Mandibular 3rd Molar\n",
      "D. Maxillary 1st Molar\n",
      "\n",
      "Options:\n",
      "A. Mandibular 2nd Molar\n",
      "B. Mandibular 1st Molar\n",
      "C. Mandibular 3rd Molar\n",
      "D. Maxillary 1st Molar\n",
      "\n",
      "Options:\n",
      "A. Mandibular 2nd Molar\n",
      "B. Mandibular 1st Molar\n",
      "C. Mandibular 3rd Molar\n",
      "D. Maxillary 1st Molar\n",
      "\n",
      "Options:\n",
      "A. Mandibular 2nd Molar\n",
      "B. Mandibular 1st Molar\n",
      "C. Mandibular 3rd Molar\n",
      "D. Maxillary 1st Molar\n",
      "\n",
      "Options:\n",
      "A. Mandibular 2nd Molar\n",
      "B. Mandibular 1st Molar\n",
      "C. Mandibular 3rd Molar\n",
      "D. Maxillary 1st Molar\n",
      "\n",
      "Options:\n",
      "A. Mandibular 2nd Molar\n",
      "B. Mandibular 1st Molar\n",
      "C. Mandibular 3rd Molar\n",
      "D. Maxillary 1st Molar\n",
      "\n",
      "Options:\n",
      "A. Mandibular 2nd Molar\n",
      "B. Mandibular 1st Molar\n",
      "C. Mandibular 3rd Molar\n",
      "D. Maxillary 1st Molar\n",
      "\n",
      "Options:\n",
      "A. Mandibular 2nd Molar\n",
      "B. Mandibular 1st Molar\n",
      "C. Mandibular 3rd Molar\n",
      "D. Maxillary 1st Molar\n",
      "\n",
      "Options:\n",
      "A. Mandibular 2nd Molar\n",
      "B. Mandibular 1st Molar\n",
      "C. Mandibular 3rd Molar\n",
      "D. Maxillary 1st Molar\n",
      "\n",
      "Options:\n",
      "A. Mandibular 2nd Molar\n",
      "B. Mandibular 1st Molar\n",
      "C. Mandibular 3rd Molar\n",
      "D. Maxillary 1st Molar\n",
      "\n",
      "Options:\n",
      "A. Mandibular 2nd Molar\n",
      "B. Mandibular 1st Molar\n",
      "C. Mandibular 3rd Molar\n",
      "D. Maxillary 1st Molar\n",
      "\n",
      "Options:\n",
      "A. Mandibular 2nd Molar\n",
      "B. Mandibular 1st Molar\n",
      "C. Mandibular 3rd Molar\n",
      "D. Maxillary 1st Molar\n",
      "\n",
      "Options:\n",
      "A. Mandibular 2nd Molar\n",
      "B. Mandibular 1st Molar\n",
      "C. Mandibular 3rd Molar\n",
      "D. Maxillary 1st Molar\n",
      "\n",
      "Options:\n",
      "A. Mandibular 2nd Molar\n",
      "B. Mandibular 1st Molar\n",
      "C. Mandibular 3rd Molar\n",
      "D. Maxillary 1st Molar\n",
      "\n",
      "Options:\n",
      "A. Mandibular 2nd Molar\n",
      "B. Mandibular 1st Molar\n",
      "C. Mandibular 3rd Molar\n",
      "D. Maxillary 1st Molar\n",
      "\n",
      "Options:\n",
      "A. Mandibular 2nd Molar\n",
      "B. Mandibular 1st Molar\n",
      "C. Mandibular 3rd Molar\n",
      "D. Maxillary 1st Molar\n",
      "\n",
      "Options:\n",
      "A. Mandibular 2nd Molar\n",
      "B. Mandibular 1st Molar\n",
      "C. Mandibular 3rd Molar\n",
      "D. Maxillary 1st Molar\n",
      "\n",
      "Options:\n",
      "A. Mandibular 2nd Molar\n",
      "B. Mandibular 1st Molar\n",
      "C. Mandibular 3rd Molar\n",
      "D. Maxillary 1st Molar\n",
      "\n",
      "Options:\n",
      "A. Mandibular 2nd Molar\n",
      "B. Mandibular 1st Molar\n",
      "C. Mandibular 3rd Molar\n",
      "D. Maxillary 1st Molar\n",
      "\n",
      "Options:\n",
      "A. Mandibular 2nd Molar\n",
      "B. Mandibular 1st Molar\n",
      "C. Mandibular 3rd Molar\n",
      "D. Maxillary 1st Molar\n",
      "\n",
      "Options:\n",
      "A. Mandibular 2nd Molar\n",
      "B. Mandibular 1st Molar\n",
      "C. Mandibular 3rd Molar\n",
      "D. Maxillary 1st Molar\n",
      "\n",
      "Options:\n",
      "A. Mandibular 2nd Molar\n",
      "B. Mandibular 1st Molar\n",
      "C. Mandibular 3rd Molar\n",
      "D. Maxillary 1st Molar\n",
      "\n",
      "Options:\n",
      "A. Mandibular 2nd Molar\n",
      "B. Mandibular 1st Molar\n",
      "C. Mandibular 3rd Molar\n",
      "D. Maxillary 1st Molar\n",
      "\n",
      "Options:\n",
      "A. Mandibular 2nd Molar\n",
      "B. Mandibular 1st Molar\n",
      "C. Mandibular 3rd Molar\n",
      "D. Maxillary 1st Molar\n",
      "\n",
      "Options:\n",
      "A. Mandibular 2nd Molar\n",
      "B. Mandibular 1st Molar\n",
      "C. Mandibular 3rd Molar\n",
      "D. Maxillary 1st Molar\n",
      "\n",
      "Options:\n",
      "A. Mandibular 2nd Molar\n",
      "B. Mandibular 1st Molar\n",
      "C. Mandibular 3rd Molar\n",
      "D. Maxillary 1st Molar\n",
      "\n",
      "Options:\n",
      "A. Mandibular 2nd Molar\n",
      "B. Mandibular 1st Molar\n",
      "C. Mandibular 3rd Molar\n",
      "D. Maxillary 1st Molar\n",
      "\n",
      "Options:\n",
      "A. Mandibular 2nd Molar\n",
      "B. Mandibular 1st Molar\n",
      "C. Mandibular 3rd Molar\n",
      "D. Maxillary 1st Molar\n",
      "\n",
      "Options:\n",
      "A. Mandibular 2nd Molar\n",
      "B. Mandibular 1st Molar\n",
      "C. Mandibular 3rd Molar\n",
      "D. Maxillary 1st Molar\n",
      "\n",
      "Options:\n",
      "A. Mandibular 2nd Molar\n",
      "B. Mandibular 1st Molar\n",
      "C. Mandibular 3rd Molar\n",
      "D. Maxillary 1st Molar\n",
      "\n",
      "Options:\n",
      "A. Mandibular 2nd Molar\n",
      "B. Mandibular 1st Molar\n",
      "C. Mandibular 3rd Molar\n",
      "D. Maxillary 1st Molar\n",
      "\n",
      "Options:\n",
      "A. Mandibular 2nd Molar\n",
      "B. Mandibular 1st Molar\n",
      "C. Mandibular 3rd Molar\n",
      "D. Maxillary 1st Molar\n",
      "\n",
      "Options:\n",
      "A. Mandibular 2nd Molar\n",
      "B. Mandibular 1st Molar\n",
      "C. Mandibular 3rd Molar\n",
      "D. Maxillary 1st Molar\n",
      "\n",
      "Options:\n",
      "A. Mandibular 2nd Molar\n",
      "B. Mandibular 1st Molar\n",
      "C. Mandibular 3rd Molar\n",
      "D. Maxillary 1st Molar\n",
      "\n",
      "Options:\n",
      "A. Mandibular 2nd Molar\n",
      "B. Mandibular 1st Molar\n",
      "C. Mandibular 3rd Molar\n",
      "D. Maxillary 1st Molar\n",
      "\n",
      "Options:\n",
      "A. Mandibular 2nd Molar\n",
      "B. Mandibular 1st Molar\n",
      "C. Mandibular 3rd Molar\n",
      "D. Maxillary 1st Molar\n",
      "\n",
      "Options:\n",
      "A. Mandibular 2nd Molar\n",
      "B. Mandibular 1st Molar\n",
      "C. Mandibular 3rd Molar\n",
      "D. Maxillary 1st Molar\n",
      "\n",
      "Options:\n",
      "A. Mandibular 2nd Molar\n",
      "B. Mandibular 1st Molar\n",
      "C. Mandibular 3rd Molar\n",
      "D. Maxillary 1st Molar\n",
      "\n",
      "Options:\n",
      "A. Mandibular 2nd Molar\n",
      "B. Mandibular 1st Molar\n",
      "C. Mandibular 3rd Molar\n",
      "D. Maxillary 1st Molar\n",
      "\n",
      "Options:\n",
      "A. Mandibular 2nd Molar\n",
      "B. Mandibular 1st Molar\n",
      "C. Mandibular 3rd Molar\n",
      "D. Maxillary 1st Molar\n",
      "\n",
      "Options:\n",
      "A. Mandibular 2nd Molar\n",
      "B. Mandibular 1st Molar\n",
      "C. Mandibular 3rd Molar\n",
      "D. Maxillary 1st Molar\n",
      "\n",
      "Options:\n",
      "A. Mandibular 2nd Molar\n",
      "B. Mandibular 1st Molar\n",
      "C. Mandibular 3rd Molar\n",
      "D. Maxillary 1st Molar\n",
      "\n",
      "Options:\n",
      "A. Mandibular 2nd Molar\n",
      "B. Mandibular 1st Molar\n",
      "C. Mandibular 3rd Molar\n",
      "D. Maxillary 1st Molar\n",
      "\n",
      "Options:\n",
      "A. Mandibular 2nd Molar\n",
      "B. Mandibular 1st Molar\n",
      "C. Mandibular 3rd Molar\n",
      "D. Maxillary 1st Molar\n",
      "\n",
      "Options:\n",
      "A. Mandibular 2nd Molar\n",
      "B. Mandibular 1st Molar\n",
      "C. Mandibular 3rd Molar\n",
      "D. Maxillary 1st Molar\n",
      "\n",
      "Options:\n",
      "A. Mandibular 2nd Molar\n",
      "B. Mandibular 1st Molar\n",
      "C. Mandibular 3rd Molar\n",
      "D. Maxillary 1st Molar\n",
      "\n",
      "Options:\n",
      "A. Mandibular 2nd Molar\n",
      "B. Mandibular 1st Molar\n",
      "C. Mandibular 3rd Molar\n",
      "D. Maxillary 1st Molar\n",
      "\n",
      "Options:\n",
      "A. Mandibular 2nd Molar\n",
      "B. Mandibular 1st Molar\n",
      "C. Mandibular 3rd Molar\n",
      "D. Maxillary 1st Molar\n",
      "\n",
      "Options:\n",
      "A. Mandibular 2nd Molar\n",
      "B. Mandibular 1st Molar\n",
      "C. Mandibular 3rd Molar\n",
      "D. Maxillary 1st Molar\n",
      "\n",
      "Options:\n",
      "A. Mandibular 2nd Molar\n",
      "B. Mandibular 1st Molar\n",
      "C. Mandibular 3rd Molar\n",
      "D. Maxillary 1st Molar\n",
      "\n",
      "Options:\n",
      "A. Mandibular 2nd Molar\n",
      "B. Mandibular 1st Molar\n",
      "C. Mandibular 3rd Molar\n",
      "D. Maxillary 1st Molar\n",
      "\n",
      "Options:\n",
      "A. Mandibular 2nd Molar\n",
      "B. Mandibular 1st Molar\n",
      "C. Mandibular 3rd Molar\n",
      "D. Maxillary 1st Molar\n",
      "\n",
      "Options:\n",
      "A. Mandibular 2nd Molar\n",
      "B. Mandibular 1st Molar\n",
      "C. Mandibular 3rd Molar\n",
      "D. Maxillary 1st Molar\n",
      "\n",
      "Options:\n",
      "A. Mandibular 2nd Molar\n",
      "B. Mandibular 1st Molar\n",
      "C. Mandibular 3rd Molar\n",
      "D. Maxillary 1st Molar\n",
      "\n",
      "Options:\n",
      "A. Mandibular 2nd Molar\n",
      "B. Mandibular 1st Molar\n",
      "C. Mandibular 3rd Molar\n",
      "D. Maxillary 1st Molar\n",
      "\n",
      "Options:\n",
      "A. Mandibular 2nd Molar\n",
      "B. Mandibular 1st Molar\n",
      "C. Mandibular 3rd Molar\n",
      "D. Maxillary 1st Molar\n",
      "\n",
      "Options:\n",
      "A. Mandibular 2nd Molar\n",
      "B. Mandibular 1st Molar\n",
      "C. Mandibular 3rd Molar\n",
      "D. Maxillary 1st Molar\n",
      "\n",
      "Options:\n",
      "A. Mandibular 2nd Molar\n",
      "B. Mandibular 1st Molar\n",
      "C. Mandibular 3rd Molar\n",
      "D. Maxillary 1st Molar\n",
      "\n",
      "Options:\n",
      "A. Mandibular 2nd Molar\n",
      "B. Mandibular 1st Molar\n",
      "C. Mandibular 3rd Molar\n",
      "D. Maxillary 1st Molar\n",
      "\n",
      "Options:\n",
      "A. Mandibular 2nd Molar\n",
      "B. Mandibular 1st Molar\n",
      "C. Mandibular 3rd Molar\n",
      "D. Maxillary 1st Molar\n",
      "\n",
      "Options:\n",
      "A. Mandibular 2nd Molar\n",
      "B. Mandibular 1st Molar\n",
      "C. Mandibular 3rd Molar\n",
      "D. Maxillary 1st Molar\n",
      "\n",
      "Options:\n",
      "A. Mandib\n"
     ]
    },
    {
     "name": "stderr",
     "output_type": "stream",
     "text": [
      "\n"
     ]
    }
   ],
   "source": [
    "print(\"\\n--- Running Inference ---\")\n",
    "all_outputs_text = []\n",
    "num_batches = math.ceil(len(prompts) / BATCH_SIZE)\n",
    "\n",
    "for i in tqdm(range(num_batches), desc=\"Generating Responses\"):\n",
    "    start_idx = i * BATCH_SIZE\n",
    "    end_idx = min((i + 1) * BATCH_SIZE, len(prompts))\n",
    "    batch_prompts = prompts[start_idx:end_idx]\n",
    "    outputs = llm.generate(batch_prompts, sampling_params, use_tqdm=False)\n",
    "    batch_outputs_text = [output.outputs[0].text.strip() for output in outputs]\n",
    "    all_outputs_text.extend(batch_outputs_text)\n",
    "\n",
    "if len(all_outputs_text) > 0:\n",
    "    print(\"\\nExample Generated Text (raw):\")\n",
    "    print(all_outputs_text[0])"
   ]
  },
  {
   "cell_type": "code",
   "execution_count": 13,
   "metadata": {
    "execution": {
     "iopub.execute_input": "2025-04-13T18:22:26.313275Z",
     "iopub.status.busy": "2025-04-13T18:22:26.312986Z",
     "iopub.status.idle": "2025-04-13T18:22:26.374351Z",
     "shell.execute_reply": "2025-04-13T18:22:26.373673Z",
     "shell.execute_reply.started": "2025-04-13T18:22:26.313249Z"
    },
    "trusted": true
   },
   "outputs": [
    {
     "name": "stdout",
     "output_type": "stream",
     "text": [
      "\n",
      "--- Extracting Predictions ---\n"
     ]
    },
    {
     "name": "stderr",
     "output_type": "stream",
     "text": [
      "Extracting choices: 100%|██████████| 200/200 [00:00<00:00, 3733.45it/s]"
     ]
    },
    {
     "name": "stdout",
     "output_type": "stream",
     "text": [
      "Warning: Could not extract answer from text: '- Nasion is a major city in France.\n",
      "     - Sella is a city in France.\n",
      "     - Porion is a city in Fra...med after the horizontal plane of the earth.\n",
      "     - The plane is used to create a horizontal surface'\n",
      "Warning: Could not extract answer from text: '- Boiled lobster syndrome is a condition that occurs when a person is exposed to a certain type of t...pe of poisoning that can occur when a person is exposed to a specific type of toxin, and it is known'\n",
      "Warning: Could not extract answer from text: '- The saorius is a muscle that is located in the upper back and is responsible for the movement of t...bdominis, and sternohyoid are all muscles that are located in the upper back and are responsible for'\n",
      "Warning: Could not extract answer from text: '- The paranasal sinuses are located in the nasal cavity and are responsible for filtering and filter...e.\n",
      "     - The maxillary sinus is the first to develop in the face.\n",
      "     - The ethmoidal sinus is the'\n",
      "Warning: Could not extract answer from text: '- Immunoglobulin receptors are encoded by the IgG gene.\n",
      "     - Interleukins are encoded by the IL-1 ...me 19.\n",
      "     - The ODA gene is located on chromosome 19.\n",
      "     - The IgG gene is located on chromosome'\n",
      "Warning: Could not extract answer from text: '- The muscles of mastication are responsible for the process of chewing and swallowing.\n",
      "     - They ... - The muscles of mastication are not responsible for the production of mucus.\n",
      "     - The muscles of'\n",
      "Warning: Could not extract answer from text: '- Fluorosis is a condition where the body produces too much fluorine, leading to the loss of teeth.\n",
      "...both.\n",
      "     - The study was conducted by Turku, so it's likely related to both conditions.\n",
      "     - The'\n",
      "Warning: Could not extract answer from text: '- In Karagener's syndrome, the heart is enlarged and the lungs are enlarged.\n",
      "     - In Goodpasture's...eart is enlarged and the lungs are enlarged.\n",
      "     - In Goodpasture's syndrome, the heart is enlarged'\n",
      "Warning: Could not extract answer from text: '- Aspergillus is a common fungal infection in the eye, especially in people with HIV.\n",
      "     - Candida...illus.\n",
      "     - The most common fungal infection in the eye in an HIV positive patient is Aspergillus.'\n",
      "Warning: Could not extract answer from text: '- Ptosis is a condition where the eye appears to move backward.\n",
      "     - The oculomotor nerve is respo...sed by a lesion of the oculomotor nerve.\n",
      "     - Ptosis is caused by a lesion of the superior oblique'\n",
      "Warning: Could not extract answer from text: '- Compression osteosynthesis is a process that involves the compression of the bone to increase its ...n osteosynthesis.\n",
      "\n",
      "     - Compression osteosynthesis is not used to increase the length of the bones'\n",
      "Warning: Could not extract answer from text: '- The temporomandibular ligament (TML) is a critical structure in the jaw that provides support and ... not the site of attachment for the TML.\n",
      "     - The posterior aspect of the mandible is not the site'\n",
      "Warning: Could not extract answer from text: '- The mandibular process is the process of the lower jaw that forms the lower lip.\n",
      "     - The lower ...at forms the lower lip.\n",
      "     - The mandibular process is the process of the lower jaw that forms the'\n",
      "Warning: Could not extract answer from text: '- Cephalosporins are a class of antibiotics that are used to treat infections in the upper respirato... - Cephalosporins are not used to treat infections in the mucosal tract, such as mucosal infections.'\n",
      "Warning: Could not extract answer from text: '- Focal clonic seizures occur when the seizure is centered in the head and the seizure is a single, ...esence of a single, distinct event.\n",
      "     - The seizure is characterized by the presence of multiple,'\n",
      "Warning: Could not extract answer from text: '- The Hoover test is used to assess the presence of a muscle in the lower extremities.\n",
      "     - The Wa...  - The McBride test is used to assess the presence of a muscle in the upper extremities.\n",
      "     - The'\n",
      "Warning: Could not extract answer from text: '1. Tetra-floroethylene is a synthetic polymer used in the production of synthetic fibers.\n",
      "     2. It...d test testing is a key factor in its durability and performance.\n",
      "     167. The application of Tetra'\n",
      "Warning: Could not extract answer from text: '- Which drugs are known to inhibit DNA synthesis?\n",
      "     - Which drugs are known to inhibit DNA replic...known to inhibit DNA repair?\n",
      "     - Which drugs are known to inhibit DNA transcription?\n",
      "     - Which'\n",
      "Warning: Could not extract answer from text: '- The alveolar process is the thinning of the alveolar wall, which is a structural feature of the ai...s the thinnest layer of the alveolar wall.\n",
      "     - The alveolar wall is located in the alveolar space'\n",
      "Warning: Could not extract answer from text: '- Prader-Willi syndrome is caused by a single gene mutation in the PML gene.\n",
      "     - Angelman syndrom...ndrome is caused by a single gene mutation in the PML gene.\n",
      "     - Russell-Silver syndrome is caused'\n",
      "Warning: Could not extract answer from text: '- Tumor cells in chronic lymphocytic leukemia or small lymphoblastic lymphoma (CLL/SLL) arise from w...emia or small lymphoblastic lymphoma (CLL/SLL) arise from which of the following?\n",
      "     - Tumor cells'\n",
      "Warning: Could not extract answer from text: '- Polysyndactyly is a condition where the fingers and toes are too long and the head is too large.\n",
      " ...ading to a combination of symptoms. The HOX gene is also involved in the development of the body and'\n",
      "Warning: Could not extract answer from text: '1. Spermatogonia is the first cell in the sperm.\n",
      "     2. Spermatocyte is the second cell in the sper...ds 4. Spermatozoa\n",
      "     94. The order of the cells in the sperm is 1. Spermatogonia 2. Spermatocyte 3'\n",
      "Warning: Could not extract answer from text: 'I know that KRI paste is a type of paint, and it's used in various industrial applications. I've hea... camphor, and other solvents. I'm trying to remember if it's a specific combination of iodine, camph'\n",
      "\n",
      "------------------------------\n",
      "Number of invalid responces: 24\n",
      "\n",
      "Example Extracted Prediction:\n",
      "A\n"
     ]
    },
    {
     "name": "stderr",
     "output_type": "stream",
     "text": [
      "\n"
     ]
    }
   ],
   "source": [
    "print(\"\\n--- Extracting Predictions ---\")\n",
    "predictions = [extract_choice_mcq(text) for text in tqdm(all_outputs_text, desc=\"Extracting choices\")]\n",
    "num_invalid_responces = predictions.count(None)\n",
    "print(f\"\\n------------------------------\\nNumber of invalid responces: {num_invalid_responces}\")\n",
    "\n",
    "if len(predictions) > 0:\n",
    "    print(\"\\nExample Extracted Prediction:\")\n",
    "    print(predictions[0])"
   ]
  },
  {
   "cell_type": "code",
   "execution_count": 14,
   "metadata": {
    "execution": {
     "iopub.execute_input": "2025-04-13T18:22:26.375328Z",
     "iopub.status.busy": "2025-04-13T18:22:26.375049Z",
     "iopub.status.idle": "2025-04-13T18:22:26.410183Z",
     "shell.execute_reply": "2025-04-13T18:22:26.409623Z",
     "shell.execute_reply.started": "2025-04-13T18:22:26.375305Z"
    },
    "trusted": true
   },
   "outputs": [
    {
     "name": "stdout",
     "output_type": "stream",
     "text": [
      "\n",
      "--- Calculating Metrics ---\n"
     ]
    }
   ],
   "source": [
    "print(\"\\n--- Calculating Metrics ---\")\n",
    "correct_count = 0\n",
    "total_count = len(predictions)\n",
    "results_by_subject = {}\n",
    "\n",
    "if total_count != len(ground_truths):\n",
    "     print(f\"Warning: Mismatch between number of predictions ({total_count}) and ground truths ({len(ground_truths)}). This should not happen.\")\n",
    "     total_count = min(total_count, len(ground_truths))\n",
    "\n",
    "for i in range(total_count):\n",
    "    original_data_index = original_indices[i] if 'original_indices' in locals() else i\n",
    "    data_item = ds_medmcqa[original_data_index]\n",
    "    subject = data_item.get('subject_name', 'Unknown')\n",
    "\n",
    "    pred = predictions[i]\n",
    "    truth = ground_truths[i]\n",
    "    is_correct = (pred == truth)\n",
    "\n",
    "    if subject not in results_by_subject:\n",
    "        results_by_subject[subject] = {'correct': 0, 'total': 0}\n",
    "\n",
    "    if is_correct:\n",
    "        correct_count += 1\n",
    "        results_by_subject[subject]['correct'] += 1\n",
    "    results_by_subject[subject]['total'] += 1\n",
    "\n",
    "overall_accuracy = (correct_count / total_count) * 100 if total_count > 0 else 0"
   ]
  },
  {
   "cell_type": "code",
   "execution_count": 15,
   "metadata": {
    "execution": {
     "iopub.execute_input": "2025-04-13T18:22:26.410993Z",
     "iopub.status.busy": "2025-04-13T18:22:26.410786Z",
     "iopub.status.idle": "2025-04-13T18:22:26.416511Z",
     "shell.execute_reply": "2025-04-13T18:22:26.415681Z",
     "shell.execute_reply.started": "2025-04-13T18:22:26.410977Z"
    },
    "trusted": true
   },
   "outputs": [
    {
     "name": "stdout",
     "output_type": "stream",
     "text": [
      "\n",
      "--- Evaluation Results ---\n",
      "Model Evaluated: MilyaShams/DeepSeek-R1-Distill-Qwen-1.5B-medical-msft-merged\n",
      "Dataset Used: openlifescienceai/medmcqa\n",
      "Number of Questions Evaluated: 200\n",
      "Number of Correct Answers: 46\n",
      "Overall Accuracy: 23.00%\n",
      "\n",
      "Accuracy by Subject:\n",
      "- Anaesthesia: 0.00% (0/2)\n",
      "- Anatomy: 0.00% (0/6)\n",
      "- Biochemistry: 25.00% (2/8)\n",
      "- Dental: 22.39% (15/67)\n",
      "- ENT: 40.00% (2/5)\n",
      "- Forensic Medicine: 57.14% (4/7)\n",
      "- Gynaecology & Obstetrics: 47.06% (8/17)\n",
      "- Medicine: 16.67% (1/6)\n",
      "- Microbiology: 16.67% (1/6)\n",
      "- Ophthalmology: 0.00% (0/4)\n",
      "- Pathology: 25.00% (3/12)\n",
      "- Pediatrics: 7.14% (1/14)\n",
      "- Pharmacology: 16.67% (2/12)\n",
      "- Physiology: 0.00% (0/6)\n",
      "- Radiology: 50.00% (1/2)\n",
      "- Skin: 0.00% (0/1)\n",
      "- Social & Preventive Medicine: 33.33% (2/6)\n",
      "- Surgery: 21.05% (4/19)\n"
     ]
    }
   ],
   "source": [
    "print(\"\\n--- Evaluation Results ---\")\n",
    "print(f\"Model Evaluated: {MODEL_NAME}\")\n",
    "print(f\"Dataset Used: {DATASET_MEDMCQA}\")\n",
    "print(f\"Number of Questions Evaluated: {total_count}\")\n",
    "print(f\"Number of Correct Answers: {correct_count}\")\n",
    "print(f\"Overall Accuracy: {overall_accuracy:.2f}%\")\n",
    "\n",
    "print(\"\\nAccuracy by Subject:\")\n",
    "sorted_subjects = sorted(results_by_subject.keys())\n",
    "for subject in sorted_subjects:\n",
    "    counts = results_by_subject[subject]\n",
    "    sub_acc = (counts['correct'] / counts['total']) * 100 if counts['total'] > 0 else 0\n",
    "    print(f\"- {subject}: {sub_acc:.2f}% ({counts['correct']}/{counts['total']})\")"
   ]
  },
  {
   "cell_type": "markdown",
   "metadata": {},
   "source": [
    "### 2. MedQA"
   ]
  },
  {
   "cell_type": "markdown",
   "metadata": {},
   "source": [
    "#### Dataset loading and preparing"
   ]
  },
  {
   "cell_type": "code",
   "execution_count": 5,
   "metadata": {
    "execution": {
     "iopub.execute_input": "2025-04-13T19:32:44.476247Z",
     "iopub.status.busy": "2025-04-13T19:32:44.475963Z",
     "iopub.status.idle": "2025-04-13T19:32:44.480933Z",
     "shell.execute_reply": "2025-04-13T19:32:44.480071Z",
     "shell.execute_reply.started": "2025-04-13T19:32:44.476221Z"
    },
    "trusted": true
   },
   "outputs": [],
   "source": [
    "SEED = 4242\n",
    "BATCH_SIZE = 4\n",
    "NUM_SAMPLES = 200\n",
    "DATASET_MEDQA = \"GBaker/MedQA-USMLE-4-options-hf\"\n",
    "SPLIT_MEDQA = \"validation\""
   ]
  },
  {
   "cell_type": "code",
   "execution_count": 6,
   "metadata": {
    "execution": {
     "iopub.execute_input": "2025-04-13T19:32:44.482138Z",
     "iopub.status.busy": "2025-04-13T19:32:44.481835Z",
     "iopub.status.idle": "2025-04-13T19:32:49.474917Z",
     "shell.execute_reply": "2025-04-13T19:32:49.474361Z",
     "shell.execute_reply.started": "2025-04-13T19:32:44.482110Z"
    },
    "trusted": true
   },
   "outputs": [
    {
     "data": {
      "application/vnd.jupyter.widget-view+json": {
       "model_id": "192234fe105148acac61e9334bb46969",
       "version_major": 2,
       "version_minor": 0
      },
      "text/plain": [
       "README.md:   0%|          | 0.00/640 [00:00<?, ?B/s]"
      ]
     },
     "metadata": {},
     "output_type": "display_data"
    },
    {
     "data": {
      "application/vnd.jupyter.widget-view+json": {
       "model_id": "ad82cb6b6d53494aac6509556dd3c9ee",
       "version_major": 2,
       "version_minor": 0
      },
      "text/plain": [
       "train.json:   0%|          | 0.00/9.77M [00:00<?, ?B/s]"
      ]
     },
     "metadata": {},
     "output_type": "display_data"
    },
    {
     "data": {
      "application/vnd.jupyter.widget-view+json": {
       "model_id": "33a4182283d342828522fab056aa6877",
       "version_major": 2,
       "version_minor": 0
      },
      "text/plain": [
       "dev.json:   0%|          | 0.00/1.22M [00:00<?, ?B/s]"
      ]
     },
     "metadata": {},
     "output_type": "display_data"
    },
    {
     "data": {
      "application/vnd.jupyter.widget-view+json": {
       "model_id": "e09ee740208344d983ad65fcb7537627",
       "version_major": 2,
       "version_minor": 0
      },
      "text/plain": [
       "test.json:   0%|          | 0.00/1.25M [00:00<?, ?B/s]"
      ]
     },
     "metadata": {},
     "output_type": "display_data"
    },
    {
     "data": {
      "application/vnd.jupyter.widget-view+json": {
       "model_id": "5668b2a8b69b40dda64795af06b7a1ae",
       "version_major": 2,
       "version_minor": 0
      },
      "text/plain": [
       "Generating train split:   0%|          | 0/10178 [00:00<?, ? examples/s]"
      ]
     },
     "metadata": {},
     "output_type": "display_data"
    },
    {
     "data": {
      "application/vnd.jupyter.widget-view+json": {
       "model_id": "1c2e87f1b9584e16ba5af05ec6a9fe62",
       "version_major": 2,
       "version_minor": 0
      },
      "text/plain": [
       "Generating validation split:   0%|          | 0/1272 [00:00<?, ? examples/s]"
      ]
     },
     "metadata": {},
     "output_type": "display_data"
    },
    {
     "data": {
      "application/vnd.jupyter.widget-view+json": {
       "model_id": "02f5ccb86c264313bd1233dc6cc97dc1",
       "version_major": 2,
       "version_minor": 0
      },
      "text/plain": [
       "Generating test split:   0%|          | 0/1273 [00:00<?, ? examples/s]"
      ]
     },
     "metadata": {},
     "output_type": "display_data"
    },
    {
     "data": {
      "text/plain": [
       "Dataset({\n",
       "    features: ['id', 'sent1', 'sent2', 'ending0', 'ending1', 'ending2', 'ending3', 'label'],\n",
       "    num_rows: 200\n",
       "})"
      ]
     },
     "execution_count": 6,
     "metadata": {},
     "output_type": "execute_result"
    }
   ],
   "source": [
    "ds_medqa = load_dataset(DATASET_MEDQA, split=SPLIT_MEDQA)\n",
    "ds_medqa = ds_medqa.shuffle(seed=SEED).select(range(NUM_SAMPLES))\n",
    "ds_medqa"
   ]
  },
  {
   "cell_type": "code",
   "execution_count": 7,
   "metadata": {
    "execution": {
     "iopub.execute_input": "2025-04-13T19:32:49.475852Z",
     "iopub.status.busy": "2025-04-13T19:32:49.475647Z",
     "iopub.status.idle": "2025-04-13T19:32:49.484888Z",
     "shell.execute_reply": "2025-04-13T19:32:49.484296Z",
     "shell.execute_reply.started": "2025-04-13T19:32:49.475825Z"
    },
    "trusted": true
   },
   "outputs": [
    {
     "data": {
      "text/plain": [
       "{'id': 'dev-00646',\n",
       " 'sent1': 'A 31-year-old gravida 2 para 2 woman presents to her primary care physician for follow up. Two weeks ago, she gave birth via vaginal delivery to a 9.5 lb (4.3 kg) male infant. The delivery was complicated by a vaginal laceration that required extensive suturing once the infant was delivered. Immediately after delivery of the placenta she experienced intense shaking and chills that resolved within 1 hour. She has felt well since the delivery but admits to 6 days of malodorous smelling vaginal discharge that is tan in color. She has a history of vaginal candidiasis and is worried that it may be recurring. Her temperature is 98.8°F (37.1°C), blood pressure is 122/73 mmHg, pulse is 88/min, respirations are 16/min, and BMI is 33 kg/m^2. Speculum exam reveals a 1.5 cm dark red, velvety lesion on the posterior vaginal wall with a tan discharge. The pH of the discharge is 6.4. Which of the following is the most likely diagnosis?',\n",
       " 'sent2': '',\n",
       " 'ending0': 'Bacterial vaginosis',\n",
       " 'ending1': 'Rectovaginal fistula',\n",
       " 'ending2': 'Vaginal melanoma',\n",
       " 'ending3': 'Vesicovaginal fistula',\n",
       " 'label': 1}"
      ]
     },
     "execution_count": 7,
     "metadata": {},
     "output_type": "execute_result"
    }
   ],
   "source": [
    "ds_medqa[1]"
   ]
  },
  {
   "cell_type": "markdown",
   "metadata": {},
   "source": [
    "#### Helper functions definition"
   ]
  },
  {
   "cell_type": "code",
   "execution_count": 8,
   "metadata": {
    "execution": {
     "iopub.execute_input": "2025-04-13T19:32:49.486312Z",
     "iopub.status.busy": "2025-04-13T19:32:49.485704Z",
     "iopub.status.idle": "2025-04-13T19:32:49.503735Z",
     "shell.execute_reply": "2025-04-13T19:32:49.503058Z",
     "shell.execute_reply.started": "2025-04-13T19:32:49.486293Z"
    },
    "trusted": true
   },
   "outputs": [],
   "source": [
    "def format_prompt_medqa(example):\n",
    "    \"\"\"Formats a single example into a prompt for the LLM.\"\"\"\n",
    "    question = example['sent1']\n",
    "    options = {\n",
    "        \"A\": example['ending0'],\n",
    "        \"B\": example['ending1'],\n",
    "        \"C\": example['ending2'],\n",
    "        \"D\": example['ending3'],\n",
    "    }\n",
    "    \n",
    "    prompt = f\"\"\"\n",
    "You are an expert in solving multiple-choice questions accurately and explaining your reasoning clearly.\n",
    "Given a question and a list of answer choices (A, B, C, D), your task is to:\n",
    "1. Reason shortly about the question and answer choices to find evidances to support your answer.\n",
    "2. Identify the correct answer. Please choose the single best answer from the options provided.\n",
    "3. Output the final answer in the format: Answer: [Option Letter]\n",
    "\n",
    "Question: {question}\n",
    "Options:\n",
    "A. {options['A']}\n",
    "B. {options['B']}\n",
    "C. {options['C']}\n",
    "D. {options['D']}\n",
    "\n",
    "Reasoning:\n",
    "    \"\"\"\n",
    "    return prompt"
   ]
  },
  {
   "cell_type": "code",
   "execution_count": 9,
   "metadata": {
    "execution": {
     "iopub.execute_input": "2025-04-13T19:32:49.505360Z",
     "iopub.status.busy": "2025-04-13T19:32:49.504650Z",
     "iopub.status.idle": "2025-04-13T19:32:49.524427Z",
     "shell.execute_reply": "2025-04-13T19:32:49.523822Z",
     "shell.execute_reply.started": "2025-04-13T19:32:49.505337Z"
    },
    "trusted": true
   },
   "outputs": [],
   "source": [
    "def get_ground_truth_medqa(example):\n",
    "    \"\"\"Maps the label to the corresponding letter.\"\"\"\n",
    "    mapping = {0: 'A', 1: 'B', 2: 'C', 3: 'D'}\n",
    "    label = example.get('label')\n",
    "    if label is None or label not in mapping:\n",
    "        print(f\"Warning: Invalid 'cop' value found: {label} in example ID {example.get('id')}. Skipping ground truth.\")\n",
    "        return None\n",
    "    return mapping[label]"
   ]
  },
  {
   "cell_type": "markdown",
   "metadata": {},
   "source": [
    "#### Evaluation"
   ]
  },
  {
   "cell_type": "code",
   "execution_count": 10,
   "metadata": {
    "execution": {
     "iopub.execute_input": "2025-04-13T19:32:49.527353Z",
     "iopub.status.busy": "2025-04-13T19:32:49.527138Z",
     "iopub.status.idle": "2025-04-13T19:32:49.591922Z",
     "shell.execute_reply": "2025-04-13T19:32:49.591200Z",
     "shell.execute_reply.started": "2025-04-13T19:32:49.527336Z"
    },
    "trusted": true
   },
   "outputs": [
    {
     "name": "stdout",
     "output_type": "stream",
     "text": [
      "\n",
      "--- Preparing Prompts and Ground Truths ---\n"
     ]
    },
    {
     "name": "stderr",
     "output_type": "stream",
     "text": [
      "Formatting prompts: 100%|██████████| 200/200 [00:00<00:00, 8167.27it/s]\n",
      "Extracting ground truths: 100%|██████████| 200/200 [00:00<00:00, 9634.33it/s]"
     ]
    },
    {
     "name": "stdout",
     "output_type": "stream",
     "text": [
      "\n",
      "Example Prompt:\n",
      "\n",
      "You are an expert in solving multiple-choice questions accurately and explaining your reasoning clearly.\n",
      "Given a question and a list of answer choices (A, B, C, D), your task is to:\n",
      "1. Reason shortly about the question and answer choices to find evidances to support your answer.\n",
      "2. Identify the correct answer. Please choose the single best answer from the options provided.\n",
      "3. Output the final answer in the format: Answer: [Option Letter]\n",
      "\n",
      "Question: A 9-year-old girl is brought to the physician by her father for evaluation of intermittent muscle cramps for the past year and short stature. She has had recurrent upper respiratory tract infections since infancy. She is at the 5th percentile for weight and 10th percentile for height. Physical examination shows nasal polyps and dry skin. An x-ray of the right wrist shows osteopenia with epiphyseal widening. Which of the following sets of laboratory findings is most likely in this patient's serum?\n",
      " $$$ Calcium %%% Phosphorus %%% Parathyroid hormone %%% Calcitriol $$$\n",
      "Options:\n",
      "A. ↓ ↓ ↑ ↓\n",
      "B. ↓ ↑ ↑ ↓\n",
      "C. ↑ ↓ ↑ ↑\n",
      "D. Normal ↓ ↑ ↓\n",
      "\n",
      "Reasoning:\n",
      "    \n",
      "Corresponding Ground Truth: A\n"
     ]
    },
    {
     "name": "stderr",
     "output_type": "stream",
     "text": [
      "\n"
     ]
    }
   ],
   "source": [
    "print(\"\\n--- Preparing Prompts and Ground Truths ---\")\n",
    "prompts = [format_prompt_medqa(ex) for ex in tqdm(ds_medqa, desc=\"Formatting prompts\")]\n",
    "ground_truths = [get_ground_truth_medqa(ex) for ex in tqdm(ds_medqa, desc=\"Extracting ground truths\")]\n",
    "valid_indices = [i for i, gt in enumerate(ground_truths) if gt is not None]\n",
    "\n",
    "if len(valid_indices) < len(ground_truths):\n",
    "     print(f\"Warning: {len(ground_truths) - len(valid_indices)} examples had invalid ground truths and were excluded.\")\n",
    "     prompts = [prompts[i] for i in valid_indices]\n",
    "     ground_truths = [ground_truths[i] for i in valid_indices]\n",
    "     original_indices = valid_indices\n",
    "\n",
    "if len(prompts) > 0:\n",
    "    print(\"\\nExample Prompt:\")\n",
    "    print(prompts[0])\n",
    "    print(f\"Corresponding Ground Truth: {ground_truths[0]}\")\n",
    "else:\n",
    "    print(\"No valid prompts to evaluate.\")\n",
    "    exit()"
   ]
  },
  {
   "cell_type": "code",
   "execution_count": 11,
   "metadata": {
    "execution": {
     "iopub.execute_input": "2025-04-13T19:32:49.592819Z",
     "iopub.status.busy": "2025-04-13T19:32:49.592587Z",
     "iopub.status.idle": "2025-04-13T20:11:45.593827Z",
     "shell.execute_reply": "2025-04-13T20:11:45.593064Z",
     "shell.execute_reply.started": "2025-04-13T19:32:49.592801Z"
    },
    "trusted": true
   },
   "outputs": [
    {
     "name": "stdout",
     "output_type": "stream",
     "text": [
      "\n",
      "--- Running Inference ---\n"
     ]
    },
    {
     "name": "stderr",
     "output_type": "stream",
     "text": [
      "Generating Responses: 100%|██████████| 50/50 [38:55<00:00, 46.72s/it]"
     ]
    },
    {
     "name": "stdout",
     "output_type": "stream",
     "text": [
      "\n",
      "Example Generated Text (raw):\n",
      "**Step 1:** The patient is a 9-year-old girl with recurrent muscle cramps, short stature, and a history of upper respiratory infections. These symptoms are suggestive of a condition known as hyperparathyroidism. Hyperparathyroidism is characterized by increased parathyroid hormone (PTH) levels, which leads to increased calcitonin production and subsequent hypercalcemia. This condition is often associated with conditions like hyperparathyroidism, which can also cause bone density issues, such as osteopenia.\n",
      "\n",
      "The x-ray findings of the right wrist show osteopenia with epiphyseal widening. This suggests that the bone is not being replaced as it should be, which is consistent with hyperparathyroidism. In hyperparathyroidism, PTH is increased, leading to the accumulation of calcitriol, which is a calcium phosphate buffer. This buffer helps maintain calcium levels in the blood, but its accumulation can lead to hypercalcemia.\n",
      "\n",
      "Now, let's consider the serum levels. In hyperparathyroidism, PTH is elevated, which results in increased calcitriol levels. This means that the serum calcium levels are likely to be elevated, as calcitriol helps maintain calcium balance. However, the presence of hyperparathyroidism can also lead to increased calcitonin, which can cause hypercalcemia. This means that the serum calcium levels are likely to be elevated, but the presence of hyperparathyroidism can also lead to increased calcitriol, which can cause hypercalcemia.\n",
      "\n",
      "The options given are:\n",
      "\n",
      "A. ↓ ↓ ↑ ↓\n",
      "B. ↓ ↑ ↑ ↓\n",
      "C. ↑ ↓ ↑ ↑\n",
      "D. Normal ↓ ↑ ↓\n",
      "\n",
      "In hyperparathyroidism, PTH is elevated, leading to increased calcitriol and hypercalcemia. Therefore, the serum calcium levels are likely to be elevated, but the presence of hyperparathyroidism can also lead to increased calcitriol, which can cause hypercalcemia. This means that the serum calcium levels are likely to be elevated, but the presence of hyperparathyroidism can also lead to increased calcitriol, which can cause hypercalcemia.\n",
      "\n",
      "Given the options, the most likely serum levels would be elevated calcium, but the presence of hyperparathyroidism can also lead to increased calcitriol, which can cause hypercalcemia. Therefore, the serum calcium levels are likely to be elevated, but the presence of hyperparathyroidism can also lead to increased calcitriol, which can cause hypercalcemia.\n",
      "\n",
      "The most likely serum levels would be elevated calcium, but the presence of hyperparathyroidism can also lead to increased calcitriol, which can cause hypercalcemia. Therefore, the serum calcium levels are likely to be elevated, but the presence of hyperparathyroidism can also lead to increased calcitriol, which can cause hypercalcemia.\n",
      "\n",
      "The most likely serum levels would be elevated calcium, but the presence of hyperparathyroidism can also lead to increased calcitriol, which can cause hypercalcemia. Therefore, the serum calcium levels are likely to be elevated, but the presence of hyperparathyroidism can also lead to increased calcitriol, which can cause hypercalcemia.\n",
      "\n",
      "The most likely serum levels would be elevated calcium, but the presence of hyperparathyroidism can also lead to increased calcitriol, which can cause hypercalcemia. Therefore, the serum calcium levels are likely to be elevated, but the presence of hyperparathyroidism can also lead to increased calcitriol, which can cause hypercalcemia.\n",
      "\n",
      "The most likely serum levels would be elevated calcium, but the presence of hyperparathyroidism can also lead to increased calcitriol, which can cause hypercalcemia. Therefore, the serum calcium levels are likely to be elevated, but the presence of hyperparathyroidism can also lead to increased calcitriol, which can cause hypercalcemia.\n",
      "\n",
      "The most likely serum levels would be elevated calcium, but the presence of hyperparathyroidism can also lead to increased calcitriol, which can cause hypercalcemia. Therefore, the serum calcium levels are likely to be elevated, but the presence of hyperparathyroidism can also lead to increased calcitriol, which can cause hypercalcemia.\n",
      "\n",
      "The most likely serum levels would be elevated calcium, but the presence of hyperparathyroidism can also lead to increased calcitriol, which can cause hypercalcemia. Therefore, the serum calcium levels are likely to be elevated, but the presence of hyperparathyroidism can also lead to increased calcitriol, which can cause hypercalcemia.\n",
      "\n",
      "The most likely serum levels would be elevated calcium, but the presence of hyperparathyroidism can also lead to increased calcitriol, which can cause hypercalcemia. Therefore, the serum calcium levels are likely to be elevated, but the presence of hyperparathyroidism can also lead to increased calcitriol, which can cause hypercalcemia.\n",
      "\n",
      "The most likely serum levels would be elevated calcium, but the presence of hyperparathyroidism can also lead to increased calcitriol, which can cause hypercalcemia. Therefore, the serum calcium levels are likely to be elevated, but the presence of hyperparathyroidism can also lead to increased calcitriol, which can cause hypercalcemia.\n",
      "\n",
      "The most likely serum levels would be elevated calcium, but the presence of hyperparathyroidism can also lead to increased calcitriol, which can cause hypercalcemia. Therefore, the serum calcium levels are likely to be elevated, but the presence of hyperparathyroidism can also lead to increased calcitriol, which can cause hypercalcemia.\n",
      "\n",
      "The most likely serum levels would be elevated calcium, but the presence of hyperparathyroidism can also lead to increased calcitriol, which can cause hypercalcemia. Therefore, the serum calcium levels are likely to be elevated, but the presence of hyperparathyroidism can also lead to increased calcitriol, which can cause hypercalcemia.\n",
      "\n",
      "The most likely serum levels would be elevated calcium, but the presence of hyperparathyroidism can also lead to increased calcitriol, which can cause hypercalcemia. Therefore, the serum calcium levels are likely to be elevated, but the presence of hyperparathyroidism can also lead to increased calcitriol, which can cause hypercalcemia.\n",
      "\n",
      "The most likely serum levels would be elevated calcium, but the presence of hyperparathyroidism can also lead to increased calcitriol, which can cause hypercalcemia. Therefore, the serum calcium levels are likely to be elevated, but the presence of hyperparathyroidism can also lead to increased calcitriol, which can cause hypercalcemia.\n",
      "\n",
      "The most likely serum levels would be elevated calcium, but the presence of hyperparathyroidism can also lead to increased calcitriol, which can cause hypercalcemia. Therefore, the serum calcium levels are likely to be elevated, but the presence of hyperparathyroidism can also lead to increased calcitriol, which can cause hypercalcemia.\n",
      "\n",
      "The most likely serum levels would be elevated calcium, but the presence of hyperparathyroidism can also lead to increased calcitriol, which can cause hypercalcemia. Therefore, the serum calcium levels are likely to be elevated, but the presence of hyperparathyroidism can also lead to increased calcitriol, which can cause hypercalcemia.\n",
      "\n",
      "The most likely serum levels would be elevated calcium, but the presence of hyperparathyroidism can also lead to increased calcitriol, which can cause hypercalcemia. Therefore, the serum calcium levels are likely to be elevated, but the presence of hyperparathyroidism can also lead to increased calcitriol, which can cause hypercalcemia.\n",
      "\n",
      "The most likely serum levels would be elevated calcium, but the presence of hyperparathyroidism can also lead to increased calcitriol, which can cause hypercalcemia. Therefore, the serum calcium levels are likely to be elevated, but the presence of hyperparathyroidism can also lead to increased calcitriol, which can cause hypercalcemia.\n",
      "\n",
      "The most likely serum levels would be elevated calcium, but the presence of hyperparathyroidism can also lead to increased calcitriol, which can cause hypercalcemia. Therefore, the serum calcium levels are likely to be elevated, but the presence of hyperparathyroidism can also lead to increased calcitriol, which can cause hypercalcemia.\n",
      "\n",
      "The most likely serum levels would be elevated calcium, but the presence of hyperparathyroidism can also lead to increased calcitriol, which can cause hypercalcemia. Therefore, the serum calcium levels are likely to be elevated, but the presence of hyperparathyroidism can also lead to increased calcitriol, which can cause hypercalcemia.\n",
      "\n",
      "The most likely serum levels would be elevated calcium, but the presence of hyperparathyroidism can also lead to increased calcitriol, which can cause hypercalcemia. Therefore, the serum calcium levels are likely to be elevated, but the presence of hyperparathyroidism can also lead to increased calcitriol, which can cause hypercalcemia.\n",
      "\n",
      "The most likely serum levels would be elevated calcium, but the presence of hyperparathyroidism can also lead to increased calcitriol, which can cause hypercalcemia. Therefore, the serum calcium levels are likely to be elevated, but the presence of hyperparathyroidism can also lead to increased calcitriol, which can cause hypercalcemia.\n",
      "\n",
      "The most likely serum levels would be elevated calcium, but the presence of hyperparathyroidism can also lead to increased calcitriol, which can cause hypercalcemia. Therefore, the serum calcium levels are likely to be elevated, but the presence of hyperparathyroidism can also lead to increased calcitriol, which can cause hypercalcemia.\n",
      "\n",
      "The most likely serum levels would be elevated calcium, but the presence of hyperparathyroidism can also lead to increased calcitriol, which can cause hypercalcemia. Therefore, the serum calcium levels are likely to be elevated, but the presence of hyperparathyroidism can also lead to increased calcitriol, which can cause hypercalcemia.\n",
      "\n",
      "The most likely serum levels would be elevated calcium, but the presence of hyperparathyroidism can also lead to increased calcitriol, which can cause hypercalcemia. Therefore, the serum calcium levels are likely to be elevated, but the presence of hyperparathyroidism can also lead to increased calcitriol, which can cause hypercalcemia.\n",
      "\n",
      "The most likely serum levels would be elevated calcium, but the presence of hyperparathyroidism can also lead to increased calcitriol, which can cause hypercalcemia. Therefore, the serum calcium levels are likely to be elevated, but the presence of hyperparathyroidism can also lead to increased calcitriol, which can cause hypercalcemia.\n",
      "\n",
      "The most likely serum levels would be elevated calcium, but the presence of hyperparathyroidism can also lead to increased calcitriol, which can cause hypercalcemia. Therefore, the serum calcium levels are likely to be elevated, but the presence of hyperparathyroidism can also lead to increased calcitriol, which can cause hypercalcemia.\n",
      "\n",
      "The most likely serum levels would be elevated calcium, but the presence of hyperparathyroidism can also lead to increased calcitriol, which can cause hypercalcemia. Therefore, the serum calcium levels are likely to be elevated, but the presence of hyperparathyroidism can also lead to increased calcitriol, which can cause hypercalcemia.\n",
      "\n",
      "The most likely serum levels would be elevated calcium, but the presence of hyperparathyroidism can also lead to increased calcitriol, which can cause hypercalcemia. Therefore, the serum calcium levels are likely to be elevated, but the presence of hyperparathyroidism can also lead to increased calcitriol, which can cause hypercalcemia.\n",
      "\n",
      "The most likely serum levels would be elevated calcium, but the presence of hyperparathyroidism can also lead to increased calcitriol, which can cause hypercalcemia. Therefore, the serum calcium levels are likely to be elevated, but the presence of hyperparathyroidism can also lead to increased calcitriol, which can cause hypercalcemia.\n",
      "\n",
      "The most likely serum levels would be elevated calcium, but the presence of hyperparathyroidism can also lead to increased calcitriol, which can cause hypercalcemia. Therefore, the serum calcium levels are likely to be elevated, but the presence of hyperparathyroidism can also lead to increased calcitriol, which can cause hypercalcemia.\n",
      "\n",
      "The most likely serum levels would be elevated calcium, but the presence of hyperparathyroidism can also lead to increased calcitriol, which can cause hypercalcemia. Therefore, the serum calcium levels are likely to be elevated, but the presence of hyperparathyroidism can also lead to increased calcitriol, which can cause hypercalcemia.\n",
      "\n",
      "The most likely serum levels would be elevated calcium, but the presence of hyperparathyroidism can also lead to increased calcitriol, which can cause hypercalcemia. Therefore, the serum calcium levels are likely to be elevated, but the presence of hyperparathyroidism can also lead to increased calcitriol, which can cause hypercalcemia.\n",
      "\n",
      "The most likely serum levels would be elevated calcium, but the presence of hyperparathyroidism can also lead to increased calcitriol, which can cause hypercalcemia. Therefore, the serum calcium levels are likely to be elevated, but the presence of hyperparathyroidism can also lead to increased calcitriol, which can cause hypercalcemia.\n",
      "\n",
      "The most likely serum levels would be elevated calcium, but the presence of hyperparathyroidism can also lead to increased calcitriol, which can cause hypercalcemia. Therefore, the serum calcium levels are likely to be elevated, but the presence of hyperparathyroidism can also lead to increased calcitriol, which can cause hypercalcemia.\n",
      "\n",
      "The most likely serum levels would be elevated calcium, but the presence of hyperparathyroidism can also lead to increased calcitriol, which can cause hypercalcemia. Therefore, the serum calcium levels are likely to be elevated, but the presence of hyperparathyroidism can also lead to increased calcitriol, which can cause hypercalcemia.\n",
      "\n",
      "The most likely serum levels would be elevated calcium, but the presence of hyperparathyroidism can also lead to increased calcitriol, which can cause hypercalcemia. Therefore, the serum calcium levels are likely to be elevated, but the presence of hyperparathyroidism can also lead to increased calcitriol, which can cause hypercalcemia.\n",
      "\n",
      "The most likely serum levels would be elevated calcium, but the presence of hyperparathyroidism can also lead to increased calcitriol, which can cause hypercalcemia. Therefore, the serum calcium levels are likely to be elevated, but the presence of hyperparathyroidism can also lead to increased calcitriol, which can cause hypercalcemia.\n",
      "\n",
      "The most likely serum levels would be elevated calcium, but the presence of hyperparathyroidism can also lead to increased calcitriol, which can cause hypercalcemia. Therefore, the serum calcium levels are likely to be elevated, but the presence of hyperparathyroidism can also lead to increased calcitriol, which can cause hypercalcemia.\n",
      "\n",
      "The most likely serum levels would be elevated calcium, but the presence of hyperparathyroidism can also lead to increased calcitriol, which can cause hypercalcemia. Therefore, the serum calcium levels are likely to be elevated, but the presence of hyperparathyroidism can also lead to increased calcitriol, which can cause hypercalcemia.\n",
      "\n",
      "The most likely serum levels would be elevated calcium, but the presence of hyperparathyroidism can also lead to increased calcitriol, which can cause hypercalcemia. Therefore, the serum calcium levels are likely to be elevated, but the presence of hyperparathyroidism can also lead to increased calcitriol, which can cause hypercalcemia.\n",
      "\n",
      "The most likely serum levels would be elevated calcium, but the presence of hyperparathyroidism can also lead to increased calcitriol, which can cause hypercalcemia. Therefore, the serum calcium levels are likely to be elevated, but the presence of hyperparathyroidism can also lead to increased calcitriol, which can cause hypercalcemia.\n",
      "\n",
      "The most likely serum levels would be elevated calcium, but the presence of hyperparathyroidism can also lead to increased calcitriol, which can cause hypercalcemia. Therefore, the serum calcium levels are likely to be elevated, but the presence of hyperparathyroidism can also lead to increased calcitriol, which can cause hypercalcemia.\n",
      "\n",
      "The most likely serum levels would be elevated calcium, but the presence of hyperparathyroidism can also lead to increased calcitriol, which can cause hypercalcemia. Therefore, the serum calcium levels are likely to be elevated, but the presence of hyperparathyroidism can also lead to increased calcitriol, which can cause hypercalcemia.\n",
      "\n",
      "The most likely serum levels would be elevated calcium, but the presence of hyperparathyroidism can also lead to increased calcitriol, which can cause hypercalcemia. Therefore, the serum calcium levels are likely to be elevated, but the presence of hyperparathyroidism can also lead to increased calcitriol, which can cause hypercalcemia.\n",
      "\n",
      "The most likely serum levels would be elevated calcium, but the presence of hyperparathyroidism can also lead to increased calcitriol, which can cause hypercalcemia. Therefore, the serum calcium levels are likely to be elevated, but the presence of hyperparathyroidism can also lead to increased calcitriol, which can cause hypercalcemia.\n",
      "\n",
      "The most likely serum levels would be elevated calcium, but the presence of hyperparathyroidism can also lead to increased calcitriol, which can cause hypercalcemia. Therefore, the serum calcium levels are likely to be elevated, but the presence of hyperparathyroidism can also lead to increased calcitriol, which can cause hypercalcemia.\n",
      "\n",
      "The most likely serum levels would be elevated calcium, but the presence of hyperparathyroidism can also lead to increased calcitriol, which can cause hypercalcemia. Therefore, the serum calcium levels are likely to be elevated, but the presence of hyperparathyroidism can also lead to increased calcitriol, which can cause hypercalcemia.\n",
      "\n",
      "The most likely serum levels would be elevated calcium, but the presence of hyperparathyroidism can also lead to increased calcitriol, which can cause hypercalcemia. Therefore, the serum calcium levels are likely to be elevated, but the presence of hyperparathyroidism can also lead to increased calcitriol, which can cause hypercalcemia.\n",
      "\n",
      "The most likely serum levels would be elevated calcium, but the presence of hyperparathyroidism can also lead to increased calcitriol, which can cause hypercalcemia. Therefore, the serum calcium levels are likely to be elevated, but the presence of hyperparathyroidism can also lead to increased calcitriol, which can cause hypercalcemia.\n",
      "\n",
      "The most likely serum levels would be elevated calcium, but the presence of hyper\n"
     ]
    },
    {
     "name": "stderr",
     "output_type": "stream",
     "text": [
      "\n"
     ]
    }
   ],
   "source": [
    "print(\"\\n--- Running Inference ---\")\n",
    "all_outputs_text = []\n",
    "num_batches = math.ceil(len(prompts) / BATCH_SIZE)\n",
    "\n",
    "for i in tqdm(range(num_batches), desc=\"Generating Responses\"):\n",
    "    start_idx = i * BATCH_SIZE\n",
    "    end_idx = min((i + 1) * BATCH_SIZE, len(prompts))\n",
    "    batch_prompts = prompts[start_idx:end_idx]\n",
    "    outputs = llm.generate(batch_prompts, sampling_params, use_tqdm=False)\n",
    "    batch_outputs_text = [output.outputs[0].text.strip() for output in outputs]\n",
    "    all_outputs_text.extend(batch_outputs_text)\n",
    "\n",
    "if len(all_outputs_text) > 0:\n",
    "    print(\"\\nExample Generated Text (raw):\")\n",
    "    print(all_outputs_text[0])"
   ]
  },
  {
   "cell_type": "code",
   "execution_count": 14,
   "metadata": {
    "execution": {
     "iopub.execute_input": "2025-04-13T20:37:22.878804Z",
     "iopub.status.busy": "2025-04-13T20:37:22.878260Z",
     "iopub.status.idle": "2025-04-13T20:37:22.976323Z",
     "shell.execute_reply": "2025-04-13T20:37:22.975624Z",
     "shell.execute_reply.started": "2025-04-13T20:37:22.878779Z"
    },
    "trusted": true
   },
   "outputs": [
    {
     "name": "stdout",
     "output_type": "stream",
     "text": [
      "\n",
      "--- Extracting Predictions ---\n"
     ]
    },
    {
     "name": "stderr",
     "output_type": "stream",
     "text": [
      "\n",
      "Extracting choices: 100%|██████████| 200/200 [00:00<00:00, 2246.60it/s]"
     ]
    },
    {
     "name": "stdout",
     "output_type": "stream",
     "text": [
      "Warning: Could not extract answer from text: '- Amiodarone is a diuretic that inhibits the conversion of prothrombin to thrombin.\n",
      "     - This inhi...sm of action of amiodarone is to inhibit CYP2C9, which is responsible for the conversion of prothrom'\n",
      "Warning: Could not extract answer from text: '<backing up>\n",
      "     <backing up>\n",
      "     <backing up>\n",
      "     <backing up>\n",
      "     <backing up>\n",
      "     <backing u...backing up>\n",
      "     <backing up>\n",
      "     <backing up>\n",
      "     <backing up>\n",
      "     <backing up>\n",
      "     <backing up'\n",
      "Warning: Could not extract answer from text: '- The patient's symptoms, including the pleural effusion, fatigue, and weight loss, suggest a potent... is the most common location for thoracentesis in the right upper quadrant.\n",
      "     - The thoracentesis'\n",
      "Warning: Could not extract answer from text: '<div>\n",
      "     <p>As the patient's blood pressure increases, the heart's ability to pump blood effective...d through the ventricular contractility and the ventricular filling time.</p>\n",
      "     <p>As the patient'\n",
      "Warning: Could not extract answer from text: '- The collecting ducts are the structures responsible for the collection of urine from the kidneys.\n",
      "...nal pelvises.\n",
      "     - The major and minor calyces are also responsible for the formation of the renal'\n",
      "Warning: Could not extract answer from text: '<div>\n",
      "         <div>\n",
      "             <div>\n",
      "                 <div>\n",
      "                     <div>\n",
      "          ...                         <div>\n",
      "                                 <div>\n",
      "                         <div>'\n",
      "Warning: Could not extract answer from text: '- Eosinophils are a type of white blood cell that produce MHC molecules.\n",
      "     - Mesenchymal cells ar...ic epithelial cells.\n",
      "\n",
      "The HLA-DP and HLA-DQ genes are expressed on Eosinophils.\n",
      "The HLA-DRα and HLA-'\n",
      "Warning: Could not extract answer from text: '1. The patient's clinical presentation and lab results are suggestive of a specific type of cancer.\n",
      "...entation and lab results.\n",
      "     157. The most likely chromosomal translocation is the one that aligns'\n",
      "\n",
      "------------------------------\n",
      "Number of invalid responces: 8\n",
      "\n",
      "Example Extracted Prediction:\n",
      "A\n"
     ]
    },
    {
     "name": "stderr",
     "output_type": "stream",
     "text": [
      "\n"
     ]
    }
   ],
   "source": [
    "print(\"\\n--- Extracting Predictions ---\")\n",
    "predictions = [extract_choice_mcq(text) for text in tqdm(all_outputs_text, desc=\"Extracting choices\")]\n",
    "num_invalid_responces = predictions.count(None)\n",
    "print(f\"\\n------------------------------\\nNumber of invalid responces: {num_invalid_responces}\")\n",
    "\n",
    "if len(predictions) > 0:\n",
    "    print(\"\\nExample Extracted Prediction:\")\n",
    "    print(predictions[0])"
   ]
  },
  {
   "cell_type": "code",
   "execution_count": 15,
   "metadata": {
    "execution": {
     "iopub.execute_input": "2025-04-13T20:37:25.919748Z",
     "iopub.status.busy": "2025-04-13T20:37:25.919145Z",
     "iopub.status.idle": "2025-04-13T20:37:25.949426Z",
     "shell.execute_reply": "2025-04-13T20:37:25.948834Z",
     "shell.execute_reply.started": "2025-04-13T20:37:25.919726Z"
    },
    "trusted": true
   },
   "outputs": [
    {
     "name": "stdout",
     "output_type": "stream",
     "text": [
      "\n",
      "--- Calculating Metrics ---\n"
     ]
    }
   ],
   "source": [
    "print(\"\\n--- Calculating Metrics ---\")\n",
    "correct_count = 0\n",
    "total_count = len(predictions)\n",
    "results_by_subject = {}\n",
    "\n",
    "if total_count != len(ground_truths):\n",
    "     print(f\"Warning: Mismatch between number of predictions ({total_count}) and ground truths ({len(ground_truths)}). This should not happen.\")\n",
    "     total_count = min(total_count, len(ground_truths))\n",
    "\n",
    "for i in range(total_count):\n",
    "    original_data_index = original_indices[i] if 'original_indices' in locals() else i\n",
    "    data_item = ds_medqa[original_data_index]\n",
    "    subject = data_item.get('subject_name', 'Unknown')\n",
    "\n",
    "    pred = predictions[i]\n",
    "    truth = ground_truths[i]\n",
    "    is_correct = (pred == truth)\n",
    "\n",
    "    if subject not in results_by_subject:\n",
    "        results_by_subject[subject] = {'correct': 0, 'total': 0}\n",
    "\n",
    "    if is_correct:\n",
    "        correct_count += 1\n",
    "        results_by_subject[subject]['correct'] += 1\n",
    "    results_by_subject[subject]['total'] += 1\n",
    "\n",
    "overall_accuracy = (correct_count / total_count) * 100 if total_count > 0 else 0"
   ]
  },
  {
   "cell_type": "code",
   "execution_count": 16,
   "metadata": {
    "execution": {
     "iopub.execute_input": "2025-04-13T20:37:26.391511Z",
     "iopub.status.busy": "2025-04-13T20:37:26.391151Z",
     "iopub.status.idle": "2025-04-13T20:37:26.395831Z",
     "shell.execute_reply": "2025-04-13T20:37:26.395247Z",
     "shell.execute_reply.started": "2025-04-13T20:37:26.391490Z"
    },
    "trusted": true
   },
   "outputs": [
    {
     "name": "stdout",
     "output_type": "stream",
     "text": [
      "\n",
      "--- Evaluation Results ---\n",
      "Model Evaluated: MilyaShams/DeepSeek-R1-Distill-Qwen-1.5B-medical-msft-merged\n",
      "Dataset Used: GBaker/MedQA-USMLE-4-options-hf\n",
      "Number of Questions Evaluated: 200\n",
      "Number of Correct Answers: 56\n",
      "Overall Accuracy: 28.00%\n"
     ]
    }
   ],
   "source": [
    "print(\"\\n--- Evaluation Results ---\")\n",
    "print(f\"Model Evaluated: {MODEL_NAME}\")\n",
    "print(f\"Dataset Used: {DATASET_MEDQA}\")\n",
    "print(f\"Number of Questions Evaluated: {total_count}\")\n",
    "print(f\"Number of Correct Answers: {correct_count}\")\n",
    "print(f\"Overall Accuracy: {overall_accuracy:.2f}%\")"
   ]
  },
  {
   "cell_type": "markdown",
   "metadata": {},
   "source": [
    "### 3. MMLU medical"
   ]
  },
  {
   "cell_type": "markdown",
   "metadata": {},
   "source": [
    "#### Dataset loading and preparing"
   ]
  },
  {
   "cell_type": "code",
   "execution_count": 6,
   "metadata": {
    "execution": {
     "iopub.execute_input": "2025-04-13T22:10:14.770141Z",
     "iopub.status.busy": "2025-04-13T22:10:14.769830Z",
     "iopub.status.idle": "2025-04-13T22:10:14.781465Z",
     "shell.execute_reply": "2025-04-13T22:10:14.780733Z",
     "shell.execute_reply.started": "2025-04-13T22:10:14.770117Z"
    },
    "trusted": true
   },
   "outputs": [],
   "source": [
    "SEED = 4242\n",
    "BATCH_SIZE = 4\n",
    "NUM_SAMPLES_SUBSET = 50\n",
    "NUM_SAMPLES = 200\n",
    "DATASET_MMLU = \"cais/mmlu\"\n",
    "SPLIT_MMLU = \"test\"\n",
    "\n",
    "MMLU_MEDICAL_SUBSETS = [\n",
    "    \"anatomy\",\n",
    "    \"clinical_knowledge\",\n",
    "    \"professional_medicine\",\n",
    "    \"college_biology\",\n",
    "    \"college_medicine\",\n",
    "    \"medical_genetics\",\n",
    "    \"professional_medicine\"\n",
    "]"
   ]
  },
  {
   "cell_type": "code",
   "execution_count": 7,
   "metadata": {
    "execution": {
     "iopub.execute_input": "2025-04-13T22:10:14.782915Z",
     "iopub.status.busy": "2025-04-13T22:10:14.782451Z",
     "iopub.status.idle": "2025-04-13T22:10:23.686003Z",
     "shell.execute_reply": "2025-04-13T22:10:23.685087Z",
     "shell.execute_reply.started": "2025-04-13T22:10:14.782874Z"
    },
    "trusted": true
   },
   "outputs": [
    {
     "data": {
      "application/vnd.jupyter.widget-view+json": {
       "model_id": "f4e8e026554a4fe88dc8a8fcdda3b0e4",
       "version_major": 2,
       "version_minor": 0
      },
      "text/plain": [
       "README.md:   0%|          | 0.00/53.2k [00:00<?, ?B/s]"
      ]
     },
     "metadata": {},
     "output_type": "display_data"
    },
    {
     "data": {
      "application/vnd.jupyter.widget-view+json": {
       "model_id": "f9c725e5c2ec4ccdab67024fa7312fd5",
       "version_major": 2,
       "version_minor": 0
      },
      "text/plain": [
       "dataset_infos.json:   0%|          | 0.00/138k [00:00<?, ?B/s]"
      ]
     },
     "metadata": {},
     "output_type": "display_data"
    },
    {
     "data": {
      "application/vnd.jupyter.widget-view+json": {
       "model_id": "5b62c7bd5d884436abf88297c7537993",
       "version_major": 2,
       "version_minor": 0
      },
      "text/plain": [
       "test-00000-of-00001.parquet:   0%|          | 0.00/20.1k [00:00<?, ?B/s]"
      ]
     },
     "metadata": {},
     "output_type": "display_data"
    },
    {
     "data": {
      "application/vnd.jupyter.widget-view+json": {
       "model_id": "2fe877675f1348a2b4760eedbd795007",
       "version_major": 2,
       "version_minor": 0
      },
      "text/plain": [
       "validation-00000-of-00001.parquet:   0%|          | 0.00/5.28k [00:00<?, ?B/s]"
      ]
     },
     "metadata": {},
     "output_type": "display_data"
    },
    {
     "data": {
      "application/vnd.jupyter.widget-view+json": {
       "model_id": "6ff63c5768484292b5b3262de31e8927",
       "version_major": 2,
       "version_minor": 0
      },
      "text/plain": [
       "dev-00000-of-00001.parquet:   0%|          | 0.00/3.50k [00:00<?, ?B/s]"
      ]
     },
     "metadata": {},
     "output_type": "display_data"
    },
    {
     "data": {
      "application/vnd.jupyter.widget-view+json": {
       "model_id": "d7b3ca4788044153bad60f8f096417c0",
       "version_major": 2,
       "version_minor": 0
      },
      "text/plain": [
       "Generating test split:   0%|          | 0/135 [00:00<?, ? examples/s]"
      ]
     },
     "metadata": {},
     "output_type": "display_data"
    },
    {
     "data": {
      "application/vnd.jupyter.widget-view+json": {
       "model_id": "58eda932088f47e88de3f70de36783a8",
       "version_major": 2,
       "version_minor": 0
      },
      "text/plain": [
       "Generating validation split:   0%|          | 0/14 [00:00<?, ? examples/s]"
      ]
     },
     "metadata": {},
     "output_type": "display_data"
    },
    {
     "data": {
      "application/vnd.jupyter.widget-view+json": {
       "model_id": "b993060983f644e983d2a65d280afb53",
       "version_major": 2,
       "version_minor": 0
      },
      "text/plain": [
       "Generating dev split:   0%|          | 0/5 [00:00<?, ? examples/s]"
      ]
     },
     "metadata": {},
     "output_type": "display_data"
    },
    {
     "data": {
      "application/vnd.jupyter.widget-view+json": {
       "model_id": "639d14810cb34e52b841dda16fe6d76c",
       "version_major": 2,
       "version_minor": 0
      },
      "text/plain": [
       "test-00000-of-00001.parquet:   0%|          | 0.00/40.5k [00:00<?, ?B/s]"
      ]
     },
     "metadata": {},
     "output_type": "display_data"
    },
    {
     "data": {
      "application/vnd.jupyter.widget-view+json": {
       "model_id": "70ba8656434b4864b858c50487a4630a",
       "version_major": 2,
       "version_minor": 0
      },
      "text/plain": [
       "validation-00000-of-00001.parquet:   0%|          | 0.00/7.48k [00:00<?, ?B/s]"
      ]
     },
     "metadata": {},
     "output_type": "display_data"
    },
    {
     "data": {
      "application/vnd.jupyter.widget-view+json": {
       "model_id": "fa130141003440dc96ca050d5a5d4486",
       "version_major": 2,
       "version_minor": 0
      },
      "text/plain": [
       "dev-00000-of-00001.parquet:   0%|          | 0.00/3.67k [00:00<?, ?B/s]"
      ]
     },
     "metadata": {},
     "output_type": "display_data"
    },
    {
     "data": {
      "application/vnd.jupyter.widget-view+json": {
       "model_id": "2a501d26341440159b737313b2ef0d95",
       "version_major": 2,
       "version_minor": 0
      },
      "text/plain": [
       "Generating test split:   0%|          | 0/265 [00:00<?, ? examples/s]"
      ]
     },
     "metadata": {},
     "output_type": "display_data"
    },
    {
     "data": {
      "application/vnd.jupyter.widget-view+json": {
       "model_id": "5bdc6bfde07f41e6a94c17406cc4012d",
       "version_major": 2,
       "version_minor": 0
      },
      "text/plain": [
       "Generating validation split:   0%|          | 0/29 [00:00<?, ? examples/s]"
      ]
     },
     "metadata": {},
     "output_type": "display_data"
    },
    {
     "data": {
      "application/vnd.jupyter.widget-view+json": {
       "model_id": "d7d09460dbfe4d9ea42284f6f3a55cbe",
       "version_major": 2,
       "version_minor": 0
      },
      "text/plain": [
       "Generating dev split:   0%|          | 0/5 [00:00<?, ? examples/s]"
      ]
     },
     "metadata": {},
     "output_type": "display_data"
    },
    {
     "data": {
      "application/vnd.jupyter.widget-view+json": {
       "model_id": "50978fca0ae54f6e9e32ec1b62f7f974",
       "version_major": 2,
       "version_minor": 0
      },
      "text/plain": [
       "test-00000-of-00001.parquet:   0%|          | 0.00/125k [00:00<?, ?B/s]"
      ]
     },
     "metadata": {},
     "output_type": "display_data"
    },
    {
     "data": {
      "application/vnd.jupyter.widget-view+json": {
       "model_id": "ade67d7f77c6424e9405dc134648deab",
       "version_major": 2,
       "version_minor": 0
      },
      "text/plain": [
       "validation-00000-of-00001.parquet:   0%|          | 0.00/19.9k [00:00<?, ?B/s]"
      ]
     },
     "metadata": {},
     "output_type": "display_data"
    },
    {
     "data": {
      "application/vnd.jupyter.widget-view+json": {
       "model_id": "7e73566a71b34668b43270b3e73827fb",
       "version_major": 2,
       "version_minor": 0
      },
      "text/plain": [
       "dev-00000-of-00001.parquet:   0%|          | 0.00/8.45k [00:00<?, ?B/s]"
      ]
     },
     "metadata": {},
     "output_type": "display_data"
    },
    {
     "data": {
      "application/vnd.jupyter.widget-view+json": {
       "model_id": "463ab2f5e7c64bae9d0fb957d953f2aa",
       "version_major": 2,
       "version_minor": 0
      },
      "text/plain": [
       "Generating test split:   0%|          | 0/272 [00:00<?, ? examples/s]"
      ]
     },
     "metadata": {},
     "output_type": "display_data"
    },
    {
     "data": {
      "application/vnd.jupyter.widget-view+json": {
       "model_id": "8a243c5b79534d64afc138c58fb4de04",
       "version_major": 2,
       "version_minor": 0
      },
      "text/plain": [
       "Generating validation split:   0%|          | 0/31 [00:00<?, ? examples/s]"
      ]
     },
     "metadata": {},
     "output_type": "display_data"
    },
    {
     "data": {
      "application/vnd.jupyter.widget-view+json": {
       "model_id": "f919afef230a4e1591c433f06f8483b1",
       "version_major": 2,
       "version_minor": 0
      },
      "text/plain": [
       "Generating dev split:   0%|          | 0/5 [00:00<?, ? examples/s]"
      ]
     },
     "metadata": {},
     "output_type": "display_data"
    },
    {
     "data": {
      "application/vnd.jupyter.widget-view+json": {
       "model_id": "d9b07913d7e34beaa332c5d0fdbcf095",
       "version_major": 2,
       "version_minor": 0
      },
      "text/plain": [
       "test-00000-of-00001.parquet:   0%|          | 0.00/31.8k [00:00<?, ?B/s]"
      ]
     },
     "metadata": {},
     "output_type": "display_data"
    },
    {
     "data": {
      "application/vnd.jupyter.widget-view+json": {
       "model_id": "41d91dd06f874ece972015c3d69d8654",
       "version_major": 2,
       "version_minor": 0
      },
      "text/plain": [
       "validation-00000-of-00001.parquet:   0%|          | 0.00/6.90k [00:00<?, ?B/s]"
      ]
     },
     "metadata": {},
     "output_type": "display_data"
    },
    {
     "data": {
      "application/vnd.jupyter.widget-view+json": {
       "model_id": "959f6fe082e143a7877c4db3f94f7a3f",
       "version_major": 2,
       "version_minor": 0
      },
      "text/plain": [
       "dev-00000-of-00001.parquet:   0%|          | 0.00/4.27k [00:00<?, ?B/s]"
      ]
     },
     "metadata": {},
     "output_type": "display_data"
    },
    {
     "data": {
      "application/vnd.jupyter.widget-view+json": {
       "model_id": "f5e38177cd5f413f9fafe1302bbea238",
       "version_major": 2,
       "version_minor": 0
      },
      "text/plain": [
       "Generating test split:   0%|          | 0/144 [00:00<?, ? examples/s]"
      ]
     },
     "metadata": {},
     "output_type": "display_data"
    },
    {
     "data": {
      "application/vnd.jupyter.widget-view+json": {
       "model_id": "db9784b27c8c4bb5b5b5fb4e56efca15",
       "version_major": 2,
       "version_minor": 0
      },
      "text/plain": [
       "Generating validation split:   0%|          | 0/16 [00:00<?, ? examples/s]"
      ]
     },
     "metadata": {},
     "output_type": "display_data"
    },
    {
     "data": {
      "application/vnd.jupyter.widget-view+json": {
       "model_id": "58dfe16393884cd68596c00c2c8d9840",
       "version_major": 2,
       "version_minor": 0
      },
      "text/plain": [
       "Generating dev split:   0%|          | 0/5 [00:00<?, ? examples/s]"
      ]
     },
     "metadata": {},
     "output_type": "display_data"
    },
    {
     "data": {
      "application/vnd.jupyter.widget-view+json": {
       "model_id": "9e8bccc928ef4b51b1d0d50f92227be7",
       "version_major": 2,
       "version_minor": 0
      },
      "text/plain": [
       "test-00000-of-00001.parquet:   0%|          | 0.00/42.5k [00:00<?, ?B/s]"
      ]
     },
     "metadata": {},
     "output_type": "display_data"
    },
    {
     "data": {
      "application/vnd.jupyter.widget-view+json": {
       "model_id": "44871ff116844c1da934f80a13513a19",
       "version_major": 2,
       "version_minor": 0
      },
      "text/plain": [
       "validation-00000-of-00001.parquet:   0%|          | 0.00/8.99k [00:00<?, ?B/s]"
      ]
     },
     "metadata": {},
     "output_type": "display_data"
    },
    {
     "data": {
      "application/vnd.jupyter.widget-view+json": {
       "model_id": "ca42863194fb432c84e27a7e6d69a3ca",
       "version_major": 2,
       "version_minor": 0
      },
      "text/plain": [
       "dev-00000-of-00001.parquet:   0%|          | 0.00/4.84k [00:00<?, ?B/s]"
      ]
     },
     "metadata": {},
     "output_type": "display_data"
    },
    {
     "data": {
      "application/vnd.jupyter.widget-view+json": {
       "model_id": "88ad209944514e1e862f01492a36a2ac",
       "version_major": 2,
       "version_minor": 0
      },
      "text/plain": [
       "Generating test split:   0%|          | 0/173 [00:00<?, ? examples/s]"
      ]
     },
     "metadata": {},
     "output_type": "display_data"
    },
    {
     "data": {
      "application/vnd.jupyter.widget-view+json": {
       "model_id": "493826402455460c846dd35231db738c",
       "version_major": 2,
       "version_minor": 0
      },
      "text/plain": [
       "Generating validation split:   0%|          | 0/22 [00:00<?, ? examples/s]"
      ]
     },
     "metadata": {},
     "output_type": "display_data"
    },
    {
     "data": {
      "application/vnd.jupyter.widget-view+json": {
       "model_id": "24c9897f9fae4cd291f5b772babc98d8",
       "version_major": 2,
       "version_minor": 0
      },
      "text/plain": [
       "Generating dev split:   0%|          | 0/5 [00:00<?, ? examples/s]"
      ]
     },
     "metadata": {},
     "output_type": "display_data"
    },
    {
     "data": {
      "application/vnd.jupyter.widget-view+json": {
       "model_id": "225b0097e6f04f1192b653d8b648e0fc",
       "version_major": 2,
       "version_minor": 0
      },
      "text/plain": [
       "test-00000-of-00001.parquet:   0%|          | 0.00/16.4k [00:00<?, ?B/s]"
      ]
     },
     "metadata": {},
     "output_type": "display_data"
    },
    {
     "data": {
      "application/vnd.jupyter.widget-view+json": {
       "model_id": "15e4dcd9ef0a4ba4b9328154f0253558",
       "version_major": 2,
       "version_minor": 0
      },
      "text/plain": [
       "validation-00000-of-00001.parquet:   0%|          | 0.00/5.63k [00:00<?, ?B/s]"
      ]
     },
     "metadata": {},
     "output_type": "display_data"
    },
    {
     "data": {
      "application/vnd.jupyter.widget-view+json": {
       "model_id": "ba73517ecca44d9eb874cc773e65c94b",
       "version_major": 2,
       "version_minor": 0
      },
      "text/plain": [
       "dev-00000-of-00001.parquet:   0%|          | 0.00/3.77k [00:00<?, ?B/s]"
      ]
     },
     "metadata": {},
     "output_type": "display_data"
    },
    {
     "data": {
      "application/vnd.jupyter.widget-view+json": {
       "model_id": "000d2f7db1c649378b7f9f98b94a0cee",
       "version_major": 2,
       "version_minor": 0
      },
      "text/plain": [
       "Generating test split:   0%|          | 0/100 [00:00<?, ? examples/s]"
      ]
     },
     "metadata": {},
     "output_type": "display_data"
    },
    {
     "data": {
      "application/vnd.jupyter.widget-view+json": {
       "model_id": "21e75b4ec211480dbe8b89c0958d4a60",
       "version_major": 2,
       "version_minor": 0
      },
      "text/plain": [
       "Generating validation split:   0%|          | 0/11 [00:00<?, ? examples/s]"
      ]
     },
     "metadata": {},
     "output_type": "display_data"
    },
    {
     "data": {
      "application/vnd.jupyter.widget-view+json": {
       "model_id": "1a9b15ff34554816b83c8eb2309b58c1",
       "version_major": 2,
       "version_minor": 0
      },
      "text/plain": [
       "Generating dev split:   0%|          | 0/5 [00:00<?, ? examples/s]"
      ]
     },
     "metadata": {},
     "output_type": "display_data"
    },
    {
     "data": {
      "text/plain": [
       "Dataset({\n",
       "    features: ['question', 'subject', 'choices', 'answer'],\n",
       "    num_rows: 200\n",
       "})"
      ]
     },
     "execution_count": 7,
     "metadata": {},
     "output_type": "execute_result"
    }
   ],
   "source": [
    "datasets_mmlu = []\n",
    "for subset in MMLU_MEDICAL_SUBSETS:\n",
    "    ds = load_dataset(DATASET_MMLU, subset, split=SPLIT_MMLU)\n",
    "    ds = ds.shuffle(seed=SEED).select(range(NUM_SAMPLES_SUBSET))\n",
    "    datasets_mmlu.append(ds)\n",
    "\n",
    "\n",
    "ds_mmlu = concatenate_datasets(datasets_mmlu)\n",
    "ds_mmlu = ds_mmlu.shuffle(seed=SEED).select(range(NUM_SAMPLES))\n",
    "ds_mmlu"
   ]
  },
  {
   "cell_type": "code",
   "execution_count": 8,
   "metadata": {
    "execution": {
     "iopub.execute_input": "2025-04-13T22:10:23.687409Z",
     "iopub.status.busy": "2025-04-13T22:10:23.686935Z",
     "iopub.status.idle": "2025-04-13T22:10:23.694173Z",
     "shell.execute_reply": "2025-04-13T22:10:23.693556Z",
     "shell.execute_reply.started": "2025-04-13T22:10:23.687382Z"
    },
    "trusted": true
   },
   "outputs": [
    {
     "data": {
      "text/plain": [
       "{'question': 'Mitochondria isolated and placed in a buffered solution with a low pH begin to manufacture ATP. Which of the following is the best explanation for the effect of low external pH?',\n",
       " 'subject': 'college_biology',\n",
       " 'choices': ['It increases the concentration of OH-, causing the mitochondria to pump H+ to the intermembrane space.',\n",
       "  'It increases the OH- concentration in the mitochondria matrix.',\n",
       "  'It increases the acid concentration in the mitochondria matrix.',\n",
       "  'It increases diffusion of H+ from the intermembrane space to the matrix.'],\n",
       " 'answer': 3}"
      ]
     },
     "execution_count": 8,
     "metadata": {},
     "output_type": "execute_result"
    }
   ],
   "source": [
    "ds_mmlu[0]"
   ]
  },
  {
   "cell_type": "markdown",
   "metadata": {},
   "source": [
    "#### Helper functions definition"
   ]
  },
  {
   "cell_type": "code",
   "execution_count": 9,
   "metadata": {
    "execution": {
     "iopub.execute_input": "2025-04-13T22:10:23.695188Z",
     "iopub.status.busy": "2025-04-13T22:10:23.694937Z",
     "iopub.status.idle": "2025-04-13T22:10:23.708743Z",
     "shell.execute_reply": "2025-04-13T22:10:23.708055Z",
     "shell.execute_reply.started": "2025-04-13T22:10:23.695171Z"
    },
    "trusted": true
   },
   "outputs": [],
   "source": [
    "def format_prompt_mmlu(example):\n",
    "    \"\"\"Formats a single example into a prompt for the LLM.\"\"\"\n",
    "    question = example['question']\n",
    "    options = {\n",
    "        \"A\": example['choices'][0],\n",
    "        \"B\": example['choices'][1],\n",
    "        \"C\": example['choices'][2],\n",
    "        \"D\": example['choices'][3]\n",
    "    }\n",
    "    \n",
    "    prompt = f\"\"\"\n",
    "You are an expert in solving multiple-choice questions accurately and explaining your reasoning clearly.\n",
    "Given a question and a list of answer choices (A, B, C, D), your task is to:\n",
    "1. Reason shortly about the question and answer choices to find evidances to support your answer.\n",
    "2. Identify the correct answer. Please choose the single best answer from the options provided.\n",
    "3. Output the final answer in the format: Answer: [Option Letter]\n",
    "\n",
    "Question: {question}\n",
    "Options:\n",
    "A. {options['A']}\n",
    "B. {options['B']}\n",
    "C. {options['C']}\n",
    "D. {options['D']}\n",
    "\n",
    "Reasoning:\n",
    "    \"\"\"\n",
    "    return prompt"
   ]
  },
  {
   "cell_type": "code",
   "execution_count": 10,
   "metadata": {
    "execution": {
     "iopub.execute_input": "2025-04-13T22:10:23.711746Z",
     "iopub.status.busy": "2025-04-13T22:10:23.711312Z",
     "iopub.status.idle": "2025-04-13T22:10:23.722838Z",
     "shell.execute_reply": "2025-04-13T22:10:23.722198Z",
     "shell.execute_reply.started": "2025-04-13T22:10:23.711727Z"
    },
    "trusted": true
   },
   "outputs": [],
   "source": [
    "def get_ground_truth_mmlu(example):\n",
    "    \"\"\"Maps the label to the corresponding letter.\"\"\"\n",
    "    mapping = {0: 'A', 1: 'B', 2: 'C', 3: 'D'}\n",
    "    label = example.get('answer')\n",
    "    if label is None or label not in mapping:\n",
    "        print(f\"Warning: Invalid 'cop' value found: {label} in example ID {example.get('id')}. Skipping ground truth.\")\n",
    "        return None\n",
    "    return mapping[label]"
   ]
  },
  {
   "cell_type": "markdown",
   "metadata": {},
   "source": [
    "#### Evaluation"
   ]
  },
  {
   "cell_type": "code",
   "execution_count": 11,
   "metadata": {
    "execution": {
     "iopub.execute_input": "2025-04-13T22:10:23.723740Z",
     "iopub.status.busy": "2025-04-13T22:10:23.723572Z",
     "iopub.status.idle": "2025-04-13T22:10:23.780774Z",
     "shell.execute_reply": "2025-04-13T22:10:23.780134Z",
     "shell.execute_reply.started": "2025-04-13T22:10:23.723726Z"
    },
    "trusted": true
   },
   "outputs": [
    {
     "name": "stdout",
     "output_type": "stream",
     "text": [
      "\n",
      "--- Preparing Prompts and Ground Truths ---\n"
     ]
    },
    {
     "name": "stderr",
     "output_type": "stream",
     "text": [
      "Formatting prompts: 100%|██████████| 200/200 [00:00<00:00, 8890.29it/s]\n",
      "Extracting ground truths: 100%|██████████| 200/200 [00:00<00:00, 11075.24it/s]"
     ]
    },
    {
     "name": "stdout",
     "output_type": "stream",
     "text": [
      "\n",
      "Example Prompt:\n",
      "\n",
      "You are an expert in solving multiple-choice questions accurately and explaining your reasoning clearly.\n",
      "Given a question and a list of answer choices (A, B, C, D), your task is to:\n",
      "1. Reason shortly about the question and answer choices to find evidances to support your answer.\n",
      "2. Identify the correct answer. Please choose the single best answer from the options provided.\n",
      "3. Output the final answer in the format: Answer: [Option Letter]\n",
      "\n",
      "Question: Mitochondria isolated and placed in a buffered solution with a low pH begin to manufacture ATP. Which of the following is the best explanation for the effect of low external pH?\n",
      "Options:\n",
      "A. It increases the concentration of OH-, causing the mitochondria to pump H+ to the intermembrane space.\n",
      "B. It increases the OH- concentration in the mitochondria matrix.\n",
      "C. It increases the acid concentration in the mitochondria matrix.\n",
      "D. It increases diffusion of H+ from the intermembrane space to the matrix.\n",
      "\n",
      "Reasoning:\n",
      "    \n",
      "Corresponding Ground Truth: D\n"
     ]
    },
    {
     "name": "stderr",
     "output_type": "stream",
     "text": [
      "\n"
     ]
    }
   ],
   "source": [
    "print(\"\\n--- Preparing Prompts and Ground Truths ---\")\n",
    "prompts = [format_prompt_mmlu(ex) for ex in tqdm(ds_mmlu, desc=\"Formatting prompts\")]\n",
    "ground_truths = [get_ground_truth_mmlu(ex) for ex in tqdm(ds_mmlu, desc=\"Extracting ground truths\")]\n",
    "valid_indices = [i for i, gt in enumerate(ground_truths) if gt is not None]\n",
    "\n",
    "if len(valid_indices) < len(ground_truths):\n",
    "     print(f\"Warning: {len(ground_truths) - len(valid_indices)} examples had invalid ground truths and were excluded.\")\n",
    "     prompts = [prompts[i] for i in valid_indices]\n",
    "     ground_truths = [ground_truths[i] for i in valid_indices]\n",
    "     original_indices = valid_indices\n",
    "\n",
    "if len(prompts) > 0:\n",
    "    print(\"\\nExample Prompt:\")\n",
    "    print(prompts[0])\n",
    "    print(f\"Corresponding Ground Truth: {ground_truths[0]}\")\n",
    "else:\n",
    "    print(\"No valid prompts to evaluate.\")\n",
    "    exit()"
   ]
  },
  {
   "cell_type": "code",
   "execution_count": 12,
   "metadata": {
    "execution": {
     "iopub.execute_input": "2025-04-13T22:10:23.781671Z",
     "iopub.status.busy": "2025-04-13T22:10:23.781435Z",
     "iopub.status.idle": "2025-04-13T22:51:31.590778Z",
     "shell.execute_reply": "2025-04-13T22:51:31.589950Z",
     "shell.execute_reply.started": "2025-04-13T22:10:23.781652Z"
    },
    "trusted": true
   },
   "outputs": [
    {
     "name": "stdout",
     "output_type": "stream",
     "text": [
      "\n",
      "--- Running Inference ---\n"
     ]
    },
    {
     "name": "stderr",
     "output_type": "stream",
     "text": [
      "Generating Responses: 100%|██████████| 50/50 [41:07<00:00, 49.36s/it]"
     ]
    },
    {
     "name": "stdout",
     "output_type": "stream",
     "text": [
      "\n",
      "Example Generated Text (raw):\n",
      "- The mitochondrial matrix is a protonic environment.\n",
      "     - The mitochondrial matrix is a protonic environment.\n",
      "     - The mitochondrial matrix is a protonic environment.\n",
      "     - The mitochondrial matrix is a protonic environment.\n",
      "     - The mitochondrial matrix is a protonic environment.\n",
      "     - The mitochondrial matrix is a protonic environment.\n",
      "     - The mitochondrial matrix is a protonic environment.\n",
      "     - The mitochondrial matrix is a protonic environment.\n",
      "     - The mitochondrial matrix is a protonic environment.\n",
      "     - The mitochondrial matrix is a protonic environment.\n",
      "     - The mitochondrial matrix is a protonic environment.\n",
      "     - The mitochondrial matrix is a protonic environment.\n",
      "     - The mitochondrial matrix is a protonic environment.\n",
      "     - The mitochondrial matrix is a protonic environment.\n",
      "     - The mitochondrial matrix is a protonic environment.\n",
      "     - The mitochondrial matrix is a protonic environment.\n",
      "     - The mitochondrial matrix is a protonic environment.\n",
      "     - The mitochondrial matrix is a protonic environment.\n",
      "     - The mitochondrial matrix is a protonic environment.\n",
      "     - The mitochondrial matrix is a protonic environment.\n",
      "     - The mitochondrial matrix is a protonic environment.\n",
      "     - The mitochondrial matrix is a protonic environment.\n",
      "     - The mitochondrial matrix is a protonic environment.\n",
      "     - The mitochondrial matrix is a protonic environment.\n",
      "     - The mitochondrial matrix is a protonic environment.\n",
      "     - The mitochondrial matrix is a protonic environment.\n",
      "     - The mitochondrial matrix is a protonic environment.\n",
      "     - The mitochondrial matrix is a protonic environment.\n",
      "     - The mitochondrial matrix is a protonic environment.\n",
      "     - The mitochondrial matrix is a protonic environment.\n",
      "     - The mitochondrial matrix is a protonic environment.\n",
      "     - The mitochondrial matrix is a protonic environment.\n",
      "     - The mitochondrial matrix is a protonic environment.\n",
      "     - The mitochondrial matrix is a protonic environment.\n",
      "     - The mitochondrial matrix is a protonic environment.\n",
      "     - The mitochondrial matrix is a protonic environment.\n",
      "     - The mitochondrial matrix is a protonic environment.\n",
      "     - The mitochondrial matrix is a protonic environment.\n",
      "     - The mitochondrial matrix is a protonic environment.\n",
      "     - The mitochondrial matrix is a protonic environment.\n",
      "     - The mitochondrial matrix is a protonic environment.\n",
      "     - The mitochondrial matrix is a protonic environment.\n",
      "     - The mitochondrial matrix is a protonic environment.\n",
      "     - The mitochondrial matrix is a protonic environment.\n",
      "     - The mitochondrial matrix is a protonic environment.\n",
      "     - The mitochondrial matrix is a protonic environment.\n",
      "     - The mitochondrial matrix is a protonic environment.\n",
      "     - The mitochondrial matrix is a protonic environment.\n",
      "     - The mitochondrial matrix is a protonic environment.\n",
      "     - The mitochondrial matrix is a protonic environment.\n",
      "     - The mitochondrial matrix is a protonic environment.\n",
      "     - The mitochondrial matrix is a protonic environment.\n",
      "     - The mitochondrial matrix is a protonic environment.\n",
      "     - The mitochondrial matrix is a protonic environment.\n",
      "     - The mitochondrial matrix is a protonic environment.\n",
      "     - The mitochondrial matrix is a protonic environment.\n",
      "     - The mitochondrial matrix is a protonic environment.\n",
      "     - The mitochondrial matrix is a protonic environment.\n",
      "     - The mitochondrial matrix is a protonic environment.\n",
      "     - The mitochondrial matrix is a protonic environment.\n",
      "     - The mitochondrial matrix is a protonic environment.\n",
      "     - The mitochondrial matrix is a protonic environment.\n",
      "     - The mitochondrial matrix is a protonic environment.\n",
      "     - The mitochondrial matrix is a protonic environment.\n",
      "     - The mitochondrial matrix is a protonic environment.\n",
      "     - The mitochondrial matrix is a protonic environment.\n",
      "     - The mitochondrial matrix is a protonic environment.\n",
      "     - The mitochondrial matrix is a protonic environment.\n",
      "     - The mitochondrial matrix is a protonic environment.\n",
      "     - The mitochondrial matrix is a protonic environment.\n",
      "     - The mitochondrial matrix is a protonic environment.\n",
      "     - The mitochondrial matrix is a protonic environment.\n",
      "     - The mitochondrial matrix is a protonic environment.\n",
      "     - The mitochondrial matrix is a protonic environment.\n",
      "     - The mitochondrial matrix is a protonic environment.\n",
      "     - The mitochondrial matrix is a protonic environment.\n",
      "     - The mitochondrial matrix is a protonic environment.\n",
      "     - The mitochondrial matrix is a protonic environment.\n",
      "     - The mitochondrial matrix is a protonic environment.\n",
      "     - The mitochondrial matrix is a protonic environment.\n",
      "     - The mitochondrial matrix is a protonic environment.\n",
      "     - The mitochondrial matrix is a protonic environment.\n",
      "     - The mitochondrial matrix is a protonic environment.\n",
      "     - The mitochondrial matrix is a protonic environment.\n",
      "     - The mitochondrial matrix is a protonic environment.\n",
      "     - The mitochondrial matrix is a protonic environment.\n",
      "     - The mitochondrial matrix is a protonic environment.\n",
      "     - The mitochondrial matrix is a protonic environment.\n",
      "     - The mitochondrial matrix is a protonic environment.\n",
      "     - The mitochondrial matrix is a protonic environment.\n",
      "     - The mitochondrial matrix is a protonic environment.\n",
      "     - The mitochondrial matrix is a protonic environment.\n",
      "     - The mitochondrial matrix is a protonic environment.\n",
      "     - The mitochondrial matrix is a protonic environment.\n",
      "     - The mitochondrial matrix is a protonic environment.\n",
      "     - The mitochondrial matrix is a protonic environment.\n",
      "     - The mitochondrial matrix is a protonic environment.\n",
      "     - The mitochondrial matrix is a protonic environment.\n",
      "     - The mitochondrial matrix is a protonic environment.\n",
      "     - The mitochondrial matrix is a protonic environment.\n",
      "     - The mitochondrial matrix is a protonic environment.\n",
      "     - The mitochondrial matrix is a protonic environment.\n",
      "     - The mitochondrial matrix is a protonic environment.\n",
      "     - The mitochondrial matrix is a protonic environment.\n",
      "     - The mitochondrial matrix is a protonic environment.\n",
      "     - The mitochondrial matrix is a protonic environment.\n",
      "     - The mitochondrial matrix is a protonic environment.\n",
      "     - The mitochondrial matrix is a protonic environment.\n",
      "     - The mitochondrial matrix is a protonic environment.\n",
      "     - The mitochondrial matrix is a protonic environment.\n",
      "     - The mitochondrial matrix is a protonic environment.\n",
      "     - The mitochondrial matrix is a protonic environment.\n",
      "     - The mitochondrial matrix is a protonic environment.\n",
      "     - The mitochondrial matrix is a protonic environment.\n",
      "     - The mitochondrial matrix is a protonic environment.\n",
      "     - The mitochondrial matrix is a protonic environment.\n",
      "     - The mitochondrial matrix is a protonic environment.\n",
      "     - The mitochondrial matrix is a protonic environment.\n",
      "     - The mitochondrial matrix is a protonic environment.\n",
      "     - The mitochondrial matrix is a protonic environment.\n",
      "     - The mitochondrial matrix is a protonic environment.\n",
      "     - The mitochondrial matrix is a protonic environment.\n",
      "     - The mitochondrial matrix is a protonic environment.\n",
      "     - The mitochondrial matrix is a protonic environment.\n",
      "     - The mitochondrial matrix is a protonic environment.\n",
      "     - The mitochondrial matrix is a protonic environment.\n",
      "     - The mitochondrial matrix is a protonic environment.\n",
      "     - The mitochondrial matrix is a protonic environment.\n",
      "     - The mitochondrial matrix is a protonic environment.\n",
      "     - The mitochondrial matrix is a protonic environment.\n",
      "     - The mitochondrial matrix is a protonic environment.\n",
      "     - The mitochondrial matrix is a protonic environment.\n",
      "     - The mitochondrial matrix is a protonic environment.\n",
      "     - The mitochondrial matrix is a protonic environment.\n",
      "     - The mitochondrial matrix is a protonic environment.\n",
      "     - The mitochondrial matrix is a protonic environment.\n",
      "     - The mitochondrial matrix is a protonic environment.\n",
      "     - The mitochondrial matrix is a protonic environment.\n",
      "     - The mitochondrial matrix is a protonic environment.\n",
      "     - The mitochondrial matrix is a protonic environment.\n",
      "     - The mitochondrial matrix is a protonic environment.\n",
      "     - The mitochondrial matrix is a protonic environment.\n",
      "     - The mitochondrial matrix is a protonic environment.\n",
      "     - The mitochondrial matrix is a protonic environment.\n",
      "     - The mitochondrial matrix is a protonic environment.\n",
      "     - The mitochondrial matrix is a protonic environment.\n",
      "     - The mitochondrial matrix is a protonic environment.\n",
      "     - The mitochondrial matrix is a protonic environment.\n",
      "     - The mitochondrial matrix is a protonic environment.\n",
      "     - The mitochondrial matrix is a protonic environment.\n",
      "     - The mitochondrial matrix is a protonic environment.\n",
      "     - The mitochondrial matrix is a protonic environment.\n",
      "     - The mitochondrial matrix is a protonic environment.\n",
      "     - The mitochondrial matrix is a protonic environment.\n",
      "     - The mitochondrial matrix is a protonic environment.\n",
      "     - The mitochondrial matrix is a protonic environment.\n",
      "     - The mitochondrial matrix is a protonic environment.\n",
      "     - The mitochondrial matrix is a protonic environment.\n",
      "     - The mitochondrial matrix is a protonic environment.\n",
      "     - The mitochondrial matrix is a protonic environment.\n",
      "     - The mitochondrial matrix is a protonic environment.\n",
      "     - The mitochondrial matrix is a protonic environment.\n",
      "     - The mitochondrial matrix is a protonic environment.\n",
      "     - The mitochondrial matrix is a protonic environment.\n",
      "     - The mitochondrial matrix is a protonic environment.\n",
      "     - The mitochondrial matrix is a protonic environment.\n",
      "     - The mitochondrial matrix is a protonic environment.\n",
      "     - The mitochondrial matrix is a protonic environment.\n",
      "     - The mitochondrial matrix is a protonic environment.\n",
      "     - The mitochondrial matrix is a protonic environment.\n",
      "     - The mitochondrial matrix is a protonic environment.\n",
      "     - The mitochondrial matrix is a protonic environment.\n",
      "     - The mitochondrial matrix is a protonic environment.\n",
      "     - The mitochondrial matrix is a protonic environment.\n",
      "     - The mitochondrial matrix is a protonic environment.\n",
      "     - The mitochondrial matrix is a protonic environment.\n",
      "     - The mitochondrial matrix is a protonic environment.\n",
      "     - The mitochondrial matrix is a protonic environment.\n",
      "     - The mitochondrial matrix is a protonic environment.\n",
      "     - The mitochondrial matrix is a protonic environment.\n",
      "     - The mitochondrial matrix is a protonic environment.\n",
      "     - The mitochondrial matrix is a protonic environment.\n",
      "     - The mitochondrial matrix is a protonic environment.\n",
      "     - The mitochondrial matrix is a protonic environment.\n",
      "     - The mitochondrial matrix is a protonic environment.\n",
      "     - The mitochondrial matrix is a protonic environment.\n",
      "     - The mitochondrial matrix is a protonic environment.\n",
      "     - The mitochondrial matrix is a protonic environment.\n",
      "     - The mitochondrial matrix is a protonic environment.\n",
      "     - The mitochondrial matrix is a protonic environment.\n",
      "     - The mitochondrial matrix is a protonic environment.\n",
      "     - The mitochondrial matrix is a protonic environment.\n",
      "     - The mitochondrial matrix is a protonic environment.\n",
      "     - The mitochondrial matrix is a protonic environment.\n",
      "     - The mitochondrial matrix is a protonic environment.\n",
      "     - The mitochondrial matrix is a protonic environment.\n",
      "     - The mitochondrial matrix is a protonic environment.\n",
      "     - The mitochondrial matrix is a protonic environment.\n",
      "     - The mitochondrial matrix is a protonic environment.\n",
      "     - The mitochondrial matrix is a protonic environment.\n",
      "     - The mitochondrial matrix is a protonic environment.\n",
      "     - The mitochondrial matrix is a protonic environment.\n",
      "     - The mitochondrial matrix is a protonic environment.\n",
      "     - The mitochondrial matrix is a protonic environment.\n",
      "     - The mitochondrial matrix is a protonic environment.\n",
      "     - The mitochondrial matrix is a protonic environment.\n",
      "     - The mitochondrial matrix is a protonic environment.\n",
      "     - The mitochondrial matrix is a protonic environment.\n",
      "     - The mitochondrial matrix is a protonic environment.\n",
      "     - The mitochondrial matrix is a protonic environment.\n",
      "     - The mitochondrial matrix is a protonic environment.\n",
      "     - The mitochondrial matrix is a protonic environment.\n",
      "     - The mitochondrial matrix is a protonic environment.\n",
      "     - The mitochondrial matrix is a protonic environment.\n",
      "     - The mitochondrial matrix is a protonic environment.\n",
      "     - The mitochondrial matrix is a protonic environment.\n",
      "     - The mitochondrial matrix is a protonic environment.\n",
      "     - The mitochondrial matrix is a protonic environment.\n",
      "     - The mitochondrial matrix is a protonic environment.\n",
      "     - The mitochondrial matrix is a protonic environment.\n",
      "     - The mitochondrial matrix is a protonic environment.\n",
      "     - The mitochondrial matrix is a protonic environment.\n",
      "     - The mitochondrial matrix is a protonic environment.\n",
      "     - The mitochondrial matrix is a protonic environment.\n",
      "     - The mitochondrial matrix is a protonic environment.\n",
      "     - The mitochondrial matrix is a protonic environment.\n",
      "     - The mitochondrial matrix is a protonic environment.\n",
      "     - The mitochondrial matrix is a protonic environment.\n",
      "     - The mitochondrial matrix is a protonic environment.\n",
      "     - The mitochondrial matrix is a protonic environment.\n",
      "     - The mitochondrial matrix is a protonic environment.\n",
      "     - The mitochondrial matrix is a protonic environment.\n",
      "     - The mitochondrial matrix is a protonic environment.\n",
      "     - The mitochondrial matrix is a protonic environment.\n",
      "     - The mitochondrial matrix is a protonic environment.\n",
      "     - The mitochondrial matrix is a protonic environment.\n",
      "     - The mitochondrial matrix is a protonic environment.\n",
      "     - The mitochondrial matrix is a protonic environment.\n",
      "     - The mitochondrial matrix is a protonic environment.\n",
      "     - The mitochondrial matrix is a protonic environment.\n",
      "     - The mitochondrial matrix is a protonic environment.\n",
      "     - The mitochondrial matrix is a protonic environment.\n",
      "     - The mitochondrial matrix is a protonic environment.\n",
      "     - The mitochondrial matrix is a protonic environment.\n",
      "     - The mitochondrial matrix is a protonic environment.\n",
      "     - The mitochondrial matrix is a protonic environment.\n",
      "     - The mitochondrial matrix is a protonic environment.\n",
      "     - The mitochondrial matrix is a protonic environment.\n",
      "     - The mitochondrial matrix is a protonic environment.\n",
      "     - The mitochondrial matrix is a protonic environment.\n",
      "     - The mitochondrial matrix is a protonic environment.\n",
      "     - The mitochondrial matrix is a protonic environment.\n",
      "     - The mitochondrial matrix is a protonic environment.\n",
      "     - The mitochondrial matrix is a protonic environment.\n",
      "     - The mitochondrial matrix is a protonic environment.\n",
      "     - The mitochondrial matrix is a protonic environment.\n",
      "     - The mitochondrial matrix is a protonic environment.\n",
      "     - The mitochondrial matrix is a protonic environment.\n",
      "     - The mitochondrial matrix is a protonic environment.\n",
      "     - The mitochondrial matrix is a protonic environment.\n",
      "     - The mitochondrial matrix is a protonic environment.\n",
      "     - The mitochondrial matrix is a protonic environment.\n",
      "     - The mitochondrial matrix is a protonic environment.\n",
      "     - The mitochondrial matrix is a protonic environment.\n",
      "     - The mitochondrial matrix is a protonic environment.\n",
      "     - The mitochondrial matrix is a protonic environment.\n",
      "     - The mitochondrial matrix is a protonic environment.\n",
      "     - The mitochondrial matrix is a protonic environment.\n",
      "     - The mitochondrial matrix is a protonic environment.\n",
      "     - The mitochondrial matrix is a protonic environment.\n",
      "     - The mitochondrial matrix is a protonic environment.\n",
      "     - The mitochondrial matrix is a protonic environment.\n",
      "     - The mitochondrial matrix is a protonic environment.\n",
      "     - The mitochondrial matrix is a protonic environment.\n",
      "     - The mitochondrial matrix is a protonic environment.\n",
      "     - The mitochondrial matrix is a protonic environment.\n",
      "     - The mitochondrial matrix is a protonic environment.\n",
      "     - The mitochondrial matrix is a protonic environment.\n",
      "     - The mitochondrial matrix is a protonic environment.\n",
      "     - The mitochondrial matrix is a protonic environment.\n",
      "     - The mitochondrial matrix is a protonic environment.\n",
      "     - The mitochondrial matrix is a protonic environment.\n",
      "     - The mitochondrial matrix is a protonic environment.\n",
      "     - The mitochondrial matrix is a protonic environment.\n",
      "     - The mitochondrial matrix is a protonic environment.\n",
      "     - The mitochondrial matrix is a protonic environment.\n",
      "     - The mitochondrial matrix is a protonic environment.\n",
      "     - The mitochondrial matrix is a protonic environment.\n",
      "     - The mitochondrial matrix is a protonic environment.\n",
      "     - The mitochondrial matrix is a protonic environment.\n",
      "     - The mitochondrial matrix is a protonic environment.\n",
      "     - The mitochondrial matrix is a protonic environment.\n",
      "     - The mitochondrial matrix is a protonic environment.\n",
      "     - The mitochondrial matrix is a protonic environment.\n",
      "     - The mitochondrial matrix is a protonic environment.\n",
      "     - The mitochondrial matrix is a protonic environment.\n",
      "     - The mitochondrial matrix is a protonic environment.\n",
      "     - The mitochondrial matrix is a protonic environment.\n",
      "     - The mitochondrial matrix is a protonic environment.\n",
      "     - The mitochondrial matrix is a protonic environment.\n",
      "     - The mitochondrial matrix is a protonic environment.\n",
      "     - The mitochondrial matrix is a protonic environment.\n",
      "     - The mitochondrial matrix is a protonic environment.\n",
      "     - The mitochondrial matrix is a protonic environment.\n",
      "     - The mitochondrial matrix is a protonic environment.\n",
      "     - The mitochondrial matrix is a protonic environment.\n",
      "     - The mitochondrial matrix is a protonic environment.\n",
      "     - The mitochondrial matrix is a protonic environment.\n",
      "     - The mitochondrial matrix is a protonic environment.\n",
      "     - The mitochondrial matrix is a protonic environment.\n",
      "     - The mitochondrial matrix is a protonic environment.\n",
      "     - The mitochondrial matrix is a protonic environment.\n",
      "     - The mitochondrial matrix is a protonic environment.\n",
      "     - The mitochondrial matrix is a protonic environment.\n",
      "     - The mitochondrial matrix is a protonic environment.\n",
      "     - The mitochondrial matrix is a protonic environment.\n",
      "     - The mitochondrial matrix is a protonic environment.\n",
      "     - The mitochondrial matrix is a protonic environment.\n",
      "     - The mitochondrial matrix is a protonic environment.\n",
      "     - The mitochondrial matrix is a protonic environment.\n",
      "     - The mitochondrial matrix is a protonic environment.\n",
      "     - The mitochondrial matrix is a protonic environment.\n",
      "     - The mitochondrial matrix is a protonic environment.\n",
      "     - The mitochondrial matrix is a protonic environment.\n",
      "     - The mitochondrial matrix is a protonic environment.\n",
      "     - The mitochondrial matrix is a protonic environment.\n",
      "     - The mitochondrial matrix is a protonic environment.\n",
      "     - The mitochondrial matrix is a protonic environment.\n",
      "     - The mitochondrial matrix is a protonic environment.\n",
      "     - The mitochondrial matrix is a protonic environment.\n",
      "     - The mitochondrial matrix is a protonic environment.\n",
      "     - The mitochondrial matrix is a protonic environment.\n",
      "     - The mitochondrial matrix is a protonic environment.\n",
      "     - The mitochondrial matrix is a protonic environment.\n",
      "     - The mitochondrial matrix is a protonic environment.\n",
      "     - The mitochondrial matrix is a protonic environment.\n",
      "     - The mitochondrial matrix is a protonic environment.\n",
      "     - The mitochondrial matrix is a protonic environment.\n",
      "     - The mitochondrial matrix is a protonic environment.\n",
      "     - The mitochondrial matrix is a protonic environment.\n",
      "     - The mitochondrial matrix is a protonic environment.\n",
      "     - The mitochondrial matrix is a protonic environment.\n",
      "     - The mitochondrial matrix is a protonic environment.\n",
      "     - The mitochondrial matrix is a protonic environment.\n",
      "     - The mitochondrial matrix is a protonic environment.\n",
      "     - The mitochondrial matrix is a protonic environment.\n",
      "     - The mitochondrial matrix is a protonic environment.\n",
      "     - The mitochondrial matrix is a protonic environment.\n",
      "     - The mitochondrial matrix is a protonic environment.\n",
      "     - The mitochondrial matrix is a protonic environment.\n",
      "     - The mitochondrial matrix is a protonic environment.\n",
      "     - The mitochondrial matrix is a protonic environment.\n",
      "     - The mitochondrial matrix is a protonic environment.\n",
      "     - The mitochondrial matrix is a protonic environment.\n",
      "     - The mitochondrial matrix is a protonic environment.\n",
      "     - The mitochondrial matrix is a protonic environment.\n",
      "     - The mitochondrial matrix is a protonic environment.\n",
      "     - The mitochondrial matrix is a protonic environment.\n",
      "     - The mitochondrial matrix is a protonic environment.\n",
      "     - The mitochondrial matrix is a protonic environment.\n",
      "     - The mitochondrial matrix is a protonic environment.\n",
      "     - The mitochondrial matrix is a protonic environment.\n",
      "     - The mitochondrial matrix is a protonic environment.\n",
      "     - The mitochondrial matrix is a protonic environment.\n",
      "     - The mitochondrial matrix is a protonic environment.\n",
      "     - The mitochondrial matrix is a protonic environment.\n",
      "     - The mitochondrial matrix is a protonic environment.\n",
      "     - The mitochondrial matrix is a protonic environment.\n",
      "     - The mitochondrial matrix is a protonic environment.\n",
      "     - The mitochondrial matrix is a protonic environment.\n",
      "     - The mitochondrial matrix is a protonic environment.\n",
      "     - The mitochondrial matrix is a protonic environment.\n",
      "     - The mitochondrial matrix\n"
     ]
    },
    {
     "name": "stderr",
     "output_type": "stream",
     "text": [
      "\n"
     ]
    }
   ],
   "source": [
    "print(\"\\n--- Running Inference ---\")\n",
    "all_outputs_text = []\n",
    "num_batches = math.ceil(len(prompts) / BATCH_SIZE)\n",
    "\n",
    "for i in tqdm(range(num_batches), desc=\"Generating Responses\"):\n",
    "    start_idx = i * BATCH_SIZE\n",
    "    end_idx = min((i + 1) * BATCH_SIZE, len(prompts))\n",
    "    batch_prompts = prompts[start_idx:end_idx]\n",
    "    outputs = llm.generate(batch_prompts, sampling_params, use_tqdm=False)\n",
    "    batch_outputs_text = [output.outputs[0].text.strip() for output in outputs]\n",
    "    all_outputs_text.extend(batch_outputs_text)\n",
    "\n",
    "if len(all_outputs_text) > 0:\n",
    "    print(\"\\nExample Generated Text (raw):\")\n",
    "    print(all_outputs_text[0])"
   ]
  },
  {
   "cell_type": "code",
   "execution_count": 13,
   "metadata": {
    "execution": {
     "iopub.execute_input": "2025-04-13T22:51:31.592102Z",
     "iopub.status.busy": "2025-04-13T22:51:31.591780Z",
     "iopub.status.idle": "2025-04-13T22:51:31.677794Z",
     "shell.execute_reply": "2025-04-13T22:51:31.677130Z",
     "shell.execute_reply.started": "2025-04-13T22:51:31.592074Z"
    },
    "trusted": true
   },
   "outputs": [
    {
     "name": "stdout",
     "output_type": "stream",
     "text": [
      "\n",
      "--- Extracting Predictions ---\n"
     ]
    },
    {
     "name": "stderr",
     "output_type": "stream",
     "text": [
      "Extracting choices: 100%|██████████| 200/200 [00:00<00:00, 2561.63it/s]"
     ]
    },
    {
     "name": "stdout",
     "output_type": "stream",
     "text": [
      "Warning: Could not extract answer from text: '- The mitochondrial matrix is a protonic environment.\n",
      "     - The mitochondrial matrix is a protonic ...ironment.\n",
      "     - The mitochondrial matrix is a protonic environment.\n",
      "     - The mitochondrial matrix'\n",
      "Warning: Could not extract answer from text: '- In a ventricular septal defect, the right ventricle is larger than the left ventricle.\n",
      "     - The ...a.\n",
      "     - The left ventricle is more efficient at pumping blood, so it can pump more blood with less'\n",
      "Warning: Could not extract answer from text: '- In the process of translation, the ribosome is essential for the assembly of the polypeptide chain...sizing the polypeptide chain.\n",
      "     - The DNA is the template for the translation process.\n",
      "     - The'\n",
      "Warning: Could not extract answer from text: '- Galactose metabolism is impaired, leading to high blood ammonia.\n",
      "     - Hurler's syndrome is cause...anine, not ornithine.\n",
      "     - Galactose metabolism is impaired, leading to high blood ammonia.\n",
      "     -'\n",
      "Warning: Could not extract answer from text: '- David is a perfectionist and always compares himself to better players.\n",
      "     - He is very hard on ...as an internal locus of control.\n",
      "     - He is a perfectionist, so he likely has an external locus of'\n",
      "Warning: Could not extract answer from text: '- Duodenal atresia is a condition where the duodenum is absent, which is a known genetic condition.\n",
      "...ns, the answer is that none of the options raise suspicion of a chromosome abnormality. However, the'\n",
      "Warning: Could not extract answer from text: '- In the process of translation, the ribosome is essential for the assembly of the polypeptide chain...sizing the polypeptide chain.\n",
      "     - The DNA is the template for the translation process.\n",
      "     - The'\n",
      "Warning: Could not extract answer from text: '- The primary motor cortex is responsible for controlling the movement of the limbs.\n",
      "     - It is lo...or the bilateral contraction of the contralateral muscle.\n",
      "     - It is responsible for the bilateral'\n",
      "Warning: Could not extract answer from text: '- The epididymis is the male reproductive gland, located in the bladder.\n",
      "     - The prostate is a gl...ctum.\n",
      "     - The seminal vesicle is a structure located in the urethra.\n",
      "     - The epididymis is the'\n",
      "Warning: Could not extract answer from text: '- IgA is a class of antibodies that are not present in the plasma.\n",
      "     - IgD is a class of antibodi...s a class of antibodies that are not present in the plasma.\n",
      "     - IgD is a class of antibodies that'\n",
      "Warning: Could not extract answer from text: '- The patient has a severe blunt trauma to the left upper abdomen.\n",
      "     - The left upper abdomen is ...it is the most likely site of trauma to the spleen.\n",
      "     - The splenic vein is the most common blood'\n",
      "Warning: Could not extract answer from text: '- The mandibular canal is the primary structure for the teeth and is visible on a dental panoramic r...e on a dental panoramic radiograph.\n",
      "     - The mandibular canal, maxillary sinus, hard palate, and z'\n",
      "Warning: Could not extract answer from text: '- The urea cycle is a series of reactions that occur in the cell's inner mitochondrial membrane, and...e enzyme succinate dehydrogenase.\n",
      "     - The conversion of fumarate to oxaloacetate is a key step in'\n",
      "Warning: Could not extract answer from text: 'Cerebrospinal fluid (CSF) is a fluid that circulates in the brain and is essential for maintaining b...the brain from external forces and providing a protective barrier to the brain. The pia mater is the'\n",
      "Warning: Could not extract answer from text: '- Performance enhancing synthetic steroids are designed to enhance the performance of the human body...rmone that is most likely to be used to produce these synthetic steroids is the hormone that is most'\n",
      "Warning: Could not extract answer from text: '- α-thalassaemia is a genetic disorder characterized by the accumulation of a specific protein.\n",
      "    ... type of mutation.\n",
      "     - Point mutations are not a type of mutation.\n",
      "     - Point mutations are not'\n",
      "Warning: Could not extract answer from text: '- H2O(l) has a higher density than H2O(s).\n",
      "     - H2O(l) has a lower density than H2O(s).\n",
      "     - H2O...than H2O(s).\n",
      "     - H2O(l) has a lower entropy of fusion than H2O(s).\n",
      "     - H2O(l) has a higher ent'\n",
      "Warning: Could not extract answer from text: '- The question asks about a publication that Your guide to the NHS is written for.\n",
      "     - The phrase...'Your guide to the NHS' might be a specific reference to a particular publication, perhaps a book or'\n",
      "Warning: Could not extract answer from text: '- The body's blood glucose levels are regulated by insulin and glucagon.\n",
      "     - Insulin is released ...\n",
      "     - The body's blood glucose levels are maintained by the body's own mechanisms, such as insulin'\n",
      "Warning: Could not extract answer from text: '- The ovum is located in the uterus.\n",
      "     - The spermatozoon is located in the fallopian tube.\n",
      "     ...structure that contains the egg.\n",
      "     - The fallopian tube is the structure that contains the sperm.'\n",
      "Warning: Could not extract answer from text: '- In males, the X chromosome is the only chromosome that can carry the gene for a trait.\n",
      "     - In f...ant.\n",
      "     - When a trait is inherited from the Y chromosome, it is called X-linked recessive.\n",
      "     -'\n",
      "Warning: Could not extract answer from text: '- The diaphragm is a structure that separates the thoracic and abdominal cavity.\n",
      "     - The diaphrag...aphragm separates the thoracic and abdominal cavity.\n",
      "     - The diaphragm separates the thoracic and'\n",
      "Warning: Could not extract answer from text: '- The appendix is a large, enclosed space in the abdomen.\n",
      "     - The gallbladder is a small, enclose...domen.\n",
      "     - The lymphoid organs are the large, enclosed spaces in the abdomen.\n",
      "     - The lymphoid'\n",
      "Warning: Could not extract answer from text: '- The midbrain is a part of the cerebellum, not the brainstem.\n",
      "     - The pons is a part of the cere...llum is the part of the brainstem that contains the vital centers.\n",
      "     - The cerebellum is the part'\n",
      "Warning: Could not extract answer from text: '- The 5’ cap is a short sequence of nucleotides that is added to the beginning of the RNA transcript...the 5’ cap.\n",
      "     - The 3’ cap is also called the 3’ cap.\n",
      "     - The 5’ cap is also called the 5’ cap'\n",
      "Warning: Could not extract answer from text: '- G0 phase is a period of rest and growth in cells.\n",
      "     - G2 phase is the second phase of mitosis, ...occurs.\n",
      "     - S phase is the phase of DNA synthesis, where DNA polymerase synthesizes DNA.\n",
      "     - M'\n",
      "Warning: Could not extract answer from text: '- The patient's neck is being extended against resistance, which would test the patient's ability to...e patient's shoulders are being lifted without impairment, which would test the patient's ability to'\n",
      "Warning: Could not extract answer from text: '- The foramen ovale is the largest foramen in the skull.\n",
      "     - The rotundum is the largest foramen ...rgest foramen in the skull.\n",
      "     - The sphenoid bone is the largest foramen in the skull.\n",
      "     - The'\n",
      "\n",
      "------------------------------\n",
      "Number of invalid responces: 28\n",
      "\n",
      "Example Extracted Prediction:\n",
      "None\n"
     ]
    },
    {
     "name": "stderr",
     "output_type": "stream",
     "text": [
      "\n"
     ]
    }
   ],
   "source": [
    "print(\"\\n--- Extracting Predictions ---\")\n",
    "predictions = [extract_choice_mcq(text) for text in tqdm(all_outputs_text, desc=\"Extracting choices\")]\n",
    "num_invalid_responces = predictions.count(None)\n",
    "print(f\"\\n------------------------------\\nNumber of invalid responces: {num_invalid_responces}\")\n",
    "\n",
    "if len(predictions) > 0:\n",
    "    print(\"\\nExample Extracted Prediction:\")\n",
    "    print(predictions[0])"
   ]
  },
  {
   "cell_type": "code",
   "execution_count": 14,
   "metadata": {
    "execution": {
     "iopub.execute_input": "2025-04-13T22:51:31.678641Z",
     "iopub.status.busy": "2025-04-13T22:51:31.678414Z",
     "iopub.status.idle": "2025-04-13T22:51:31.708670Z",
     "shell.execute_reply": "2025-04-13T22:51:31.708062Z",
     "shell.execute_reply.started": "2025-04-13T22:51:31.678615Z"
    },
    "trusted": true
   },
   "outputs": [
    {
     "name": "stdout",
     "output_type": "stream",
     "text": [
      "\n",
      "--- Calculating Metrics ---\n"
     ]
    }
   ],
   "source": [
    "print(\"\\n--- Calculating Metrics ---\")\n",
    "correct_count = 0\n",
    "total_count = len(predictions)\n",
    "results_by_subject = {}\n",
    "\n",
    "if total_count != len(ground_truths):\n",
    "     print(f\"Warning: Mismatch between number of predictions ({total_count}) and ground truths ({len(ground_truths)}). This should not happen.\")\n",
    "     total_count = min(total_count, len(ground_truths))\n",
    "\n",
    "for i in range(total_count):\n",
    "    original_data_index = original_indices[i] if 'original_indices' in locals() else i\n",
    "    data_item = ds_mmlu[original_data_index]\n",
    "    subject = data_item.get('subject', 'Unknown')\n",
    "\n",
    "    pred = predictions[i]\n",
    "    truth = ground_truths[i]\n",
    "    is_correct = (pred == truth)\n",
    "\n",
    "    if subject not in results_by_subject:\n",
    "        results_by_subject[subject] = {'correct': 0, 'total': 0}\n",
    "\n",
    "    if is_correct:\n",
    "        correct_count += 1\n",
    "        results_by_subject[subject]['correct'] += 1\n",
    "    results_by_subject[subject]['total'] += 1\n",
    "\n",
    "overall_accuracy = (correct_count / total_count) * 100 if total_count > 0 else 0"
   ]
  },
  {
   "cell_type": "code",
   "execution_count": 15,
   "metadata": {
    "execution": {
     "iopub.execute_input": "2025-04-13T22:51:31.709475Z",
     "iopub.status.busy": "2025-04-13T22:51:31.709276Z",
     "iopub.status.idle": "2025-04-13T22:51:31.714894Z",
     "shell.execute_reply": "2025-04-13T22:51:31.714094Z",
     "shell.execute_reply.started": "2025-04-13T22:51:31.709460Z"
    },
    "trusted": true
   },
   "outputs": [
    {
     "name": "stdout",
     "output_type": "stream",
     "text": [
      "\n",
      "--- Evaluation Results ---\n",
      "Model Evaluated: MilyaShams/DeepSeek-R1-Distill-Qwen-1.5B-medical-msft-merged\n",
      "Dataset Used: cais/mmlu\n",
      "Number of Questions Evaluated: 200\n",
      "Number of Correct Answers: 58\n",
      "Overall Accuracy: 29.00%\n",
      "\n",
      "Accuracy by Subject:\n",
      "- anatomy: 25.81% (8/31)\n",
      "- clinical_knowledge: 31.03% (9/29)\n",
      "- college_biology: 29.63% (8/27)\n",
      "- college_medicine: 36.67% (11/30)\n",
      "- medical_genetics: 28.57% (8/28)\n",
      "- professional_medicine: 25.45% (14/55)\n"
     ]
    }
   ],
   "source": [
    "print(\"\\n--- Evaluation Results ---\")\n",
    "print(f\"Model Evaluated: {MODEL_NAME}\")\n",
    "print(f\"Dataset Used: {DATASET_MMLU}\")\n",
    "print(f\"Number of Questions Evaluated: {total_count}\")\n",
    "print(f\"Number of Correct Answers: {correct_count}\")\n",
    "print(f\"Overall Accuracy: {overall_accuracy:.2f}%\")\n",
    "\n",
    "print(\"\\nAccuracy by Subject:\")\n",
    "sorted_subjects = sorted(results_by_subject.keys())\n",
    "for subject in sorted_subjects:\n",
    "    counts = results_by_subject[subject]\n",
    "    sub_acc = (counts['correct'] / counts['total']) * 100 if counts['total'] > 0 else 0\n",
    "    print(f\"- {subject}: {sub_acc:.2f}% ({counts['correct']}/{counts['total']})\")"
   ]
  },
  {
   "cell_type": "markdown",
   "metadata": {},
   "source": [
    "### 4. PubMedQA"
   ]
  },
  {
   "cell_type": "markdown",
   "metadata": {},
   "source": [
    "#### Dataset loading and preparing"
   ]
  },
  {
   "cell_type": "code",
   "execution_count": 16,
   "metadata": {
    "execution": {
     "iopub.execute_input": "2025-04-13T22:51:31.715919Z",
     "iopub.status.busy": "2025-04-13T22:51:31.715684Z",
     "iopub.status.idle": "2025-04-13T22:51:31.726125Z",
     "shell.execute_reply": "2025-04-13T22:51:31.725636Z",
     "shell.execute_reply.started": "2025-04-13T22:51:31.715888Z"
    },
    "trusted": true
   },
   "outputs": [],
   "source": [
    "SEED = 4242\n",
    "BATCH_SIZE = 4\n",
    "NUM_SAMPLES = 200\n",
    "DATASET_PUBMEDQA = \"qiaojin/PubMedQA\"\n",
    "SUBSET_PUBMEDQA = \"pqa_labeled\"\n",
    "SPLIT_PUBMEDQA = \"train\""
   ]
  },
  {
   "cell_type": "code",
   "execution_count": 17,
   "metadata": {
    "execution": {
     "iopub.execute_input": "2025-04-13T22:51:31.727064Z",
     "iopub.status.busy": "2025-04-13T22:51:31.726819Z",
     "iopub.status.idle": "2025-04-13T22:51:33.166470Z",
     "shell.execute_reply": "2025-04-13T22:51:33.165828Z",
     "shell.execute_reply.started": "2025-04-13T22:51:31.727042Z"
    },
    "trusted": true
   },
   "outputs": [
    {
     "data": {
      "application/vnd.jupyter.widget-view+json": {
       "model_id": "4be96f5d59894581bc27aaeb1b2caaa9",
       "version_major": 2,
       "version_minor": 0
      },
      "text/plain": [
       "README.md:   0%|          | 0.00/5.19k [00:00<?, ?B/s]"
      ]
     },
     "metadata": {},
     "output_type": "display_data"
    },
    {
     "data": {
      "application/vnd.jupyter.widget-view+json": {
       "model_id": "08942923b587462f8c5864a6f669fe52",
       "version_major": 2,
       "version_minor": 0
      },
      "text/plain": [
       "train-00000-of-00001.parquet:   0%|          | 0.00/1.08M [00:00<?, ?B/s]"
      ]
     },
     "metadata": {},
     "output_type": "display_data"
    },
    {
     "data": {
      "application/vnd.jupyter.widget-view+json": {
       "model_id": "791e79e558dc4c60975a330fc3d0c343",
       "version_major": 2,
       "version_minor": 0
      },
      "text/plain": [
       "Generating train split:   0%|          | 0/1000 [00:00<?, ? examples/s]"
      ]
     },
     "metadata": {},
     "output_type": "display_data"
    },
    {
     "data": {
      "text/plain": [
       "Dataset({\n",
       "    features: ['pubid', 'question', 'context', 'long_answer', 'final_decision'],\n",
       "    num_rows: 200\n",
       "})"
      ]
     },
     "execution_count": 17,
     "metadata": {},
     "output_type": "execute_result"
    }
   ],
   "source": [
    "ds_pubmedqa = load_dataset(DATASET_PUBMEDQA, SUBSET_PUBMEDQA, split=SPLIT_PUBMEDQA)\n",
    "ds_pubmedqa = ds_pubmedqa.shuffle(seed=SEED).select(range(NUM_SAMPLES))\n",
    "ds_pubmedqa"
   ]
  },
  {
   "cell_type": "code",
   "execution_count": 18,
   "metadata": {
    "execution": {
     "iopub.execute_input": "2025-04-13T22:51:33.167452Z",
     "iopub.status.busy": "2025-04-13T22:51:33.167197Z",
     "iopub.status.idle": "2025-04-13T22:51:33.173414Z",
     "shell.execute_reply": "2025-04-13T22:51:33.172657Z",
     "shell.execute_reply.started": "2025-04-13T22:51:33.167429Z"
    },
    "trusted": true
   },
   "outputs": [
    {
     "data": {
      "text/plain": [
       "{'pubid': 22504515,\n",
       " 'question': 'Endovenous laser ablation in the treatment of small saphenous varicose veins: does site of access influence early outcomes?',\n",
       " 'context': {'contexts': ['The study was performed to evaluate the clinical and technical efficacy of endovenous laser ablation (EVLA) of small saphenous varicosities, particularly in relation to the site of endovenous access.',\n",
       "   'Totally 59 patients with unilateral saphenopopliteal junction incompetence and small saphenous vein reflux underwent EVLA (810 nm, 14 W diode laser) with ambulatory phlebectomies. Small saphenous vein access was gained at the lowest site of truncal reflux. Patients were divided into 2 groups: access gained above mid-calf (AMC, n = 33) and below mid-calf (BMC, n = 26) levels. Outcomes included Venous Clinical Severity Scores (VCSS), Aberdeen Varicose Vein Questionnaire (AVVQ), patient satisfaction, complications, and recurrence rates.',\n",
       "   'Both groups demonstrated significant improvement in VCSS, AVVQ, generic quality of life Short Form 36, and EuroQol scores (P<.05) up to 1 year. No differences were seen between AMC and BMC groups for complications (phlebitis: 2 [6%] and 1 [3.8%], P>.05; paresthesia: 2 [6%] and 5 [19%], P = .223) and recurrence (3 [9%] and 1 [3.8%], P = .623), respectively.'],\n",
       "  'labels': ['OBJECTIVE', 'METHODS', 'RESULTS'],\n",
       "  'meshes': ['Adult',\n",
       "   'Ambulatory Surgical Procedures',\n",
       "   'Chi-Square Distribution',\n",
       "   'Endovascular Procedures',\n",
       "   'England',\n",
       "   'Female',\n",
       "   'Humans',\n",
       "   'Laser Therapy',\n",
       "   'Lasers, Semiconductor',\n",
       "   'Male',\n",
       "   'Middle Aged',\n",
       "   'Paresthesia',\n",
       "   'Patient Satisfaction',\n",
       "   'Peripheral Nerve Injuries',\n",
       "   'Phlebitis',\n",
       "   'Prospective Studies',\n",
       "   'Quality of Life',\n",
       "   'Recurrence',\n",
       "   'Risk Assessment',\n",
       "   'Risk Factors',\n",
       "   'Saphenous Vein',\n",
       "   'Severity of Illness Index',\n",
       "   'Surveys and Questionnaires',\n",
       "   'Time Factors',\n",
       "   'Treatment Outcome',\n",
       "   'Varicose Veins'],\n",
       "  'reasoning_required_pred': ['n', 'o'],\n",
       "  'reasoning_free_pred': ['n', 'o']},\n",
       " 'long_answer': 'The site of access in our study does not appear to influence complications specifically neural injury or recurrence rates.',\n",
       " 'final_decision': 'no'}"
      ]
     },
     "execution_count": 18,
     "metadata": {},
     "output_type": "execute_result"
    }
   ],
   "source": [
    "ds_pubmedqa[0]"
   ]
  },
  {
   "cell_type": "markdown",
   "metadata": {},
   "source": [
    "#### Helper functions definition"
   ]
  },
  {
   "cell_type": "code",
   "execution_count": 19,
   "metadata": {
    "execution": {
     "iopub.execute_input": "2025-04-13T22:51:33.174757Z",
     "iopub.status.busy": "2025-04-13T22:51:33.174428Z",
     "iopub.status.idle": "2025-04-13T22:51:33.185749Z",
     "shell.execute_reply": "2025-04-13T22:51:33.184991Z",
     "shell.execute_reply.started": "2025-04-13T22:51:33.174735Z"
    },
    "trusted": true
   },
   "outputs": [],
   "source": [
    "def format_prompt_pubmedqa(example):\n",
    "    \"\"\"Formats a single example into a prompt for the LLM.\"\"\"\n",
    "    question = example['question']\n",
    "    if not isinstance(example.get('context'), dict) or 'contexts' not in example['context']:\n",
    "        print(f\"Warning: Skipping example due to missing or invalid context field.\")\n",
    "        return None\n",
    "\n",
    "    context_passages = example['context']['contexts']\n",
    "    full_context = \"\\n\\n\".join(context_passages)\n",
    "\n",
    "    prompt = f\"\"\"\n",
    "You are an expert in analyzing scientific texts and answering questions based on provided context and explaining your reasoning clearly.\n",
    "Your task is to determine the answer to the question ('yes', 'no', or 'maybe') based only on the information given in the context. Follow these steps:\n",
    "1. Analyze the provided context in relation to the question. Summarize the key evidence (or lack thereof) relevant to answering the question. This is your reasoning.\n",
    "2. Based on your reasoning from the context, determine if the answer to the question is 'yes', 'no', or 'maybe'.\n",
    "3. Output your reasoning first. After the reasoning, start a new line and provide the final decision in the specific format: Answer: [yes/no/maybe]\n",
    "\n",
    "Context:\n",
    "{full_context}\n",
    "\n",
    "Question: {question}\n",
    "\n",
    "Reasoning:\n",
    "    \"\"\"\n",
    "    return prompt"
   ]
  },
  {
   "cell_type": "code",
   "execution_count": 20,
   "metadata": {
    "execution": {
     "iopub.execute_input": "2025-04-13T22:51:33.186792Z",
     "iopub.status.busy": "2025-04-13T22:51:33.186546Z",
     "iopub.status.idle": "2025-04-13T22:51:33.202419Z",
     "shell.execute_reply": "2025-04-13T22:51:33.201694Z",
     "shell.execute_reply.started": "2025-04-13T22:51:33.186771Z"
    },
    "trusted": true
   },
   "outputs": [],
   "source": [
    "def get_ground_truth_pubmedqa(example):\n",
    "    \"\"\"Extracts the ground truth ('yes', 'no', 'maybe') from the example.\"\"\"\n",
    "    decision = example.get('final_decision')\n",
    "    if decision not in ['yes', 'no', 'maybe']:\n",
    "        print(f\"Warning: Invalid 'final_decision' value found: {decision}. Skipping ground truth.\")\n",
    "        return None\n",
    "    return decision"
   ]
  },
  {
   "cell_type": "code",
   "execution_count": 21,
   "metadata": {
    "execution": {
     "iopub.execute_input": "2025-04-13T22:51:33.203685Z",
     "iopub.status.busy": "2025-04-13T22:51:33.203251Z",
     "iopub.status.idle": "2025-04-13T22:51:33.213724Z",
     "shell.execute_reply": "2025-04-13T22:51:33.212918Z",
     "shell.execute_reply.started": "2025-04-13T22:51:33.203651Z"
    },
    "trusted": true
   },
   "outputs": [],
   "source": [
    "def extract_yes_no_maybe(generated_text):\n",
    "    \"\"\"Extracts the predicted choice (yes, no, maybe) from the LLM's output.\"\"\"\n",
    "    text = generated_text.strip().lower()\n",
    "\n",
    "    # Explicit \"Answer: yes/no/maybe\" potentially followed by punctuation/eos\n",
    "    match = re.search(r'(?:answer|decision)\\s*[:\\-]?\\s*(yes|no|maybe)\\b', text)\n",
    "    if match:\n",
    "        return match.group(1)\n",
    "\n",
    "    # Look for the first occurrence of \"yes\", \"no\", or \"maybe\" as a whole word\n",
    "    match = re.search(r'\\b(yes|no|maybe)\\b', text)\n",
    "    if match:\n",
    "        return match.group(1)\n",
    "\n",
    "    # Fallback - If no clear choice found, return None\n",
    "    print(f\"Warning: Could not extract answer from text: '{text[:100]}...{text[-100:]}'\")\n",
    "    return None"
   ]
  },
  {
   "cell_type": "markdown",
   "metadata": {},
   "source": [
    "#### Evaluation"
   ]
  },
  {
   "cell_type": "code",
   "execution_count": 22,
   "metadata": {
    "execution": {
     "iopub.execute_input": "2025-04-13T22:51:33.214945Z",
     "iopub.status.busy": "2025-04-13T22:51:33.214714Z",
     "iopub.status.idle": "2025-04-13T22:51:33.268188Z",
     "shell.execute_reply": "2025-04-13T22:51:33.267467Z",
     "shell.execute_reply.started": "2025-04-13T22:51:33.214920Z"
    },
    "trusted": true
   },
   "outputs": [
    {
     "name": "stdout",
     "output_type": "stream",
     "text": [
      "\n",
      "--- Preparing Prompts and Ground Truths ---\n"
     ]
    },
    {
     "name": "stderr",
     "output_type": "stream",
     "text": [
      "Formatting prompts: 100%|██████████| 200/200 [00:00<00:00, 5497.01it/s]"
     ]
    },
    {
     "name": "stdout",
     "output_type": "stream",
     "text": [
      "\n",
      "Example Prompt:\n",
      "\n",
      "You are an expert in analyzing scientific texts and answering questions based on provided context and explaining your reasoning clearly.\n",
      "Your task is to determine the answer to the question ('yes', 'no', or 'maybe') based only on the information given in the context. Follow these steps:\n",
      "1. Analyze the provided context in relation to the question. Summarize the key evidence (or lack thereof) relevant to answering the question. This is your reasoning.\n",
      "2. Based on your reasoning from the context, determine if the answer to the question is 'yes', 'no', or 'maybe'.\n",
      "3. Output your reasoning first. After the reasoning, start a new line and provide the final decision in the specific format: Answer: [yes/no/maybe]\n",
      "\n",
      "Context:\n",
      "The study was performed to evaluate the clinical and technical efficacy of endovenous laser ablation (EVLA) of small saphenous varicosities, particularly in relation to the site of endovenous access.\n",
      "\n",
      "Totally 59 patients with unilateral saphenopopliteal junction incompetence and small saphenous vein reflux underwent EVLA (810 nm, 14 W diode laser) with ambulatory phlebectomies. Small saphenous vein access was gained at the lowest site of truncal reflux. Patients were divided into 2 groups: access gained above mid-calf (AMC, n = 33) and below mid-calf (BMC, n = 26) levels. Outcomes included Venous Clinical Severity Scores (VCSS), Aberdeen Varicose Vein Questionnaire (AVVQ), patient satisfaction, complications, and recurrence rates.\n",
      "\n",
      "Both groups demonstrated significant improvement in VCSS, AVVQ, generic quality of life Short Form 36, and EuroQol scores (P<.05) up to 1 year. No differences were seen between AMC and BMC groups for complications (phlebitis: 2 [6%] and 1 [3.8%], P>.05; paresthesia: 2 [6%] and 5 [19%], P = .223) and recurrence (3 [9%] and 1 [3.8%], P = .623), respectively.\n",
      "\n",
      "Question: Endovenous laser ablation in the treatment of small saphenous varicose veins: does site of access influence early outcomes?\n",
      "\n",
      "Reasoning:\n",
      "    \n",
      "Corresponding Ground Truth: no\n"
     ]
    },
    {
     "name": "stderr",
     "output_type": "stream",
     "text": [
      "\n"
     ]
    }
   ],
   "source": [
    "print(\"\\n--- Preparing Prompts and Ground Truths ---\")\n",
    "prompts = []\n",
    "ground_truths_raw = []\n",
    "original_indices_map = []\n",
    "\n",
    "for i, ex in enumerate(tqdm(ds_pubmedqa, desc=\"Formatting prompts\")):\n",
    "    prompt = format_prompt_pubmedqa(ex)\n",
    "    if prompt:\n",
    "        prompts.append(prompt)\n",
    "        ground_truths_raw.append(get_ground_truth_pubmedqa(ex))\n",
    "        original_indices_map.append(i)\n",
    "\n",
    "valid_indices = [i for i, gt in enumerate(ground_truths_raw) if gt is not None]\n",
    "\n",
    "if len(valid_indices) < len(prompts):\n",
    "     invalid_gt_count = len(prompts) - len(valid_indices)\n",
    "     print(f\"Warning: {invalid_gt_count} examples had invalid ground truths and were excluded.\")\n",
    "     prompts = [prompts[i] for i in valid_indices]\n",
    "     ground_truths = [ground_truths_raw[i] for i in valid_indices]\n",
    "     original_indices = [original_indices_map[i] for i in valid_indices]\n",
    "else:\n",
    "    ground_truths = ground_truths_raw\n",
    "    original_indices = original_indices_map\n",
    "\n",
    "if len(prompts) > 0:\n",
    "    print(\"\\nExample Prompt:\")\n",
    "    print(prompts[0])\n",
    "    print(f\"Corresponding Ground Truth: {ground_truths[0]}\")\n",
    "else:\n",
    "    print(\"No valid prompts to evaluate.\")\n",
    "    exit()"
   ]
  },
  {
   "cell_type": "code",
   "execution_count": 23,
   "metadata": {
    "execution": {
     "iopub.execute_input": "2025-04-13T22:51:33.269226Z",
     "iopub.status.busy": "2025-04-13T22:51:33.268891Z",
     "iopub.status.idle": "2025-04-13T23:06:43.287472Z",
     "shell.execute_reply": "2025-04-13T23:06:43.286708Z",
     "shell.execute_reply.started": "2025-04-13T22:51:33.269201Z"
    },
    "trusted": true
   },
   "outputs": [
    {
     "name": "stdout",
     "output_type": "stream",
     "text": [
      "\n",
      "--- Running Inference ---\n"
     ]
    },
    {
     "name": "stderr",
     "output_type": "stream",
     "text": [
      "Generating Responses: 100%|██████████| 50/50 [15:10<00:00, 18.20s/it]"
     ]
    },
    {
     "name": "stdout",
     "output_type": "stream",
     "text": [
      "\n",
      "Example Generated Text (raw):\n",
      "The study examined the effect of endovenous laser ablation (EVLA) on small saphenous varicose veins, particularly focusing on the site of endovenous access. The study involved 59 patients with unilateral saphenopopliteal junction incompetence and small saphenous vein reflux, who underwent EVLA with ambulatory phlebectomies. The patients were divided into two groups based on the level of endovenous access: one group gained access above the mid-calf (AMC, n = 33) and the other below the mid-calf (BMC, n = 26). The study evaluated several outcomes, including clinical severity scores, the Aberdeen Varicose Vein Questionnaire, patient satisfaction, complications, and recurrence rates.\n",
      "\n",
      "The study found that both groups showed significant improvement in VCSS, AVVQ, generic quality of life Short Form 36, and EuroQol scores, with no differences between the groups for complications and recurrence rates. This suggests that the site of endovenous access did not significantly influence early outcomes in this study. Therefore, the answer is: [maybe].\n",
      "</think>\n",
      "The study examined the effect of endovenous laser ablation (EVLA) on small saphenous varicose veins, particularly focusing on the site of endovenous access. The study involved 59 patients with unilateral saphenopopliteal junction incompetence and small saphenous vein reflux, who underwent EVLA with ambulatory phlebectomies. The patients were divided into two groups based on the level of endovenous access: one group gained access above the mid-calf (AMC, n = 33) and the other below the mid-calf (BMC, n = 26). The study evaluated several outcomes, including clinical severity scores, the Aberdeen Varicose Vein Questionnaire, patient satisfaction, complications, and recurrence rates.\n",
      "\n",
      "The study found that both groups showed significant improvement in VCSS, AVVQ, generic quality of life Short Form 36, and EuroQol scores, with no differences between the groups for complications and recurrence rates. This suggests that the site of endovenous access did not significantly influence early outcomes in this study. Therefore, the answer is: [maybe].\n"
     ]
    },
    {
     "name": "stderr",
     "output_type": "stream",
     "text": [
      "\n"
     ]
    }
   ],
   "source": [
    "print(\"\\n--- Running Inference ---\")\n",
    "all_outputs_text = []\n",
    "num_batches = math.ceil(len(prompts) / BATCH_SIZE)\n",
    "\n",
    "for i in tqdm(range(num_batches), desc=\"Generating Responses\"):\n",
    "    start_idx = i * BATCH_SIZE\n",
    "    end_idx = min((i + 1) * BATCH_SIZE, len(prompts))\n",
    "    batch_prompts = prompts[start_idx:end_idx]\n",
    "    outputs = llm.generate(batch_prompts, sampling_params, use_tqdm=False)\n",
    "    batch_outputs_text = [output.outputs[0].text.strip() for output in outputs]\n",
    "    all_outputs_text.extend(batch_outputs_text)\n",
    "\n",
    "if len(all_outputs_text) > 0:\n",
    "    print(\"\\nExample Generated Text (raw):\")\n",
    "    print(all_outputs_text[0])"
   ]
  },
  {
   "cell_type": "code",
   "execution_count": 24,
   "metadata": {
    "execution": {
     "iopub.execute_input": "2025-04-13T23:06:43.288897Z",
     "iopub.status.busy": "2025-04-13T23:06:43.288412Z",
     "iopub.status.idle": "2025-04-13T23:06:43.312562Z",
     "shell.execute_reply": "2025-04-13T23:06:43.311884Z",
     "shell.execute_reply.started": "2025-04-13T23:06:43.288875Z"
    },
    "trusted": true
   },
   "outputs": [
    {
     "name": "stdout",
     "output_type": "stream",
     "text": [
      "\n",
      "--- Extracting Predictions ---\n"
     ]
    },
    {
     "name": "stderr",
     "output_type": "stream",
     "text": [
      "Extracting choices: 100%|██████████| 200/200 [00:00<00:00, 13327.94it/s]"
     ]
    },
    {
     "name": "stdout",
     "output_type": "stream",
     "text": [
      "Warning: Could not extract answer from text: '- the world health organization (who) has introduced a \"test and treat\" policy for art, which aims t...e current state of ssa and the potential for increased adverse effects, it is unlikely that ssa will'\n",
      "Warning: Could not extract answer from text: '1. the study reports that adma levels are significantly reduced in ex-elbw subjects compared to c.\n",
      " ...ence of a direct correlation between adma levels and cardiovascular events or cardiac death.\n",
      "     15'\n",
      "Warning: Could not extract answer from text: 'the question is asking whether surgical effort still matters in the context of evaluating surgical o...n os, suggesting that surgical effort may not directly correlate with survival.\n",
      "\n",
      "     the study also'\n",
      "Warning: Could not extract answer from text: '- the study involved 35 young obese males and 23 healthy male volunteers.\n",
      "     - the study used caro...relevant to the question.\n",
      "     - the study's findings are relevant to the question.\n",
      "     - the study'\n",
      "Warning: Could not extract answer from text: 'a. the use of radiographic images to assess joint line positions is a new approach.\n",
      "     b. the use ... aaa. the use of radiographic images is not a new approach.\n",
      "     bbb. the use of radiographic images'\n",
      "Warning: Could not extract answer from text: '- the context provides information about the number of gonorrhoea infections and the analysis of ser...otection against reinfection.\n",
      "     - the context does not mention any evidence of a specific serovar'\n",
      "Warning: Could not extract answer from text: 'a. mosaic: 0.78/0.95 = 0.82\n",
      "     b. perimount: 0.95/2.12 = 0.45\n",
      "     c. mosaic: 2.37/0.95 = 2.50\n",
      "   ...2/0.95 = 2.23\n",
      "     q. mosaic: 0.78/2.12 = 0.37\n",
      "     r. perimount: 0.95/2.37 = 0.40\n",
      "     s. mosaic: 2'\n",
      "Warning: Could not extract answer from text: 'the study's objective was to determine whether ct scans (bs) can be avoided if the pelvis was includ...he study's results showed that bs was used in 11 patients without metastases, and bs was not used in'\n",
      "Warning: Could not extract answer from text: '- the study involved patients with high bleeding risk criteria, which are defined as those who have ...th a higher risk of these adverse events, but it did not conclude that e-zes was a better choice for'\n",
      "Warning: Could not extract answer from text: '- the article discusses the relationship between road traffic death rates and other types of injurie...the article's findings are consistent with the idea that states with higher road traffic death rates'\n",
      "Warning: Could not extract answer from text: 'the ace gene is a gene that encodes an enzyme called angiotensin-converting enzyme (ace). this enzym...tor 115 (igf-115), which is another hormone produced by the pancreas. the ace gene is also linked to'\n",
      "Warning: Could not extract answer from text: '- the study used air-encephalography to differentiate between communicating and non-communicating hy... air-encephalography, which carries the risk of cerebral herniation.\n",
      "     - the study concluded that'\n",
      "Warning: Could not extract answer from text: '- the study examined the presence of viable germ cell elements in the testicular remnant.\n",
      "     - the...t surgical management is not necessary for the vanishing testes syndrome.\n",
      "     - the study concluded'\n",
      "Warning: Could not extract answer from text: '[your reasoning here]\n",
      "final answer:\n",
      "</think>\n",
      "the question is asking whether the introduction of elec...study does not provide evidence of behavioral adaptation or significant changes in driving behavior.'\n",
      "Warning: Could not extract answer from text: 'the hypothesis was tested that pectin content and methylation degree participate in regulation of ce...the cold-induced modifications in the cell wall properties were more pronounced in the leaves of the'\n",
      "Warning: Could not extract answer from text: 'the question is about whether foreign bodies (fb) migrate towards the heart. the context provided di.... the context does not provide any evidence of fb migrating towards the heart.\n",
      "\n",
      "     the question is'\n",
      "Warning: Could not extract answer from text: 'the study was carried on 2096 school children (1043 male, 1053 female) in ankara. their mean age was...043 male, 1053 female) in ankara. their mean age was 9.03 years. demographic properties of the study'\n",
      "Warning: Could not extract answer from text: '[your reasoning here]\n",
      "answer:\n",
      "\n",
      "</think>\n",
      "the question is asking whether juvenile osteochondritis diss...e. the study concluded that the lesions were more likely to be in the middle and posterior thirds of'\n",
      "\n",
      "------------------------------\n",
      "Number of invalid responces: 18\n",
      "\n",
      "Example Extracted Prediction:\n",
      "no\n"
     ]
    },
    {
     "name": "stderr",
     "output_type": "stream",
     "text": [
      "\n"
     ]
    }
   ],
   "source": [
    "print(\"\\n--- Extracting Predictions ---\")\n",
    "predictions = [extract_yes_no_maybe(text) for text in tqdm(all_outputs_text, desc=\"Extracting choices\")]\n",
    "num_invalid_responсes = predictions.count(None)\n",
    "print(f\"\\n------------------------------\\nNumber of invalid responces: {num_invalid_responсes}\")\n",
    "\n",
    "if len(predictions) > 0:\n",
    "    print(\"\\nExample Extracted Prediction:\")\n",
    "    print(predictions[0])"
   ]
  },
  {
   "cell_type": "code",
   "execution_count": 25,
   "metadata": {
    "execution": {
     "iopub.execute_input": "2025-04-13T23:06:43.314016Z",
     "iopub.status.busy": "2025-04-13T23:06:43.313687Z",
     "iopub.status.idle": "2025-04-13T23:06:43.359235Z",
     "shell.execute_reply": "2025-04-13T23:06:43.358637Z",
     "shell.execute_reply.started": "2025-04-13T23:06:43.313988Z"
    },
    "trusted": true
   },
   "outputs": [
    {
     "name": "stdout",
     "output_type": "stream",
     "text": [
      "\n",
      "--- Calculating Metrics ---\n"
     ]
    }
   ],
   "source": [
    "print(\"\\n--- Calculating Metrics ---\")\n",
    "correct_count = 0\n",
    "total_count = len(predictions)\n",
    "results_by_subject = {}\n",
    "\n",
    "if total_count != len(ground_truths):\n",
    "     print(f\"Warning: Mismatch between number of predictions ({total_count}) and ground truths ({len(ground_truths)}). This should not happen.\")\n",
    "     total_count = min(total_count, len(ground_truths))\n",
    "\n",
    "for i in range(total_count):\n",
    "    original_data_index = original_indices[i] if 'original_indices' in locals() else i\n",
    "    data_item = ds_pubmedqa[original_data_index]\n",
    "    subject = data_item.get('subject_name', 'Unknown')\n",
    "\n",
    "    pred = predictions[i]\n",
    "    truth = ground_truths[i]\n",
    "    is_correct = (pred == truth)\n",
    "\n",
    "    if subject not in results_by_subject:\n",
    "        results_by_subject[subject] = {'correct': 0, 'total': 0}\n",
    "\n",
    "    if is_correct:\n",
    "        correct_count += 1\n",
    "        results_by_subject[subject]['correct'] += 1\n",
    "    results_by_subject[subject]['total'] += 1\n",
    "\n",
    "overall_accuracy = (correct_count / total_count) * 100 if total_count > 0 else 0"
   ]
  },
  {
   "cell_type": "code",
   "execution_count": 26,
   "metadata": {
    "execution": {
     "iopub.execute_input": "2025-04-13T23:06:43.360231Z",
     "iopub.status.busy": "2025-04-13T23:06:43.359974Z",
     "iopub.status.idle": "2025-04-13T23:06:43.364543Z",
     "shell.execute_reply": "2025-04-13T23:06:43.363947Z",
     "shell.execute_reply.started": "2025-04-13T23:06:43.360208Z"
    },
    "trusted": true
   },
   "outputs": [
    {
     "name": "stdout",
     "output_type": "stream",
     "text": [
      "\n",
      "--- Evaluation Results ---\n",
      "Model Evaluated: MilyaShams/DeepSeek-R1-Distill-Qwen-1.5B-medical-msft-merged\n",
      "Dataset Used: qiaojin/PubMedQA\n",
      "Number of Questions Evaluated: 200\n",
      "Number of Correct Answers: 83\n",
      "Overall Accuracy: 41.50%\n"
     ]
    }
   ],
   "source": [
    "print(\"\\n--- Evaluation Results ---\")\n",
    "print(f\"Model Evaluated: {MODEL_NAME}\")\n",
    "print(f\"Dataset Used: {DATASET_PUBMEDQA}\")\n",
    "print(f\"Number of Questions Evaluated: {total_count}\")\n",
    "print(f\"Number of Correct Answers: {correct_count}\")\n",
    "print(f\"Overall Accuracy: {overall_accuracy:.2f}%\")"
   ]
  },
  {
   "cell_type": "code",
   "execution_count": null,
   "metadata": {
    "trusted": true
   },
   "outputs": [],
   "source": []
  }
 ],
 "metadata": {
  "kaggle": {
   "accelerator": "nvidiaTeslaT4",
   "dataSources": [],
   "isGpuEnabled": true,
   "isInternetEnabled": true,
   "language": "python",
   "sourceType": "notebook"
  },
  "kernelspec": {
   "display_name": "Python 3",
   "language": "python",
   "name": "python3"
  },
  "language_info": {
   "codemirror_mode": {
    "name": "ipython",
    "version": 3
   },
   "file_extension": ".py",
   "mimetype": "text/x-python",
   "name": "python",
   "nbconvert_exporter": "python",
   "pygments_lexer": "ipython3",
   "version": "3.11.11"
  }
 },
 "nbformat": 4,
 "nbformat_minor": 4
}
