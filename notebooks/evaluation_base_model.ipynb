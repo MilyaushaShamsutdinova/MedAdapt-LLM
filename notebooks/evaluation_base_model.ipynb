{
 "cells": [
  {
   "cell_type": "markdown",
   "metadata": {},
   "source": [
    "## Evaluation: base model\n",
    "\n",
    "This is notebook for **base model evaluation** to compare with adapted model. We choose to evaluate on the set of benchmarks from [Open Medical-LLM Leaderboard](https://huggingface.co/spaces/openlifescienceai/open_medical_llm_leaderboard) including:\n",
    "\n",
    "* [MedMCQA](https://huggingface.co/datasets/openlifescienceai/medmcqa) - MCQ, 200 samples from validation split\n",
    "* [MedQA](https://huggingface.co/datasets/GBaker/MedQA-USMLE-4-options-hf) - MCQ, 200 samples from validation split\n",
    "* [MMLU](https://huggingface.co/datasets/cais/mmlu) - MCQ, 200 samples from test splits of 6 medical subsets\n",
    "* [PubMedQA](https://huggingface.co/datasets/qiaojin/PubMedQA) - QA, 200 samples from train split of pqa_labeled subset\n",
    "\n",
    "*Base model:* [deepseek-ai/DeepSeek-R1-Distill-Qwen-1.5B](https://huggingface.co/deepseek-ai/DeepSeek-R1-Distill-Qwen-1.5B)"
   ]
  },
  {
   "cell_type": "markdown",
   "metadata": {},
   "source": [
    "### Setup"
   ]
  },
  {
   "cell_type": "code",
   "execution_count": 1,
   "metadata": {
    "execution": {
     "iopub.execute_input": "2025-04-13T13:23:06.111088Z",
     "iopub.status.busy": "2025-04-13T13:23:06.110527Z",
     "iopub.status.idle": "2025-04-13T13:26:19.690415Z",
     "shell.execute_reply": "2025-04-13T13:26:19.689577Z",
     "shell.execute_reply.started": "2025-04-13T13:23:06.111062Z"
    },
    "trusted": true
   },
   "outputs": [],
   "source": [
    "%%capture\n",
    "!pip install datasets vllm"
   ]
  },
  {
   "cell_type": "code",
   "execution_count": 2,
   "metadata": {
    "execution": {
     "iopub.execute_input": "2025-04-13T13:26:19.692372Z",
     "iopub.status.busy": "2025-04-13T13:26:19.691924Z",
     "iopub.status.idle": "2025-04-13T13:26:45.296649Z",
     "shell.execute_reply": "2025-04-13T13:26:45.296107Z",
     "shell.execute_reply.started": "2025-04-13T13:26:19.692348Z"
    },
    "trusted": true
   },
   "outputs": [
    {
     "name": "stdout",
     "output_type": "stream",
     "text": [
      "INFO 04-13 13:26:29 [__init__.py:239] Automatically detected platform cuda.\n"
     ]
    },
    {
     "name": "stderr",
     "output_type": "stream",
     "text": [
      "2025-04-13 13:26:31.255869: E external/local_xla/xla/stream_executor/cuda/cuda_fft.cc:477] Unable to register cuFFT factory: Attempting to register factory for plugin cuFFT when one has already been registered\n",
      "WARNING: All log messages before absl::InitializeLog() is called are written to STDERR\n",
      "E0000 00:00:1744550791.484681      31 cuda_dnn.cc:8310] Unable to register cuDNN factory: Attempting to register factory for plugin cuDNN when one has already been registered\n",
      "E0000 00:00:1744550791.547479      31 cuda_blas.cc:1418] Unable to register cuBLAS factory: Attempting to register factory for plugin cuBLAS when one has already been registered\n"
     ]
    }
   ],
   "source": [
    "import re\n",
    "from tqdm import tqdm\n",
    "import math\n",
    "import pandas as pd\n",
    "from datasets import load_dataset, concatenate_datasets\n",
    "from vllm import LLM, SamplingParams\n",
    "import torch"
   ]
  },
  {
   "attachments": {},
   "cell_type": "markdown",
   "metadata": {},
   "source": [
    "### Base model loading"
   ]
  },
  {
   "cell_type": "code",
   "execution_count": 3,
   "metadata": {
    "execution": {
     "iopub.execute_input": "2025-04-13T13:26:45.297745Z",
     "iopub.status.busy": "2025-04-13T13:26:45.297517Z",
     "iopub.status.idle": "2025-04-13T13:26:45.301269Z",
     "shell.execute_reply": "2025-04-13T13:26:45.300420Z",
     "shell.execute_reply.started": "2025-04-13T13:26:45.297728Z"
    },
    "trusted": true
   },
   "outputs": [],
   "source": [
    "MODEL_NAME = \"deepseek-ai/DeepSeek-R1-Distill-Qwen-1.5B\"\n",
    "MAX_TOKENS = 4096"
   ]
  },
  {
   "cell_type": "code",
   "execution_count": 4,
   "metadata": {
    "execution": {
     "iopub.execute_input": "2025-04-13T13:26:45.303497Z",
     "iopub.status.busy": "2025-04-13T13:26:45.303170Z",
     "iopub.status.idle": "2025-04-13T13:29:05.348224Z",
     "shell.execute_reply": "2025-04-13T13:29:05.347242Z",
     "shell.execute_reply.started": "2025-04-13T13:26:45.303470Z"
    },
    "trusted": true
   },
   "outputs": [
    {
     "name": "stdout",
     "output_type": "stream",
     "text": [
      "\n",
      "--- Loading LLM with vLLM ---\n"
     ]
    },
    {
     "data": {
      "application/vnd.jupyter.widget-view+json": {
       "model_id": "295fdf2820c74b2baf81910a804be028",
       "version_major": 2,
       "version_minor": 0
      },
      "text/plain": [
       "config.json:   0%|          | 0.00/679 [00:00<?, ?B/s]"
      ]
     },
     "metadata": {},
     "output_type": "display_data"
    },
    {
     "name": "stdout",
     "output_type": "stream",
     "text": [
      "WARNING 04-13 13:26:45 [config.py:2704] Casting torch.bfloat16 to torch.float16.\n",
      "INFO 04-13 13:26:58 [config.py:600] This model supports multiple tasks: {'score', 'embed', 'generate', 'reward', 'classify'}. Defaulting to 'generate'.\n",
      "WARNING 04-13 13:26:58 [arg_utils.py:1708] Compute Capability < 8.0 is not supported by the V1 Engine. Falling back to V0. \n",
      "WARNING 04-13 13:26:58 [arg_utils.py:1570] Chunked prefill is enabled by default for models with max_model_len > 32K. Chunked prefill might not work with some features or models. If you encounter any issues, please disable by launching with --enable-chunked-prefill=False.\n",
      "INFO 04-13 13:26:58 [config.py:1600] Defaulting to use mp for distributed inference\n",
      "INFO 04-13 13:26:58 [config.py:1780] Chunked prefill is enabled with max_num_batched_tokens=2048.\n",
      "INFO 04-13 13:26:58 [llm_engine.py:242] Initializing a V0 LLM engine (v0.8.3) with config: model='deepseek-ai/DeepSeek-R1-Distill-Qwen-1.5B', speculative_config=None, tokenizer='deepseek-ai/DeepSeek-R1-Distill-Qwen-1.5B', skip_tokenizer_init=False, tokenizer_mode=auto, revision=None, override_neuron_config=None, tokenizer_revision=None, trust_remote_code=False, dtype=torch.float16, max_seq_len=131072, download_dir=None, load_format=LoadFormat.AUTO, tensor_parallel_size=2, pipeline_parallel_size=1, disable_custom_all_reduce=False, quantization=None, enforce_eager=False, kv_cache_dtype=auto,  device_config=cuda, decoding_config=DecodingConfig(guided_decoding_backend='xgrammar', reasoning_backend=None), observability_config=ObservabilityConfig(show_hidden_metrics=False, otlp_traces_endpoint=None, collect_model_forward_time=False, collect_model_execute_time=False), seed=None, served_model_name=deepseek-ai/DeepSeek-R1-Distill-Qwen-1.5B, num_scheduler_steps=1, multi_step_stream_outputs=True, enable_prefix_caching=None, chunked_prefill_enabled=True, use_async_output_proc=True, disable_mm_preprocessor_cache=False, mm_processor_kwargs=None, pooler_config=None, compilation_config={\"splitting_ops\":[],\"compile_sizes\":[],\"cudagraph_capture_sizes\":[256,248,240,232,224,216,208,200,192,184,176,168,160,152,144,136,128,120,112,104,96,88,80,72,64,56,48,40,32,24,16,8,4,2,1],\"max_capture_size\":256}, use_cached_outputs=False, \n"
     ]
    },
    {
     "data": {
      "application/vnd.jupyter.widget-view+json": {
       "model_id": "39e95dc82c594fdeb3d6b46843129b09",
       "version_major": 2,
       "version_minor": 0
      },
      "text/plain": [
       "tokenizer_config.json:   0%|          | 0.00/3.07k [00:00<?, ?B/s]"
      ]
     },
     "metadata": {},
     "output_type": "display_data"
    },
    {
     "data": {
      "application/vnd.jupyter.widget-view+json": {
       "model_id": "0b2a8197bdb1458da7332f4483779fc4",
       "version_major": 2,
       "version_minor": 0
      },
      "text/plain": [
       "tokenizer.json:   0%|          | 0.00/7.03M [00:00<?, ?B/s]"
      ]
     },
     "metadata": {},
     "output_type": "display_data"
    },
    {
     "data": {
      "application/vnd.jupyter.widget-view+json": {
       "model_id": "7616564308214c14a0c9f3d8e6ca1a85",
       "version_major": 2,
       "version_minor": 0
      },
      "text/plain": [
       "generation_config.json:   0%|          | 0.00/181 [00:00<?, ?B/s]"
      ]
     },
     "metadata": {},
     "output_type": "display_data"
    },
    {
     "name": "stdout",
     "output_type": "stream",
     "text": [
      "WARNING 04-13 13:27:01 [multiproc_worker_utils.py:306] Reducing Torch parallelism from 2 threads to 1 to avoid unnecessary CPU contention. Set OMP_NUM_THREADS in the external environment to tune this value as needed.\n",
      "\u001b[1;36m(VllmWorkerProcess pid=147)\u001b[0;0m INFO 04-13 13:27:01 [multiproc_worker_utils.py:225] Worker ready; awaiting tasks\n",
      "INFO 04-13 13:27:02 [cuda.py:240] Cannot use FlashAttention-2 backend for Volta and Turing GPUs.\n",
      "INFO 04-13 13:27:02 [cuda.py:289] Using XFormers backend.\n",
      "\u001b[1;36m(VllmWorkerProcess pid=147)\u001b[0;0m INFO 04-13 13:27:02 [cuda.py:240] Cannot use FlashAttention-2 backend for Volta and Turing GPUs.\n",
      "\u001b[1;36m(VllmWorkerProcess pid=147)\u001b[0;0m INFO 04-13 13:27:02 [cuda.py:289] Using XFormers backend.\n"
     ]
    },
    {
     "name": "stderr",
     "output_type": "stream",
     "text": [
      "[W413 13:27:13.786050029 socket.cpp:204] [c10d] The hostname of the client socket cannot be retrieved. err=-3\n",
      "[W413 13:27:14.299555800 socket.cpp:204] [c10d] The hostname of the client socket cannot be retrieved. err=-3\n",
      "[W413 13:27:23.793320793 socket.cpp:204] [c10d] The hostname of the client socket cannot be retrieved. err=-3\n"
     ]
    },
    {
     "name": "stdout",
     "output_type": "stream",
     "text": [
      "INFO 04-13 13:27:33 [utils.py:990] Found nccl from library libnccl.so.2\n",
      "INFO 04-13 13:27:33 [pynccl.py:69] vLLM is using nccl==2.21.5\n",
      "\u001b[1;36m(VllmWorkerProcess pid=147)\u001b[0;0m INFO 04-13 13:27:33 [utils.py:990] Found nccl from library libnccl.so.2\n",
      "\u001b[1;36m(VllmWorkerProcess pid=147)\u001b[0;0m INFO 04-13 13:27:33 [pynccl.py:69] vLLM is using nccl==2.21.5\n"
     ]
    },
    {
     "name": "stderr",
     "output_type": "stream",
     "text": [
      "[W413 13:27:33.803816086 socket.cpp:204] [c10d] The hostname of the client socket cannot be retrieved. err=-3\n"
     ]
    },
    {
     "name": "stdout",
     "output_type": "stream",
     "text": [
      "INFO 04-13 13:27:34 [custom_all_reduce_utils.py:206] generating GPU P2P access cache in /root/.cache/vllm/gpu_p2p_access_cache_for_0,1.json\n",
      "INFO 04-13 13:27:57 [custom_all_reduce_utils.py:244] reading GPU P2P access cache from /root/.cache/vllm/gpu_p2p_access_cache_for_0,1.json\n",
      "\u001b[1;36m(VllmWorkerProcess pid=147)\u001b[0;0m INFO 04-13 13:27:57 [custom_all_reduce_utils.py:244] reading GPU P2P access cache from /root/.cache/vllm/gpu_p2p_access_cache_for_0,1.json\n",
      "INFO 04-13 13:27:57 [shm_broadcast.py:264] vLLM message queue communication handle: Handle(local_reader_ranks=[1], buffer_handle=(1, 4194304, 6, 'psm_8f3860b3'), local_subscribe_addr='ipc:///tmp/e9dae793-7dc9-4eb2-b518-a187a13bccea', remote_subscribe_addr=None, remote_addr_ipv6=False)\n",
      "INFO 04-13 13:27:57 [parallel_state.py:957] rank 0 in world size 2 is assigned as DP rank 0, PP rank 0, TP rank 0\n",
      "\u001b[1;36m(VllmWorkerProcess pid=147)\u001b[0;0m INFO 04-13 13:27:57 [parallel_state.py:957] rank 1 in world size 2 is assigned as DP rank 0, PP rank 0, TP rank 1\n",
      "INFO 04-13 13:27:57 [model_runner.py:1110] Starting to load model deepseek-ai/DeepSeek-R1-Distill-Qwen-1.5B...\n",
      "\u001b[1;36m(VllmWorkerProcess pid=147)\u001b[0;0m INFO 04-13 13:27:57 [model_runner.py:1110] Starting to load model deepseek-ai/DeepSeek-R1-Distill-Qwen-1.5B...\n",
      "INFO 04-13 13:27:57 [weight_utils.py:265] Using model weights format ['*.safetensors']\n",
      "\u001b[1;36m(VllmWorkerProcess pid=147)\u001b[0;0m INFO 04-13 13:27:57 [weight_utils.py:265] Using model weights format ['*.safetensors']\n"
     ]
    },
    {
     "data": {
      "application/vnd.jupyter.widget-view+json": {
       "model_id": "33717f4dfab74f60bc5fe7fef6454d71",
       "version_major": 2,
       "version_minor": 0
      },
      "text/plain": [
       "model.safetensors:   0%|          | 0.00/3.55G [00:00<?, ?B/s]"
      ]
     },
     "metadata": {},
     "output_type": "display_data"
    },
    {
     "name": "stdout",
     "output_type": "stream",
     "text": [
      "INFO 04-13 13:28:05 [weight_utils.py:281] Time spent downloading weights for deepseek-ai/DeepSeek-R1-Distill-Qwen-1.5B: 7.932770 seconds\n",
      "INFO 04-13 13:28:05 [weight_utils.py:315] No model.safetensors.index.json found in remote.\n"
     ]
    },
    {
     "data": {
      "application/vnd.jupyter.widget-view+json": {
       "model_id": "ce39b473d6f445eba7e39d13f1618d0f",
       "version_major": 2,
       "version_minor": 0
      },
      "text/plain": [
       "Loading safetensors checkpoint shards:   0% Completed | 0/1 [00:00<?, ?it/s]\n"
      ]
     },
     "metadata": {},
     "output_type": "display_data"
    },
    {
     "name": "stdout",
     "output_type": "stream",
     "text": [
      "\u001b[1;36m(VllmWorkerProcess pid=147)\u001b[0;0m INFO 04-13 13:28:06 [weight_utils.py:281] Time spent downloading weights for deepseek-ai/DeepSeek-R1-Distill-Qwen-1.5B: 0.971203 seconds\n",
      "\u001b[1;36m(VllmWorkerProcess pid=147)\u001b[0;0m INFO 04-13 13:28:06 [weight_utils.py:315] No model.safetensors.index.json found in remote.\n",
      "INFO 04-13 13:28:08 [loader.py:447] Loading weights took 3.10 seconds\n",
      "INFO 04-13 13:28:09 [model_runner.py:1146] Model loading took 1.6918 GiB and 11.437391 seconds\n",
      "\u001b[1;36m(VllmWorkerProcess pid=147)\u001b[0;0m INFO 04-13 13:28:09 [loader.py:447] Loading weights took 2.35 seconds\n",
      "\u001b[1;36m(VllmWorkerProcess pid=147)\u001b[0;0m INFO 04-13 13:28:09 [model_runner.py:1146] Model loading took 1.6918 GiB and 11.864033 seconds\n",
      "\u001b[1;36m(VllmWorkerProcess pid=147)\u001b[0;0m INFO 04-13 13:28:18 [worker.py:267] Memory profiling takes 8.71 seconds\n",
      "\u001b[1;36m(VllmWorkerProcess pid=147)\u001b[0;0m INFO 04-13 13:28:18 [worker.py:267] the current vLLM instance can use total_gpu_memory (14.74GiB) x gpu_memory_utilization (0.90) = 13.27GiB\n",
      "\u001b[1;36m(VllmWorkerProcess pid=147)\u001b[0;0m INFO 04-13 13:28:18 [worker.py:267] model weights take 1.69GiB; non_torch_memory takes 0.12GiB; PyTorch activation peak memory takes 0.25GiB; the rest of the memory reserved for KV Cache is 11.20GiB.\n",
      "INFO 04-13 13:28:18 [worker.py:267] Memory profiling takes 8.82 seconds\n",
      "INFO 04-13 13:28:18 [worker.py:267] the current vLLM instance can use total_gpu_memory (14.74GiB) x gpu_memory_utilization (0.90) = 13.27GiB\n",
      "INFO 04-13 13:28:18 [worker.py:267] model weights take 1.69GiB; non_torch_memory takes 0.12GiB; PyTorch activation peak memory takes 1.39GiB; the rest of the memory reserved for KV Cache is 10.06GiB.\n",
      "INFO 04-13 13:28:19 [executor_base.py:112] # cuda blocks: 47106, # CPU blocks: 18724\n",
      "INFO 04-13 13:28:19 [executor_base.py:117] Maximum concurrency for 131072 tokens per request: 5.75x\n",
      "INFO 04-13 13:28:25 [model_runner.py:1456] Capturing cudagraphs for decoding. This may lead to unexpected consequences if the model is not static. To run the model in eager mode, set 'enforce_eager=True' or use '--enforce-eager' in the CLI. If out-of-memory error occurs during cudagraph capture, consider decreasing `gpu_memory_utilization` or switching to eager mode. You can also reduce the `max_num_seqs` as needed to decrease memory usage.\n"
     ]
    },
    {
     "name": "stderr",
     "output_type": "stream",
     "text": [
      "Capturing CUDA graph shapes:   0%|          | 0/35 [00:00<?, ?it/s]"
     ]
    },
    {
     "name": "stdout",
     "output_type": "stream",
     "text": [
      "\u001b[1;36m(VllmWorkerProcess pid=147)\u001b[0;0m INFO 04-13 13:28:26 [model_runner.py:1456] Capturing cudagraphs for decoding. This may lead to unexpected consequences if the model is not static. To run the model in eager mode, set 'enforce_eager=True' or use '--enforce-eager' in the CLI. If out-of-memory error occurs during cudagraph capture, consider decreasing `gpu_memory_utilization` or switching to eager mode. You can also reduce the `max_num_seqs` as needed to decrease memory usage.\n"
     ]
    },
    {
     "name": "stderr",
     "output_type": "stream",
     "text": [
      "Capturing CUDA graph shapes: 100%|██████████| 35/35 [00:38<00:00,  1.10s/it]"
     ]
    },
    {
     "name": "stdout",
     "output_type": "stream",
     "text": [
      "INFO 04-13 13:29:04 [custom_all_reduce.py:195] Registering 1995 cuda graph addresses\n",
      "\u001b[1;36m(VllmWorkerProcess pid=147)\u001b[0;0m INFO 04-13 13:29:04 [custom_all_reduce.py:195] Registering 1995 cuda graph addresses\n",
      "\u001b[1;36m(VllmWorkerProcess pid=147)\u001b[0;0m INFO 04-13 13:29:04 [model_runner.py:1598] Graph capturing finished in 39 secs, took 0.21 GiB\n",
      "INFO 04-13 13:29:04 [model_runner.py:1598] Graph capturing finished in 39 secs, took 0.21 GiB\n",
      "INFO 04-13 13:29:04 [llm_engine.py:448] init engine (profile, create kv cache, warmup model) took 55.07 seconds\n"
     ]
    },
    {
     "name": "stderr",
     "output_type": "stream",
     "text": [
      "\n"
     ]
    },
    {
     "name": "stdout",
     "output_type": "stream",
     "text": [
      "LLM 'deepseek-ai/DeepSeek-R1-Distill-Qwen-1.5B' loaded successfully.\n"
     ]
    }
   ],
   "source": [
    "print(\"\\n--- Loading LLM with vLLM ---\")\n",
    "try:\n",
    "    llm = LLM(\n",
    "        model=MODEL_NAME,\n",
    "        tensor_parallel_size=2,\n",
    "        dtype=torch.float16,\n",
    "    )\n",
    "    sampling_params = SamplingParams(\n",
    "        max_tokens=MAX_TOKENS,\n",
    "        temperature=0.01,\n",
    "        top_p=1.0,\n",
    "        top_k=-1\n",
    "    )\n",
    "    print(f\"LLM '{MODEL_NAME}' loaded successfully.\")\n",
    "except Exception as e:\n",
    "    print(f\"Error loading LLM with vLLM: {e}\")\n",
    "    print(\"Please ensure the MODEL_NAME is correct, vLLM is installed, and you have compatible hardware (GPU).\")\n",
    "    exit()"
   ]
  },
  {
   "cell_type": "markdown",
   "metadata": {},
   "source": [
    "### 1. MedMCQA benchmark"
   ]
  },
  {
   "cell_type": "markdown",
   "metadata": {},
   "source": [
    "#### Dataset loading and preparing"
   ]
  },
  {
   "cell_type": "code",
   "execution_count": null,
   "metadata": {
    "execution": {
     "iopub.execute_input": "2025-04-13T11:51:16.770996Z",
     "iopub.status.busy": "2025-04-13T11:51:16.769837Z",
     "iopub.status.idle": "2025-04-13T11:51:16.775923Z",
     "shell.execute_reply": "2025-04-13T11:51:16.775072Z",
     "shell.execute_reply.started": "2025-04-13T11:51:16.770956Z"
    },
    "trusted": true
   },
   "outputs": [],
   "source": [
    "SEED = 4242\n",
    "BATCH_SIZE = 4\n",
    "NUM_SAMPLES = 200\n",
    "DATASET_MEDMCQA = \"openlifescienceai/medmcqa\""
   ]
  },
  {
   "cell_type": "code",
   "execution_count": null,
   "metadata": {
    "execution": {
     "iopub.execute_input": "2025-04-13T11:51:16.777604Z",
     "iopub.status.busy": "2025-04-13T11:51:16.776826Z",
     "iopub.status.idle": "2025-04-13T11:51:19.417379Z",
     "shell.execute_reply": "2025-04-13T11:51:19.416799Z",
     "shell.execute_reply.started": "2025-04-13T11:51:16.777578Z"
    },
    "trusted": true
   },
   "outputs": [
    {
     "data": {
      "application/vnd.jupyter.widget-view+json": {
       "model_id": "9202ea2eadb548a18821f7b2092cb5e2",
       "version_major": 2,
       "version_minor": 0
      },
      "text/plain": [
       "README.md:   0%|          | 0.00/10.7k [00:00<?, ?B/s]"
      ]
     },
     "metadata": {},
     "output_type": "display_data"
    },
    {
     "data": {
      "application/vnd.jupyter.widget-view+json": {
       "model_id": "1e5a4c6f61a24a308b8095339bc4f496",
       "version_major": 2,
       "version_minor": 0
      },
      "text/plain": [
       "train-00000-of-00001.parquet:   0%|          | 0.00/85.9M [00:00<?, ?B/s]"
      ]
     },
     "metadata": {},
     "output_type": "display_data"
    },
    {
     "data": {
      "application/vnd.jupyter.widget-view+json": {
       "model_id": "8cc7d1e9730743cc8ae4346e35f5fdb3",
       "version_major": 2,
       "version_minor": 0
      },
      "text/plain": [
       "test-00000-of-00001.parquet:   0%|          | 0.00/936k [00:00<?, ?B/s]"
      ]
     },
     "metadata": {},
     "output_type": "display_data"
    },
    {
     "data": {
      "application/vnd.jupyter.widget-view+json": {
       "model_id": "f72e31558cfb43ba9da441691ec63f05",
       "version_major": 2,
       "version_minor": 0
      },
      "text/plain": [
       "validation-00000-of-00001.parquet:   0%|          | 0.00/1.48M [00:00<?, ?B/s]"
      ]
     },
     "metadata": {},
     "output_type": "display_data"
    },
    {
     "data": {
      "application/vnd.jupyter.widget-view+json": {
       "model_id": "0eb7a7f5097445868c10391408924beb",
       "version_major": 2,
       "version_minor": 0
      },
      "text/plain": [
       "Generating train split:   0%|          | 0/182822 [00:00<?, ? examples/s]"
      ]
     },
     "metadata": {},
     "output_type": "display_data"
    },
    {
     "data": {
      "application/vnd.jupyter.widget-view+json": {
       "model_id": "aad726362c574084aa44b35cda7fdc79",
       "version_major": 2,
       "version_minor": 0
      },
      "text/plain": [
       "Generating test split:   0%|          | 0/6150 [00:00<?, ? examples/s]"
      ]
     },
     "metadata": {},
     "output_type": "display_data"
    },
    {
     "data": {
      "application/vnd.jupyter.widget-view+json": {
       "model_id": "6500a417cf1d4a85aa10025ab72364c9",
       "version_major": 2,
       "version_minor": 0
      },
      "text/plain": [
       "Generating validation split:   0%|          | 0/4183 [00:00<?, ? examples/s]"
      ]
     },
     "metadata": {},
     "output_type": "display_data"
    },
    {
     "data": {
      "text/plain": [
       "Dataset({\n",
       "    features: ['id', 'question', 'opa', 'opb', 'opc', 'opd', 'cop', 'choice_type', 'exp', 'subject_name', 'topic_name'],\n",
       "    num_rows: 200\n",
       "})"
      ]
     },
     "execution_count": 6,
     "metadata": {},
     "output_type": "execute_result"
    }
   ],
   "source": [
    "ds_medmcqa = load_dataset(DATASET_MEDMCQA, split=\"validation\")\n",
    "ds_medmcqa = ds_medmcqa.shuffle(seed=SEED).select(range(NUM_SAMPLES))\n",
    "ds_medmcqa"
   ]
  },
  {
   "cell_type": "code",
   "execution_count": 7,
   "metadata": {
    "execution": {
     "iopub.execute_input": "2025-04-13T11:51:19.418378Z",
     "iopub.status.busy": "2025-04-13T11:51:19.418074Z",
     "iopub.status.idle": "2025-04-13T11:51:19.425418Z",
     "shell.execute_reply": "2025-04-13T11:51:19.424698Z",
     "shell.execute_reply.started": "2025-04-13T11:51:19.418342Z"
    },
    "trusted": true
   },
   "outputs": [
    {
     "data": {
      "text/plain": [
       "{'id': '4653fb7a-ddbf-493b-b4ef-92205582a27a',\n",
       " 'question': 'Which of the following tooth is not having 5 cusps?',\n",
       " 'opa': 'Mandibular 2nd Molar',\n",
       " 'opb': 'Mandibular 1st Molar',\n",
       " 'opc': 'Mandibular 3rd Molar',\n",
       " 'opd': 'Maxillary 1st Molar',\n",
       " 'cop': 0,\n",
       " 'choice_type': 'single',\n",
       " 'exp': None,\n",
       " 'subject_name': 'Dental',\n",
       " 'topic_name': None}"
      ]
     },
     "execution_count": 7,
     "metadata": {},
     "output_type": "execute_result"
    }
   ],
   "source": [
    "ds_medmcqa[0]"
   ]
  },
  {
   "cell_type": "markdown",
   "metadata": {},
   "source": [
    "#### Helper functions definition"
   ]
  },
  {
   "cell_type": "code",
   "execution_count": 8,
   "metadata": {
    "execution": {
     "iopub.execute_input": "2025-04-13T11:51:19.426307Z",
     "iopub.status.busy": "2025-04-13T11:51:19.426071Z",
     "iopub.status.idle": "2025-04-13T11:51:19.438215Z",
     "shell.execute_reply": "2025-04-13T11:51:19.437702Z",
     "shell.execute_reply.started": "2025-04-13T11:51:19.426285Z"
    },
    "trusted": true
   },
   "outputs": [],
   "source": [
    "def format_prompt_medmcqa(example):\n",
    "    \"\"\"Formats a single example into a prompt for the LLM.\"\"\"\n",
    "    question = example['question']\n",
    "    options = {\n",
    "        \"A\": example['opa'],\n",
    "        \"B\": example['opb'],\n",
    "        \"C\": example['opc'],\n",
    "        \"D\": example['opd']\n",
    "    }\n",
    "    \n",
    "    prompt = f\"\"\"\n",
    "You are an expert in solving multiple-choice questions accurately and explaining your reasoning clearly.\n",
    "Given a question and a list of answer choices (A, B, C, D), your task is to:\n",
    "1. Reason shortly about the question and answer choices to find evidances to support your answer.\n",
    "2. Identify the correct answer. Please choose the single best answer from the options provided.\n",
    "3. Output the final answer in the format: Answer: [Option Letter]\n",
    "\n",
    "Question: {question}\n",
    "Options:\n",
    "A. {options['A']}\n",
    "B. {options['B']}\n",
    "C. {options['C']}\n",
    "D. {options['D']}\n",
    "\n",
    "Reasoning:\n",
    "    \"\"\"\n",
    "    return prompt"
   ]
  },
  {
   "cell_type": "code",
   "execution_count": 9,
   "metadata": {
    "execution": {
     "iopub.execute_input": "2025-04-13T11:51:19.439239Z",
     "iopub.status.busy": "2025-04-13T11:51:19.438981Z",
     "iopub.status.idle": "2025-04-13T11:51:19.449383Z",
     "shell.execute_reply": "2025-04-13T11:51:19.448670Z",
     "shell.execute_reply.started": "2025-04-13T11:51:19.439216Z"
    },
    "trusted": true
   },
   "outputs": [],
   "source": [
    "def get_ground_truth_medmcqa(example):\n",
    "    \"\"\"Maps the correct option index (cop) to the corresponding letter.\"\"\"\n",
    "    mapping = {0: 'A', 1: 'B', 2: 'C', 3: 'D'}\n",
    "    cop_index = example.get('cop')\n",
    "    if cop_index is None or cop_index not in mapping:\n",
    "        print(f\"Warning: Invalid 'cop' value found: {cop_index} in example ID {example.get('id')}. Skipping ground truth.\")\n",
    "        return None\n",
    "    return mapping[cop_index]"
   ]
  },
  {
   "cell_type": "code",
   "execution_count": 10,
   "metadata": {
    "execution": {
     "iopub.execute_input": "2025-04-13T11:51:19.451706Z",
     "iopub.status.busy": "2025-04-13T11:51:19.451469Z",
     "iopub.status.idle": "2025-04-13T11:51:19.464734Z",
     "shell.execute_reply": "2025-04-13T11:51:19.463997Z",
     "shell.execute_reply.started": "2025-04-13T11:51:19.451683Z"
    },
    "trusted": true
   },
   "outputs": [],
   "source": [
    "def extract_choice_mcq(generated_text):\n",
    "    \"\"\"Extracts the predicted choice (A, B, C, or D) from the LLM's output.\"\"\"\n",
    "    text = generated_text.strip()\n",
    "\n",
    "    # Check for phrases like \"The answer is A\" or \"Answer: A\"\n",
    "    match = re.search(r'(?:answer|choice|option) is\\s*:?\\s*([A-D])', text, re.IGNORECASE)\n",
    "    if match:\n",
    "        return match.group(1).upper()\n",
    "\n",
    "    # Look for the first standalone letter A, B, C, or D in the text\n",
    "    match = re.search(r'\\b([A-D])\\b', text)\n",
    "    if match:\n",
    "        return match.group(1).upper()\n",
    "\n",
    "    # Fallback - If no clear choice found, return None\n",
    "    print(f\"Warning: Could not extract answer from text: '{text[:100]}...{text[-100:]}'\")\n",
    "    return None"
   ]
  },
  {
   "cell_type": "markdown",
   "metadata": {},
   "source": [
    "#### Evaluation"
   ]
  },
  {
   "cell_type": "code",
   "execution_count": 11,
   "metadata": {
    "execution": {
     "iopub.execute_input": "2025-04-13T11:51:19.465724Z",
     "iopub.status.busy": "2025-04-13T11:51:19.465394Z",
     "iopub.status.idle": "2025-04-13T11:51:19.536388Z",
     "shell.execute_reply": "2025-04-13T11:51:19.535817Z",
     "shell.execute_reply.started": "2025-04-13T11:51:19.465702Z"
    },
    "trusted": true
   },
   "outputs": [
    {
     "name": "stdout",
     "output_type": "stream",
     "text": [
      "\n",
      "--- Preparing Prompts and Ground Truths ---\n"
     ]
    },
    {
     "name": "stderr",
     "output_type": "stream",
     "text": [
      "Formatting prompts: 100%|██████████| 200/200 [00:00<00:00, 7126.02it/s]\n",
      "Extracting ground truths: 100%|██████████| 200/200 [00:00<00:00, 7985.12it/s]"
     ]
    },
    {
     "name": "stdout",
     "output_type": "stream",
     "text": [
      "\n",
      "Example Prompt:\n",
      "\n",
      "You are an expert in solving multiple-choice questions accurately and explaining your reasoning clearly.\n",
      "Given a question and a list of answer choices (A, B, C, D), your task is to:\n",
      "1. Reason shortly about the question and answer choices to find evidances to support your answer.\n",
      "2. Identify the correct answer. Please choose the single best answer from the options provided.\n",
      "3. Output the final answer in the format: Answer: [Option Letter]\n",
      "\n",
      "Question: Which of the following tooth is not having 5 cusps?\n",
      "Options:\n",
      "A. Mandibular 2nd Molar\n",
      "B. Mandibular 1st Molar\n",
      "C. Mandibular 3rd Molar\n",
      "D. Maxillary 1st Molar\n",
      "\n",
      "Reasoning:\n",
      "    \n",
      "Corresponding Ground Truth: A\n"
     ]
    },
    {
     "name": "stderr",
     "output_type": "stream",
     "text": [
      "\n"
     ]
    }
   ],
   "source": [
    "print(\"\\n--- Preparing Prompts and Ground Truths ---\")\n",
    "prompts = [format_prompt_medmcqa(ex) for ex in tqdm(ds_medmcqa, desc=\"Formatting prompts\")]\n",
    "ground_truths = [get_ground_truth_medmcqa(ex) for ex in tqdm(ds_medmcqa, desc=\"Extracting ground truths\")]\n",
    "valid_indices = [i for i, gt in enumerate(ground_truths) if gt is not None]\n",
    "\n",
    "if len(valid_indices) < len(ground_truths):\n",
    "     print(f\"Warning: {len(ground_truths) - len(valid_indices)} examples had invalid ground truths and were excluded.\")\n",
    "     prompts = [prompts[i] for i in valid_indices]\n",
    "     ground_truths = [ground_truths[i] for i in valid_indices]\n",
    "     original_indices = valid_indices\n",
    "\n",
    "if len(prompts) > 0:\n",
    "    print(\"\\nExample Prompt:\")\n",
    "    print(prompts[0])\n",
    "    print(f\"Corresponding Ground Truth: {ground_truths[0]}\")\n",
    "else:\n",
    "    print(\"No valid prompts to evaluate.\")\n",
    "    exit()"
   ]
  },
  {
   "cell_type": "code",
   "execution_count": 12,
   "metadata": {
    "execution": {
     "iopub.execute_input": "2025-04-13T11:51:19.537329Z",
     "iopub.status.busy": "2025-04-13T11:51:19.537099Z",
     "iopub.status.idle": "2025-04-13T12:13:49.476338Z",
     "shell.execute_reply": "2025-04-13T12:13:49.475624Z",
     "shell.execute_reply.started": "2025-04-13T11:51:19.537314Z"
    },
    "trusted": true
   },
   "outputs": [
    {
     "name": "stdout",
     "output_type": "stream",
     "text": [
      "\n",
      "--- Running Inference ---\n"
     ]
    },
    {
     "name": "stderr",
     "output_type": "stream",
     "text": [
      "Generating Responses: 100%|██████████| 50/50 [22:29<00:00, 27.00s/it]"
     ]
    },
    {
     "name": "stdout",
     "output_type": "stream",
     "text": [
      "\n",
      "Example Generated Text (raw):\n",
      "1. I need to recall the number of cusps each type of tooth has.\n",
      "     2. Mandibular teeth are the ones near the mouth, so they are the ones that are used for chewing food.\n",
      "     3. The Mandibular 1st Molar is the first tooth that comes out of the mouth, and it's located on the lower side.\n",
      "     4. I remember that the Mandibular 1st Molar has 2 cusps. It's a simple tooth with a single point.\n",
      "     5. The Mandibular 2nd Molar is the second tooth, which is also on the lower side but a bit larger. It has 5 cusps. This is where the question is about.\n",
      "     6. The Mandibular 3rd Molar is the third tooth, which is the largest of the Mandibular ones. It has 10 cusps. This is a more complex tooth.\n",
      "     7. The Maxillary 1st Molar is the first tooth on the upper side of the jaw. It has 2 cusps as well.\n",
      "     8. So, the Mandibular 2nd Molar has 5 cusps, which is the answer to the question.\n",
      "</think>\n",
      "\n",
      "The Mandibular 2nd Molar has 5 cusps, making it the correct answer.\n",
      "\n",
      "Answer: C\n"
     ]
    },
    {
     "name": "stderr",
     "output_type": "stream",
     "text": [
      "\n"
     ]
    }
   ],
   "source": [
    "print(\"\\n--- Running Inference ---\")\n",
    "all_outputs_text = []\n",
    "num_batches = math.ceil(len(prompts) / BATCH_SIZE)\n",
    "\n",
    "for i in tqdm(range(num_batches), desc=\"Generating Responses\"):\n",
    "    start_idx = i * BATCH_SIZE\n",
    "    end_idx = min((i + 1) * BATCH_SIZE, len(prompts))\n",
    "    batch_prompts = prompts[start_idx:end_idx]\n",
    "    outputs = llm.generate(batch_prompts, sampling_params, use_tqdm=False)\n",
    "    batch_outputs_text = [output.outputs[0].text.strip() for output in outputs]\n",
    "    all_outputs_text.extend(batch_outputs_text)\n",
    "\n",
    "if len(all_outputs_text) > 0:\n",
    "    print(\"\\nExample Generated Text (raw):\")\n",
    "    print(all_outputs_text[0])"
   ]
  },
  {
   "cell_type": "code",
   "execution_count": 13,
   "metadata": {
    "execution": {
     "iopub.execute_input": "2025-04-13T12:13:49.477511Z",
     "iopub.status.busy": "2025-04-13T12:13:49.477269Z",
     "iopub.status.idle": "2025-04-13T12:13:49.516962Z",
     "shell.execute_reply": "2025-04-13T12:13:49.516390Z",
     "shell.execute_reply.started": "2025-04-13T12:13:49.477488Z"
    },
    "trusted": true
   },
   "outputs": [
    {
     "name": "stdout",
     "output_type": "stream",
     "text": [
      "\n",
      "--- Extracting Predictions ---\n"
     ]
    },
    {
     "name": "stderr",
     "output_type": "stream",
     "text": [
      "Extracting choices: 100%|██████████| 200/200 [00:00<00:00, 6320.10it/s]"
     ]
    },
    {
     "name": "stdout",
     "output_type": "stream",
     "text": [
      "Warning: Could not extract answer from text: '1. I remember that in neonatal behavior, different states are marked based on specific behaviors. St... occurring. So, that would eliminate State 3. So, the infant is in a state where they have rapid eye'\n",
      "Warning: Could not extract answer from text: '1. I need to recall what each muscle's fibers look like.\n",
      "     2. Saorius is a muscle in the chest, I...  141. I'm not entirely sure, but I think that the scapula muscles have parallel fibers, but I'm not'\n",
      "Warning: Could not extract answer from text: '1. I remember that different analyses are used for different types of malocclusions.\n",
      "     2. Class I...he Ashley & Howe analysis, which is a specific method for class I.\n",
      "     100. So, if class II is more'\n",
      "Warning: Could not extract answer from text: '1. I remember that primary sites of metastasis are often associated with the eye, especially in case...o, the primary site is the cornea, which is within the eye.\n",
      "     186. Therefore, the primary site is'\n",
      "Warning: Could not extract answer from text: '1. I need to understand what differentiates the first, second, and third molars in the maxilla.\n",
      "    ... the DL groove in the first and second molars, but less important than the relative positions of the'\n",
      "Warning: Could not extract answer from text: '1. I remember that clonic seizures are characterized by a series of repeated, non-overlapping cluste...the number of seizures, often seen in multiple focal areas.\n",
      "    128. Focal tonic clonic seizures are'\n",
      "\n",
      "------------------------------\n",
      "Number of invalid responces: 6\n",
      "\n",
      "Example Extracted Prediction:\n",
      "C\n"
     ]
    },
    {
     "name": "stderr",
     "output_type": "stream",
     "text": [
      "\n"
     ]
    }
   ],
   "source": [
    "print(\"\\n--- Extracting Predictions ---\")\n",
    "predictions = [extract_choice_mcq(text) for text in tqdm(all_outputs_text, desc=\"Extracting choices\")]\n",
    "num_invalid_responces = predictions.count(None)\n",
    "print(f\"\\n------------------------------\\nNumber of invalid responces: {num_invalid_responces}\")\n",
    "\n",
    "if len(predictions) > 0:\n",
    "    print(\"\\nExample Extracted Prediction:\")\n",
    "    print(predictions[0])"
   ]
  },
  {
   "cell_type": "code",
   "execution_count": 14,
   "metadata": {
    "execution": {
     "iopub.execute_input": "2025-04-13T12:13:49.518009Z",
     "iopub.status.busy": "2025-04-13T12:13:49.517743Z",
     "iopub.status.idle": "2025-04-13T12:13:49.554561Z",
     "shell.execute_reply": "2025-04-13T12:13:49.553824Z",
     "shell.execute_reply.started": "2025-04-13T12:13:49.517987Z"
    },
    "trusted": true
   },
   "outputs": [
    {
     "name": "stdout",
     "output_type": "stream",
     "text": [
      "\n",
      "--- Calculating Metrics ---\n"
     ]
    }
   ],
   "source": [
    "print(\"\\n--- Calculating Metrics ---\")\n",
    "correct_count = 0\n",
    "total_count = len(predictions)\n",
    "results_by_subject = {}\n",
    "\n",
    "if total_count != len(ground_truths):\n",
    "     print(f\"Warning: Mismatch between number of predictions ({total_count}) and ground truths ({len(ground_truths)}). This should not happen.\")\n",
    "     total_count = min(total_count, len(ground_truths))\n",
    "\n",
    "for i in range(total_count):\n",
    "    original_data_index = original_indices[i] if 'original_indices' in locals() else i\n",
    "    data_item = ds_medmcqa[original_data_index]\n",
    "    subject = data_item.get('subject_name', 'Unknown')\n",
    "\n",
    "    pred = predictions[i]\n",
    "    truth = ground_truths[i]\n",
    "    is_correct = (pred == truth)\n",
    "\n",
    "    if subject not in results_by_subject:\n",
    "        results_by_subject[subject] = {'correct': 0, 'total': 0}\n",
    "\n",
    "    if is_correct:\n",
    "        correct_count += 1\n",
    "        results_by_subject[subject]['correct'] += 1\n",
    "    results_by_subject[subject]['total'] += 1\n",
    "\n",
    "overall_accuracy = (correct_count / total_count) * 100 if total_count > 0 else 0"
   ]
  },
  {
   "cell_type": "code",
   "execution_count": 15,
   "metadata": {
    "execution": {
     "iopub.execute_input": "2025-04-13T12:13:49.555375Z",
     "iopub.status.busy": "2025-04-13T12:13:49.555187Z",
     "iopub.status.idle": "2025-04-13T12:13:49.560629Z",
     "shell.execute_reply": "2025-04-13T12:13:49.559907Z",
     "shell.execute_reply.started": "2025-04-13T12:13:49.555361Z"
    },
    "trusted": true
   },
   "outputs": [
    {
     "name": "stdout",
     "output_type": "stream",
     "text": [
      "\n",
      "--- Evaluation Results ---\n",
      "Model Evaluated: deepseek-ai/DeepSeek-R1-Distill-Qwen-1.5B\n",
      "Dataset Used: openlifescienceai/medmcqa\n",
      "Number of Questions Evaluated: 200\n",
      "Number of Correct Answers: 61\n",
      "Overall Accuracy: 30.50%\n",
      "\n",
      "Accuracy by Subject:\n",
      "- Anaesthesia: 100.00% (2/2)\n",
      "- Anatomy: 16.67% (1/6)\n",
      "- Biochemistry: 25.00% (2/8)\n",
      "- Dental: 37.31% (25/67)\n",
      "- ENT: 0.00% (0/5)\n",
      "- Forensic Medicine: 28.57% (2/7)\n",
      "- Gynaecology & Obstetrics: 29.41% (5/17)\n",
      "- Medicine: 16.67% (1/6)\n",
      "- Microbiology: 16.67% (1/6)\n",
      "- Ophthalmology: 0.00% (0/4)\n",
      "- Pathology: 41.67% (5/12)\n",
      "- Pediatrics: 14.29% (2/14)\n",
      "- Pharmacology: 50.00% (6/12)\n",
      "- Physiology: 33.33% (2/6)\n",
      "- Radiology: 50.00% (1/2)\n",
      "- Skin: 0.00% (0/1)\n",
      "- Social & Preventive Medicine: 33.33% (2/6)\n",
      "- Surgery: 21.05% (4/19)\n"
     ]
    }
   ],
   "source": [
    "print(\"\\n--- Evaluation Results ---\")\n",
    "print(f\"Model Evaluated: {MODEL_NAME}\")\n",
    "print(f\"Dataset Used: {DATASET_MEDMCQA}\")\n",
    "print(f\"Number of Questions Evaluated: {total_count}\")\n",
    "print(f\"Number of Correct Answers: {correct_count}\")\n",
    "print(f\"Overall Accuracy: {overall_accuracy:.2f}%\")\n",
    "\n",
    "print(\"\\nAccuracy by Subject:\")\n",
    "sorted_subjects = sorted(results_by_subject.keys())\n",
    "for subject in sorted_subjects:\n",
    "    counts = results_by_subject[subject]\n",
    "    sub_acc = (counts['correct'] / counts['total']) * 100 if counts['total'] > 0 else 0\n",
    "    print(f\"- {subject}: {sub_acc:.2f}% ({counts['correct']}/{counts['total']})\")"
   ]
  },
  {
   "cell_type": "markdown",
   "metadata": {},
   "source": [
    "### 2. MedQA"
   ]
  },
  {
   "cell_type": "markdown",
   "metadata": {},
   "source": [
    "#### Dataset loading and preparing"
   ]
  },
  {
   "cell_type": "code",
   "execution_count": 16,
   "metadata": {
    "execution": {
     "iopub.execute_input": "2025-04-13T12:13:49.563445Z",
     "iopub.status.busy": "2025-04-13T12:13:49.563196Z",
     "iopub.status.idle": "2025-04-13T12:13:49.573305Z",
     "shell.execute_reply": "2025-04-13T12:13:49.572518Z",
     "shell.execute_reply.started": "2025-04-13T12:13:49.563429Z"
    },
    "trusted": true
   },
   "outputs": [],
   "source": [
    "SEED = 4242\n",
    "BATCH_SIZE = 4\n",
    "NUM_SAMPLES = 200\n",
    "DATASET_MEDQA = \"GBaker/MedQA-USMLE-4-options-hf\"\n",
    "SPLIT_MEDQA = \"validation\""
   ]
  },
  {
   "cell_type": "code",
   "execution_count": 17,
   "metadata": {
    "execution": {
     "iopub.execute_input": "2025-04-13T12:13:49.574952Z",
     "iopub.status.busy": "2025-04-13T12:13:49.574141Z",
     "iopub.status.idle": "2025-04-13T12:13:51.486167Z",
     "shell.execute_reply": "2025-04-13T12:13:51.485494Z",
     "shell.execute_reply.started": "2025-04-13T12:13:49.574935Z"
    },
    "trusted": true
   },
   "outputs": [
    {
     "data": {
      "application/vnd.jupyter.widget-view+json": {
       "model_id": "25884943c1794127ba962867e15278b5",
       "version_major": 2,
       "version_minor": 0
      },
      "text/plain": [
       "README.md:   0%|          | 0.00/640 [00:00<?, ?B/s]"
      ]
     },
     "metadata": {},
     "output_type": "display_data"
    },
    {
     "data": {
      "application/vnd.jupyter.widget-view+json": {
       "model_id": "5a908870c1fc445fbbe54147ecaf8398",
       "version_major": 2,
       "version_minor": 0
      },
      "text/plain": [
       "train.json:   0%|          | 0.00/9.77M [00:00<?, ?B/s]"
      ]
     },
     "metadata": {},
     "output_type": "display_data"
    },
    {
     "data": {
      "application/vnd.jupyter.widget-view+json": {
       "model_id": "06043cf2330d42baa981a241373bb389",
       "version_major": 2,
       "version_minor": 0
      },
      "text/plain": [
       "dev.json:   0%|          | 0.00/1.22M [00:00<?, ?B/s]"
      ]
     },
     "metadata": {},
     "output_type": "display_data"
    },
    {
     "data": {
      "application/vnd.jupyter.widget-view+json": {
       "model_id": "a5847cb9378d491688f3ddf02755ae3d",
       "version_major": 2,
       "version_minor": 0
      },
      "text/plain": [
       "test.json:   0%|          | 0.00/1.25M [00:00<?, ?B/s]"
      ]
     },
     "metadata": {},
     "output_type": "display_data"
    },
    {
     "data": {
      "application/vnd.jupyter.widget-view+json": {
       "model_id": "ac25648886a045ad877314933ec0185f",
       "version_major": 2,
       "version_minor": 0
      },
      "text/plain": [
       "Generating train split:   0%|          | 0/10178 [00:00<?, ? examples/s]"
      ]
     },
     "metadata": {},
     "output_type": "display_data"
    },
    {
     "data": {
      "application/vnd.jupyter.widget-view+json": {
       "model_id": "de2d1240b87b4c8e9cb4d7fda92f634f",
       "version_major": 2,
       "version_minor": 0
      },
      "text/plain": [
       "Generating validation split:   0%|          | 0/1272 [00:00<?, ? examples/s]"
      ]
     },
     "metadata": {},
     "output_type": "display_data"
    },
    {
     "data": {
      "application/vnd.jupyter.widget-view+json": {
       "model_id": "f91c11cf37704cd5aa73903a0e6d25f5",
       "version_major": 2,
       "version_minor": 0
      },
      "text/plain": [
       "Generating test split:   0%|          | 0/1273 [00:00<?, ? examples/s]"
      ]
     },
     "metadata": {},
     "output_type": "display_data"
    },
    {
     "data": {
      "text/plain": [
       "Dataset({\n",
       "    features: ['id', 'sent1', 'sent2', 'ending0', 'ending1', 'ending2', 'ending3', 'label'],\n",
       "    num_rows: 200\n",
       "})"
      ]
     },
     "execution_count": 17,
     "metadata": {},
     "output_type": "execute_result"
    }
   ],
   "source": [
    "ds_medqa = load_dataset(DATASET_MEDQA, split=SPLIT_MEDQA)\n",
    "ds_medqa = ds_medqa.shuffle(seed=SEED).select(range(NUM_SAMPLES))\n",
    "ds_medqa"
   ]
  },
  {
   "cell_type": "code",
   "execution_count": 18,
   "metadata": {
    "execution": {
     "iopub.execute_input": "2025-04-13T12:13:51.487046Z",
     "iopub.status.busy": "2025-04-13T12:13:51.486824Z",
     "iopub.status.idle": "2025-04-13T12:13:51.492371Z",
     "shell.execute_reply": "2025-04-13T12:13:51.491713Z",
     "shell.execute_reply.started": "2025-04-13T12:13:51.487030Z"
    },
    "trusted": true
   },
   "outputs": [
    {
     "data": {
      "text/plain": [
       "{'id': 'dev-00646',\n",
       " 'sent1': 'A 31-year-old gravida 2 para 2 woman presents to her primary care physician for follow up. Two weeks ago, she gave birth via vaginal delivery to a 9.5 lb (4.3 kg) male infant. The delivery was complicated by a vaginal laceration that required extensive suturing once the infant was delivered. Immediately after delivery of the placenta she experienced intense shaking and chills that resolved within 1 hour. She has felt well since the delivery but admits to 6 days of malodorous smelling vaginal discharge that is tan in color. She has a history of vaginal candidiasis and is worried that it may be recurring. Her temperature is 98.8°F (37.1°C), blood pressure is 122/73 mmHg, pulse is 88/min, respirations are 16/min, and BMI is 33 kg/m^2. Speculum exam reveals a 1.5 cm dark red, velvety lesion on the posterior vaginal wall with a tan discharge. The pH of the discharge is 6.4. Which of the following is the most likely diagnosis?',\n",
       " 'sent2': '',\n",
       " 'ending0': 'Bacterial vaginosis',\n",
       " 'ending1': 'Rectovaginal fistula',\n",
       " 'ending2': 'Vaginal melanoma',\n",
       " 'ending3': 'Vesicovaginal fistula',\n",
       " 'label': 1}"
      ]
     },
     "execution_count": 18,
     "metadata": {},
     "output_type": "execute_result"
    }
   ],
   "source": [
    "ds_medqa[1]"
   ]
  },
  {
   "cell_type": "markdown",
   "metadata": {},
   "source": [
    "#### Helper functions definition"
   ]
  },
  {
   "cell_type": "code",
   "execution_count": 19,
   "metadata": {
    "execution": {
     "iopub.execute_input": "2025-04-13T12:13:51.493484Z",
     "iopub.status.busy": "2025-04-13T12:13:51.493266Z",
     "iopub.status.idle": "2025-04-13T12:13:51.505399Z",
     "shell.execute_reply": "2025-04-13T12:13:51.504794Z",
     "shell.execute_reply.started": "2025-04-13T12:13:51.493468Z"
    },
    "trusted": true
   },
   "outputs": [],
   "source": [
    "def format_prompt_medqa(example):\n",
    "    \"\"\"Formats a single example into a prompt for the LLM.\"\"\"\n",
    "    question = example['sent1']\n",
    "    options = {\n",
    "        \"A\": example['ending0'],\n",
    "        \"B\": example['ending1'],\n",
    "        \"C\": example['ending2'],\n",
    "        \"D\": example['ending3'],\n",
    "    }\n",
    "    \n",
    "    prompt = f\"\"\"\n",
    "You are an expert in solving multiple-choice questions accurately and explaining your reasoning clearly.\n",
    "Given a question and a list of answer choices (A, B, C, D), your task is to:\n",
    "1. Reason shortly about the question and answer choices to find evidances to support your answer.\n",
    "2. Identify the correct answer. Please choose the single best answer from the options provided.\n",
    "3. Output the final answer in the format: Answer: [Option Letter]\n",
    "\n",
    "Question: {question}\n",
    "Options:\n",
    "A. {options['A']}\n",
    "B. {options['B']}\n",
    "C. {options['C']}\n",
    "D. {options['D']}\n",
    "\n",
    "Reasoning:\n",
    "    \"\"\"\n",
    "    return prompt"
   ]
  },
  {
   "cell_type": "code",
   "execution_count": 20,
   "metadata": {
    "execution": {
     "iopub.execute_input": "2025-04-13T12:13:51.506381Z",
     "iopub.status.busy": "2025-04-13T12:13:51.506098Z",
     "iopub.status.idle": "2025-04-13T12:13:51.522092Z",
     "shell.execute_reply": "2025-04-13T12:13:51.521538Z",
     "shell.execute_reply.started": "2025-04-13T12:13:51.506364Z"
    },
    "trusted": true
   },
   "outputs": [],
   "source": [
    "def get_ground_truth_medqa(example):\n",
    "    \"\"\"Maps the label to the corresponding letter.\"\"\"\n",
    "    mapping = {0: 'A', 1: 'B', 2: 'C', 3: 'D'}\n",
    "    label = example.get('label')\n",
    "    if label is None or label not in mapping:\n",
    "        print(f\"Warning: Invalid 'cop' value found: {label} in example ID {example.get('id')}. Skipping ground truth.\")\n",
    "        return None\n",
    "    return mapping[label]"
   ]
  },
  {
   "cell_type": "markdown",
   "metadata": {},
   "source": [
    "#### Evaluation"
   ]
  },
  {
   "cell_type": "code",
   "execution_count": 21,
   "metadata": {
    "execution": {
     "iopub.execute_input": "2025-04-13T12:13:51.523098Z",
     "iopub.status.busy": "2025-04-13T12:13:51.522855Z",
     "iopub.status.idle": "2025-04-13T12:13:51.595261Z",
     "shell.execute_reply": "2025-04-13T12:13:51.594218Z",
     "shell.execute_reply.started": "2025-04-13T12:13:51.523077Z"
    },
    "trusted": true
   },
   "outputs": [
    {
     "name": "stdout",
     "output_type": "stream",
     "text": [
      "\n",
      "--- Preparing Prompts and Ground Truths ---\n"
     ]
    },
    {
     "name": "stderr",
     "output_type": "stream",
     "text": [
      "Formatting prompts: 100%|██████████| 200/200 [00:00<00:00, 7845.61it/s]\n",
      "Extracting ground truths: 100%|██████████| 200/200 [00:00<00:00, 7082.16it/s]"
     ]
    },
    {
     "name": "stdout",
     "output_type": "stream",
     "text": [
      "\n",
      "Example Prompt:\n",
      "\n",
      "You are an expert in solving multiple-choice questions accurately and explaining your reasoning clearly.\n",
      "Given a question and a list of answer choices (A, B, C, D), your task is to:\n",
      "1. Reason shortly about the question and answer choices to find evidances to support your answer.\n",
      "2. Identify the correct answer. Please choose the single best answer from the options provided.\n",
      "3. Output the final answer in the format: Answer: [Option Letter]\n",
      "\n",
      "Question: A 9-year-old girl is brought to the physician by her father for evaluation of intermittent muscle cramps for the past year and short stature. She has had recurrent upper respiratory tract infections since infancy. She is at the 5th percentile for weight and 10th percentile for height. Physical examination shows nasal polyps and dry skin. An x-ray of the right wrist shows osteopenia with epiphyseal widening. Which of the following sets of laboratory findings is most likely in this patient's serum?\n",
      " $$$ Calcium %%% Phosphorus %%% Parathyroid hormone %%% Calcitriol $$$\n",
      "Options:\n",
      "A. ↓ ↓ ↑ ↓\n",
      "B. ↓ ↑ ↑ ↓\n",
      "C. ↑ ↓ ↑ ↑\n",
      "D. Normal ↓ ↑ ↓\n",
      "\n",
      "Reasoning:\n",
      "    \n",
      "Corresponding Ground Truth: A\n"
     ]
    },
    {
     "name": "stderr",
     "output_type": "stream",
     "text": [
      "\n"
     ]
    }
   ],
   "source": [
    "print(\"\\n--- Preparing Prompts and Ground Truths ---\")\n",
    "prompts = [format_prompt_medqa(ex) for ex in tqdm(ds_medqa, desc=\"Formatting prompts\")]\n",
    "ground_truths = [get_ground_truth_medqa(ex) for ex in tqdm(ds_medqa, desc=\"Extracting ground truths\")]\n",
    "valid_indices = [i for i, gt in enumerate(ground_truths) if gt is not None]\n",
    "\n",
    "if len(valid_indices) < len(ground_truths):\n",
    "     print(f\"Warning: {len(ground_truths) - len(valid_indices)} examples had invalid ground truths and were excluded.\")\n",
    "     prompts = [prompts[i] for i in valid_indices]\n",
    "     ground_truths = [ground_truths[i] for i in valid_indices]\n",
    "     original_indices = valid_indices\n",
    "\n",
    "if len(prompts) > 0:\n",
    "    print(\"\\nExample Prompt:\")\n",
    "    print(prompts[0])\n",
    "    print(f\"Corresponding Ground Truth: {ground_truths[0]}\")\n",
    "else:\n",
    "    print(\"No valid prompts to evaluate.\")\n",
    "    exit()"
   ]
  },
  {
   "cell_type": "code",
   "execution_count": 22,
   "metadata": {
    "execution": {
     "iopub.execute_input": "2025-04-13T12:13:51.596385Z",
     "iopub.status.busy": "2025-04-13T12:13:51.596109Z",
     "iopub.status.idle": "2025-04-13T12:48:42.058701Z",
     "shell.execute_reply": "2025-04-13T12:48:42.057843Z",
     "shell.execute_reply.started": "2025-04-13T12:13:51.596360Z"
    },
    "trusted": true
   },
   "outputs": [
    {
     "name": "stdout",
     "output_type": "stream",
     "text": [
      "\n",
      "--- Running Inference ---\n"
     ]
    },
    {
     "name": "stderr",
     "output_type": "stream",
     "text": [
      "Generating Responses: 100%|██████████| 50/50 [34:50<00:00, 41.81s/it]"
     ]
    },
    {
     "name": "stdout",
     "output_type": "stream",
     "text": [
      "\n",
      "Example Generated Text (raw):\n",
      "1. The patient has short stature, which is associated with lower calcium and phosphorus levels. This is because shorter individuals have less calcium and phosphorus in their bones due to reduced bone density. So, calcium and phosphorus levels are likely to be low.\n",
      "\n",
      "2. The patient has recurrent upper respiratory tract infections, which are often caused by viruses like the common cold. However, the presence of a polyp in the nasal area suggests a more serious condition, possibly a polyps or a polyps with a polyps. Polyps can be a sign of a polyp, which is a benign or malignant growth of a tissue. In this case, the polyps are in the upper respiratory tract, which could indicate a polyp in the airway or the throat. Polyps in the airway can be a sign of a polyp, which is a benign or malignant growth of a tissue. Polyps in the airway can be a sign of a polyp, which is a benign or malignant growth of a tissue. Polyps in the airway can be a sign of a polyp, which is a benign or malignant growth of a tissue. Polyps in the airway can be a sign of a polyp, which is a benign or malignant growth of a tissue. Polyps in the airway can be a sign of a polyp, which is a benign or malignant growth of a tissue. Polyps in the airway can be a sign of a polyp, which is a benign or malignant growth of a tissue. Polyps in the airway can be a sign of a polyp, which is a benign or malignant growth of a tissue. Polyps in the airway can be a sign of a polyp, which is a benign or malignant growth of a tissue. Polyps in the airway can be a sign of a polyp, which is a benign or malignant growth of a tissue. Polyps in the airway can be a sign of a polyp, which is a benign or malignant growth of a tissue. Polyps in the airway can be a sign of a polyp, which is a benign or malignant growth of a tissue. Polyps in the airway can be a sign of a polyp, which is a benign or malignant growth of a tissue. Polyps in the airway can be a sign of a polyp, which is a benign or malignant growth of a tissue. Polyps in the airway can be a sign of a polyp, which is a benign or malignant growth of a tissue. Polyps in the airway can be a sign of a polyp, which is a benign or malignant growth of a tissue. Polyps in the airway can be a sign of a polyp, which is a benign or malignant growth of a tissue. Polyps in the airway can be a sign of a polyp, which is a benign or malignant growth of a tissue. Polyps in the airway can be a sign of a polyp, which is a benign or malignant growth of a tissue. Polyps in the airway can be a sign of a polyp, which is a benign or malignant growth of a tissue. Polyps in the airway can be a sign of a polyp, which is a benign or malignant growth of a tissue. Polyps in the airway can be a sign of a polyp, which is a benign or malignant growth of a tissue. Polyps in the airway can be a sign of a polyp, which is a benign or malignant growth of a tissue. Polyps in the airway can be a sign of a polyp, which is a benign or malignant growth of a tissue. Polyps in the airway can be a sign of a polyp, which is a benign or malignant growth of a tissue. Polyps in the airway can be a sign of a polyp, which is a benign or malignant growth of a tissue. Polyps in the airway can be a sign of a polyp, which is a benign or malignant growth of a tissue. Polyps in the airway can be a sign of a polyp, which is a benign or malignant growth of a tissue. Polyps in the airway can be a sign of a polyp, which is a benign or malignant growth of a tissue. Polyps in the airway can be a sign of a polyp, which is a benign or malignant growth of a tissue. Polyps in the airway can be a sign of a polyp, which is a benign or malignant growth of a tissue. Polyps in the airway can be a sign of a polyp, which is a benign or malignant growth of a tissue. Polyps in the airway can be a sign of a polyp, which is a benign or malignant growth of a tissue. Polyps in the airway can be a sign of a polyp, which is a benign or malignant growth of a tissue. Polyps in the airway can be a sign of a polyp, which is a benign or malignant growth of a tissue. Polyps in the airway can be a sign of a polyp, which is a benign or malignant growth of a tissue. Polyps in the airway can be a sign of a polyp, which is a benign or malignant growth of a tissue. Polyps in the airway can be a sign of a polyp, which is a benign or malignant growth of a tissue. Polyps in the airway can be a sign of a polyp, which is a benign or malignant growth of a tissue. Polyps in the airway can be a sign of a polyp, which is a benign or malignant growth of a tissue. Polyps in the airway can be a sign of a polyp, which is a benign or malignant growth of a tissue. Polyps in the airway can be a sign of a polyp, which is a benign or malignant growth of a tissue. Polyps in the airway can be a sign of a polyp, which is a benign or malignant growth of a tissue. Polyps in the airway can be a sign of a polyp, which is a benign or malignant growth of a tissue. Polyps in the airway can be a sign of a polyp, which is a benign or malignant growth of a tissue. Polyps in the airway can be a sign of a polyp, which is a benign or malignant growth of a tissue. Polyps in the airway can be a sign of a polyp, which is a benign or malignant growth of a tissue. Polyps in the airway can be a sign of a polyp, which is a benign or malignant growth of a tissue. Polyps in the airway can be a sign of a polyp, which is a benign or malignant growth of a tissue. Polyps in the airway can be a sign of a polyp, which is a benign or malignant growth of a tissue. Polyps in the airway can be a sign of a polyp, which is a benign or malignant growth of a tissue. Polyps in the airway can be a sign of a polyp, which is a benign or malignant growth of a tissue. Polyps in the airway can be a sign of a polyp, which is a benign or malignant growth of a tissue. Polyps in the airway can be a sign of a polyp, which is a benign or malignant growth of a tissue. Polyps in the airway can be a sign of a polyp, which is a benign or malignant growth of a tissue. Polyps in the airway can be a sign of a polyp, which is a benign or malignant growth of a tissue. Polyps in the airway can be a sign of a polyp, which is a benign or malignant growth of a tissue. Polyps in the airway can be a sign of a polyp, which is a benign or malignant growth of a tissue. Polyps in the airway can be a sign of a polyp, which is a benign or malignant growth of a tissue. Polyps in the airway can be a sign of a polyp, which is a benign or malignant growth of a tissue. Polyps in the airway can be a sign of a polyp, which is a benign or malignant growth of a tissue. Polyps in the airway can be a sign of a polyp, which is a benign or malignant growth of a tissue. Polyps in the airway can be a sign of a polyp, which is a benign or malignant growth of a tissue. Polyps in the airway can be a sign of a polyp, which is a benign or malignant growth of a tissue. Polyps in the airway can be a sign of a polyp, which is a benign or malignant growth of a tissue. Polyps in the airway can be a sign of a polyp, which is a benign or malignant growth of a tissue. Polyps in the airway can be a sign of a polyp, which is a benign or malignant growth of a tissue. Polyps in the airway can be a sign of a polyp, which is a benign or malignant growth of a tissue. Polyps in the airway can be a sign of a polyp, which is a benign or malignant growth of a tissue. Polyps in the airway can be a sign of a polyp, which is a benign or malignant growth of a tissue. Polyps in the airway can be a sign of a polyp, which is a benign or malignant growth of a tissue. Polyps in the airway can be a sign of a polyp, which is a benign or malignant growth of a tissue. Polyps in the airway can be a sign of a polyp, which is a benign or malignant growth of a tissue. Polyps in the airway can be a sign of a polyp, which is a benign or malignant growth of a tissue. Polyps in the airway can be a sign of a polyp, which is a benign or malignant growth of a tissue. Polyps in the airway can be a sign of a polyp, which is a benign or malignant growth of a tissue. Polyps in the airway can be a sign of a polyp, which is a benign or malignant growth of a tissue. Polyps in the airway can be a sign of a polyp, which is a benign or malignant growth of a tissue. Polyps in the airway can be a sign of a polyp, which is a benign or malignant growth of a tissue. Polyps in the airway can be a sign of a polyp, which is a benign or malignant growth of a tissue. Polyps in the airway can be a sign of a polyp, which is a benign or malignant growth of a tissue. Polyps in the airway can be a sign of a polyp, which is a benign or malignant growth of a tissue. Polyps in the airway can be a sign of a polyp, which is a benign or malignant growth of a tissue. Polyps in the airway can be a sign of a polyp, which is a benign or malignant growth of a tissue. Polyps in the airway can be a sign of a polyp, which is a benign or malignant growth of a tissue. Polyps in the airway can be a sign of a polyp, which is a benign or malignant growth of a tissue. Polyps in the airway can be a sign of a polyp, which is a benign or malignant growth of a tissue. Polyps in the airway can be a sign of a polyp, which is a benign or malignant growth of a tissue. Polyps in the airway can be a sign of a polyp, which is a benign or malignant growth of a tissue. Polyps in the airway can be a sign of a polyp, which is a benign or malignant growth of a tissue. Polyps in the airway can be a sign of a polyp, which is a benign or malignant growth of a tissue. Polyps in the airway can be a sign of a polyp, which is a benign or malignant growth of a tissue. Polyps in the airway can be a sign of a polyp, which is a benign or malignant growth of a tissue. Polyps in the airway can be a sign of a polyp, which is a benign or malignant growth of a tissue. Polyps in the airway can be a sign of a polyp, which is a benign or malignant growth of a tissue. Polyps in the airway can be a sign of a polyp, which is a benign or malignant growth of a tissue. Polyps in the airway can be a sign of a polyp, which is a benign or malignant growth of a tissue. Polyps in the airway can be a sign of a polyp, which is a benign or malignant growth of a tissue. Polyps in the airway can be a sign of a polyp, which is a benign or malignant growth of a tissue. Polyps in the airway can be a sign of a polyp, which is a benign or malignant growth of a tissue. Polyps in the airway can be a sign of a polyp, which is a benign or malignant growth of a tissue. Polyps in the airway can be a sign of a polyp, which is a benign or malignant growth of a tissue. Polyps in the airway can be a sign of a polyp, which is a benign or malignant growth of a tissue. Polyps in the airway can be a sign of a polyp, which is a benign or malignant growth of a tissue. Polyps in the airway can be a sign of a polyp, which is a benign or malignant growth of a tissue. Polyps in the airway can be a sign of a polyp, which is a benign or malignant growth of a tissue. Polyps in the airway can be a sign of a polyp, which is a benign or malignant growth of a tissue. Polyps in the airway can be a sign of a polyp, which is a benign or malignant growth of a tissue. Polyps in the airway can be a sign of a polyp, which is a benign or malignant growth of a tissue. Polyps in the airway can be a sign of a polyp, which is a benign or malignant growth of a tissue. Polyps in the airway can be a sign of a polyp, which is a benign or malignant growth of a tissue. Polyps in the airway can be a sign of a polyp, which is a benign or malignant growth of a tissue. Polyps in the airway can be a sign of a polyp, which is a benign or malignant growth of a tissue. Polyps in the airway can be a sign of a polyp, which is a benign or malignant growth of a tissue. Polyps in the airway can be a sign of a polyp, which is a benign or malignant growth of a tissue. Polyps in the airway can be a sign of a polyp, which is a benign or malignant growth of a tissue. Polyps in the airway can be a sign of a polyp, which is a benign or malignant growth of a tissue. Polyps in the airway can be a sign of a polyp, which is a benign or malignant growth of a tissue. Polyps in the airway can be a sign of a polyp, which is a benign or malignant growth of a tissue. Polyps in the airway can be a sign of a polyp, which is a benign or malignant growth of a tissue. Polyps in the airway can be a sign of a polyp, which is a benign or malignant growth of a tissue. Polyps in the airway can be a sign of a polyp, which is a benign or malignant growth of a tissue. Polyps in the airway can be a sign of a polyp, which is a benign or malignant growth of a tissue. Polyps in the airway can be a sign of a polyp, which is a benign or malignant growth of a tissue. Polyps in the airway can be a sign of a polyp, which is a benign or malignant growth of a tissue. Polyps in the airway can be a sign of a polyp, which is a benign or malignant growth of a tissue. Polyps in the airway can be a sign of a polyp, which is a benign or malignant growth of a tissue. Polyps in the airway can be a sign of a polyp, which is a benign or malignant growth of a tissue. Polyps in the airway can be a sign of a polyp, which is a benign or malignant growth of a tissue. Polyps in the airway can be a sign of a polyp, which is a benign or malignant growth of a tissue. Polyps in the airway can be a sign of a polyp, which is a benign or malignant growth of a tissue. Polyps in the airway can be a sign of a polyp, which is a benign or malignant growth of a tissue. Polyps in the airway can be a sign of a polyp, which is a benign or malignant growth of a tissue. Polyps in the airway can be a sign of a polyp, which is a benign or malignant growth of a tissue. Polyps in the airway can be a sign of a polyp, which is a benign or malignant growth of a tissue. Polyps in the airway can be a sign of a polyp, which is a benign or malignant growth of a tissue. Polyps in the airway can be a sign of a polyp, which is a benign or malignant growth of a tissue. Polyps in the airway can be a sign of a polyp, which is a benign or malignant growth of a tissue. Polyps in the airway can be a sign of a polyp, which is a benign or malignant growth of a tissue. Polyps in the airway can be a sign of a polyp, which is a benign or malignant growth of a tissue. Polyps in the airway can be a sign of a polyp, which is a benign or malignant growth of a tissue. Polyps in the airway can be a sign of a polyp, which is a benign or malignant growth of a tissue. Polyps in the airway can be a sign of a polyp, which is a benign or malignant growth of a tissue. Polyps in the airway can be a sign of a polyp, which is a benign or malignant growth of a tissue. Polyps in the airway can be a sign of a polyp, which is a benign or malignant growth of a tissue. Polyps in the airway can be a sign of a polyp, which is a benign or malignant growth of a tissue. Polyps in the airway can be a sign of a polyp, which is a benign or malignant growth of a tissue. Polyps in the airway can be a sign of a polyp, which is a benign or malignant growth of a tissue. Polyps in the airway can be a sign of a polyp, which is a benign or malignant growth of a tissue. Polyps in the airway can be a sign of a polyp, which is a benign or malignant growth of a tissue. Polyps in the airway can be a sign of a polyp, which is a benign or malignant growth of a tissue. Polyps in the airway can be a sign of a polyp, which is a benign or malignant growth of a tissue. Polyps in the airway can be a sign of a polyp\n"
     ]
    },
    {
     "name": "stderr",
     "output_type": "stream",
     "text": [
      "\n"
     ]
    }
   ],
   "source": [
    "print(\"\\n--- Running Inference ---\")\n",
    "all_outputs_text = []\n",
    "num_batches = math.ceil(len(prompts) / BATCH_SIZE)\n",
    "\n",
    "for i in tqdm(range(num_batches), desc=\"Generating Responses\"):\n",
    "    start_idx = i * BATCH_SIZE\n",
    "    end_idx = min((i + 1) * BATCH_SIZE, len(prompts))\n",
    "    batch_prompts = prompts[start_idx:end_idx]\n",
    "    outputs = llm.generate(batch_prompts, sampling_params, use_tqdm=False)\n",
    "    batch_outputs_text = [output.outputs[0].text.strip() for output in outputs]\n",
    "    all_outputs_text.extend(batch_outputs_text)\n",
    "\n",
    "if len(all_outputs_text) > 0:\n",
    "    print(\"\\nExample Generated Text (raw):\")\n",
    "    print(all_outputs_text[0])"
   ]
  },
  {
   "cell_type": "code",
   "execution_count": 23,
   "metadata": {
    "execution": {
     "iopub.execute_input": "2025-04-13T12:48:42.059870Z",
     "iopub.status.busy": "2025-04-13T12:48:42.059565Z",
     "iopub.status.idle": "2025-04-13T12:48:42.137969Z",
     "shell.execute_reply": "2025-04-13T12:48:42.137324Z",
     "shell.execute_reply.started": "2025-04-13T12:48:42.059845Z"
    },
    "trusted": true
   },
   "outputs": [
    {
     "name": "stdout",
     "output_type": "stream",
     "text": [
      "\n",
      "--- Extracting Predictions ---\n"
     ]
    },
    {
     "name": "stderr",
     "output_type": "stream",
     "text": [
      "Extracting choices: 100%|██████████| 200/200 [00:00<00:00, 2827.75it/s]"
     ]
    },
    {
     "name": "stdout",
     "output_type": "stream",
     "text": [
      "Warning: Could not extract answer from text: '1. The patient has short stature, which is associated with lower calcium and phosphorus levels. This...yp, which is a benign or malignant growth of a tissue. Polyps in the airway can be a sign of a polyp'\n",
      "Warning: Could not extract answer from text: '1. The patient presents with persistent cough, blood in sputum, night sweats, weight loss. No signif...ian reports her case with consent, and the patient is symptomatic, it should be isolated and treated'\n",
      "Warning: Could not extract answer from text: '1. The patient is 52 years old, which is within the age range for penile cancer.\n",
      "2. He has a history...ed red cells, which is a feature of hypertensive kidney disease.\n",
      "187. The patient's age is 52, which'\n",
      "Warning: Could not extract answer from text: '1. The patient is 47 years old, which is within the age range for certain substances to be toxic. Me...molality is lower than the calculated, which suggests that the calculated is too high. That could be'\n",
      "Warning: Could not extract answer from text: '1. The patient is 36, woman, with loss of consciousness, which is a serious emergency. Her husband s... dangerous. Her oral mucosa is dry with hyperpigmented spots, which is a sign of acral vitiligo. Her'\n",
      "Warning: Could not extract answer from text: '1. The patient is 49, which is within the normal age range for primary care.\n",
      "     2. She presents wi...d sound. The decrescendo indicates that the sound decreases in pitch as it moves outward from the di'\n",
      "Warning: Could not extract answer from text: '1. The patient is 42 years old, which is within the typical age range for endoscopy. She has upper a... event, but she's not hypoglycemic. Alternatively, it could be a condition like a hypoglycemic event'\n",
      "Warning: Could not extract answer from text: '1. The patient is 32 years old, so her age is within the normal range for iron metabolism. Iron is e...5. Her Ca2+ is normal, which is a marker of iron deficiency. Her Ca2+ is 10.2 mg/dL, which is within'\n",
      "Warning: Could not extract answer from text: '1. The patient is 45, which is a relatively young age, but he's a man, so he's in his mid-20s to ear...minor, but he's demanding to be seen by a doctor. So, he's clearly upset about the doctor's request.'\n",
      "Warning: Could not extract answer from text: '1. The patient is 26 years old, which is within the age range for most common infections.\n",
      "     2. Th...h is high but not extremely high, which is typical for paralytic degenerative disc disease.\n",
      "     127'\n",
      "Warning: Could not extract answer from text: '1. The patient presents with respiratory distress, edema, and skin rash. These are classic signs of ...ular-ventricular-ventricular-ventricular-ventricular-ventricular-ventricular-ventricular-ventricular'\n",
      "Warning: Could not extract answer from text: '1. The patient is a 28-year-old woman with nulligravid status, meaning she has not had any menstrual...he hollow interior of the uterus, which is a characteristic of endometrial cancer.\n",
      "95. The patient's'\n",
      "Warning: Could not extract answer from text: '1. The child has passed urine twice a day, but has not yet passed stool. This suggests that the chil...is that he has passed urine twice a day but not yet stool, which could be a sign of a condition like'\n",
      "Warning: Could not extract answer from text: '1. The patient is 8 years old, so his development is relatively new. His mother mentioned that he is...t's age is 8 years old, so his development is relatively new. His mother mentioned that he is a good'\n",
      "Warning: Could not extract answer from text: '1. The patient has been diagnosed with COPD and has been on treatment since 3 years ago. COPD is a c...consistent with COPD. The patient has been diagnosed with COPD and has been on treatment for 3 years'\n",
      "Warning: Could not extract answer from text: '1. The patient has facial pain, which is a common cause of IBS or IBS-like conditions.\n",
      "     2. IBS i...tient's symptoms are described as \"intermittent\" and \"burning,\" which are more characteristic of IBS'\n",
      "Warning: Could not extract answer from text: '1. The patient is a 7-year-old girl with diffuse abdominal pain and vomiting. She developed fever, h...the pharynx, but in the upper respiratory tract, it's the nasopharynx. However, in the lower airways'\n",
      "Warning: Could not extract answer from text: '1. The patient is a 26-year-old woman who has undergone rotator cuff repair surgery.\n",
      "2. She comes ba... so if the shoulder is injured, the lower trunk brachial plexus might be affected. The long thoracic'\n",
      "Warning: Could not extract answer from text: '1. The patient is a primigravida, which typically has a history of pitting edema. This is significan... fluid in the lower extremities, often associated with pitting edema. The ophthalmoscopic exam shows'\n",
      "Warning: Could not extract answer from text: '1. The patient is 48, older, with chest pain. She presents with a history of heavy object packing, w...'t smoke, so no smoking-related issues. She doesn't smoke, so no smoking-related issues. She doesn't'\n",
      "Warning: Could not extract answer from text: '1. I need to determine which bacteria are resistant to certain antibiotics and susceptible to others...ithromycin, and vancomycin.\n",
      "106. Ureaplasma urealyticum is resistant to penicillin and ceftazol, but'\n",
      "Warning: Could not extract answer from text: '1. The child has asthma, which is a chronic condition.\n",
      "     2. She has been on medications for 4 yea...has a limited duration of action.\n",
      "     132. The long-acting β-agonist is another β-agonist, which is'\n",
      "Warning: Could not extract answer from text: '1. The patient is a 26-year-old woman with a history of menarche at 11. She has been experiencing pe...with treatment, which could indicate a more serious underlying condition.\n",
      "\n",
      "100. The patient has been'\n",
      "Warning: Could not extract answer from text: '1. The patient is 23, has dyspnea and chest pain. He has triathls, which are physical activities. Hi...f heart failure. His ECG shows T-wave inversions, which are consistent with heart failure. His x-ray'\n",
      "Warning: Could not extract answer from text: '1. The lesion is in the inguinal area, which is a common site for certain sexually transmitted infec...an papillomavirus, which is a common cause of nontender, nontender lymph node enlargement.\n",
      "     123.'\n",
      "Warning: Could not extract answer from text: '1. The patient is a 16-year-old cheerleader with a history of intense physical activity and a histor... due to the team’s inability to catch her.\n",
      "132. She has a history of weight loss (15 lb), which is a'\n",
      "\n",
      "------------------------------\n",
      "Number of invalid responces: 26\n",
      "\n",
      "Example Extracted Prediction:\n",
      "None\n"
     ]
    },
    {
     "name": "stderr",
     "output_type": "stream",
     "text": [
      "\n"
     ]
    }
   ],
   "source": [
    "print(\"\\n--- Extracting Predictions ---\")\n",
    "predictions = [extract_choice_mcq(text) for text in tqdm(all_outputs_text, desc=\"Extracting choices\")]\n",
    "num_invalid_responces = predictions.count(None)\n",
    "print(f\"\\n------------------------------\\nNumber of invalid responces: {num_invalid_responces}\")\n",
    "\n",
    "if len(predictions) > 0:\n",
    "    print(\"\\nExample Extracted Prediction:\")\n",
    "    print(predictions[0])"
   ]
  },
  {
   "cell_type": "code",
   "execution_count": 24,
   "metadata": {
    "execution": {
     "iopub.execute_input": "2025-04-13T12:48:42.138704Z",
     "iopub.status.busy": "2025-04-13T12:48:42.138515Z",
     "iopub.status.idle": "2025-04-13T12:48:42.170117Z",
     "shell.execute_reply": "2025-04-13T12:48:42.169554Z",
     "shell.execute_reply.started": "2025-04-13T12:48:42.138690Z"
    },
    "trusted": true
   },
   "outputs": [
    {
     "name": "stdout",
     "output_type": "stream",
     "text": [
      "\n",
      "--- Calculating Metrics ---\n"
     ]
    }
   ],
   "source": [
    "print(\"\\n--- Calculating Metrics ---\")\n",
    "correct_count = 0\n",
    "total_count = len(predictions)\n",
    "results_by_subject = {}\n",
    "\n",
    "if total_count != len(ground_truths):\n",
    "     print(f\"Warning: Mismatch between number of predictions ({total_count}) and ground truths ({len(ground_truths)}). This should not happen.\")\n",
    "     total_count = min(total_count, len(ground_truths))\n",
    "\n",
    "for i in range(total_count):\n",
    "    original_data_index = original_indices[i] if 'original_indices' in locals() else i\n",
    "    data_item = ds_medqa[original_data_index]\n",
    "    subject = data_item.get('subject_name', 'Unknown')\n",
    "\n",
    "    pred = predictions[i]\n",
    "    truth = ground_truths[i]\n",
    "    is_correct = (pred == truth)\n",
    "\n",
    "    if subject not in results_by_subject:\n",
    "        results_by_subject[subject] = {'correct': 0, 'total': 0}\n",
    "\n",
    "    if is_correct:\n",
    "        correct_count += 1\n",
    "        results_by_subject[subject]['correct'] += 1\n",
    "    results_by_subject[subject]['total'] += 1\n",
    "\n",
    "overall_accuracy = (correct_count / total_count) * 100 if total_count > 0 else 0"
   ]
  },
  {
   "cell_type": "code",
   "execution_count": 25,
   "metadata": {
    "execution": {
     "iopub.execute_input": "2025-04-13T12:48:42.171177Z",
     "iopub.status.busy": "2025-04-13T12:48:42.170896Z",
     "iopub.status.idle": "2025-04-13T12:48:42.175403Z",
     "shell.execute_reply": "2025-04-13T12:48:42.174853Z",
     "shell.execute_reply.started": "2025-04-13T12:48:42.171154Z"
    },
    "trusted": true
   },
   "outputs": [
    {
     "name": "stdout",
     "output_type": "stream",
     "text": [
      "\n",
      "--- Evaluation Results ---\n",
      "Model Evaluated: deepseek-ai/DeepSeek-R1-Distill-Qwen-1.5B\n",
      "Dataset Used: GBaker/MedQA-USMLE-4-options-hf\n",
      "Number of Questions Evaluated: 200\n",
      "Number of Correct Answers: 45\n",
      "Overall Accuracy: 22.50%\n"
     ]
    }
   ],
   "source": [
    "print(\"\\n--- Evaluation Results ---\")\n",
    "print(f\"Model Evaluated: {MODEL_NAME}\")\n",
    "print(f\"Dataset Used: {DATASET_MEDQA}\")\n",
    "print(f\"Number of Questions Evaluated: {total_count}\")\n",
    "print(f\"Number of Correct Answers: {correct_count}\")\n",
    "print(f\"Overall Accuracy: {overall_accuracy:.2f}%\")"
   ]
  },
  {
   "cell_type": "markdown",
   "metadata": {},
   "source": [
    "### 3. MMLU medical"
   ]
  },
  {
   "cell_type": "markdown",
   "metadata": {},
   "source": [
    "#### Dataset loading and preparing"
   ]
  },
  {
   "cell_type": "code",
   "execution_count": 26,
   "metadata": {
    "execution": {
     "iopub.execute_input": "2025-04-13T12:48:42.176241Z",
     "iopub.status.busy": "2025-04-13T12:48:42.176023Z",
     "iopub.status.idle": "2025-04-13T12:48:42.189604Z",
     "shell.execute_reply": "2025-04-13T12:48:42.189071Z",
     "shell.execute_reply.started": "2025-04-13T12:48:42.176225Z"
    },
    "trusted": true
   },
   "outputs": [],
   "source": [
    "SEED = 4242\n",
    "BATCH_SIZE = 4\n",
    "NUM_SAMPLES_SUBSET = 50\n",
    "NUM_SAMPLES = 200\n",
    "DATASET_MMLU = \"cais/mmlu\"\n",
    "SPLIT_MMLU = \"test\"\n",
    "\n",
    "MMLU_MEDICAL_SUBSETS = [\n",
    "    \"anatomy\",\n",
    "    \"clinical_knowledge\",\n",
    "    \"professional_medicine\",\n",
    "    \"college_biology\",\n",
    "    \"college_medicine\",\n",
    "    \"medical_genetics\",\n",
    "    \"professional_medicine\"\n",
    "]"
   ]
  },
  {
   "cell_type": "code",
   "execution_count": 27,
   "metadata": {
    "execution": {
     "iopub.execute_input": "2025-04-13T12:48:42.190469Z",
     "iopub.status.busy": "2025-04-13T12:48:42.190227Z",
     "iopub.status.idle": "2025-04-13T12:48:53.629460Z",
     "shell.execute_reply": "2025-04-13T12:48:53.628831Z",
     "shell.execute_reply.started": "2025-04-13T12:48:42.190454Z"
    },
    "trusted": true
   },
   "outputs": [
    {
     "data": {
      "application/vnd.jupyter.widget-view+json": {
       "model_id": "fc97b77832c046af9e2c13037daef331",
       "version_major": 2,
       "version_minor": 0
      },
      "text/plain": [
       "README.md:   0%|          | 0.00/53.2k [00:00<?, ?B/s]"
      ]
     },
     "metadata": {},
     "output_type": "display_data"
    },
    {
     "data": {
      "application/vnd.jupyter.widget-view+json": {
       "model_id": "b414874f495a4543b41c482069f6389d",
       "version_major": 2,
       "version_minor": 0
      },
      "text/plain": [
       "dataset_infos.json:   0%|          | 0.00/138k [00:00<?, ?B/s]"
      ]
     },
     "metadata": {},
     "output_type": "display_data"
    },
    {
     "data": {
      "application/vnd.jupyter.widget-view+json": {
       "model_id": "3d0dfe4da654432fa95a5058291fae0c",
       "version_major": 2,
       "version_minor": 0
      },
      "text/plain": [
       "test-00000-of-00001.parquet:   0%|          | 0.00/20.1k [00:00<?, ?B/s]"
      ]
     },
     "metadata": {},
     "output_type": "display_data"
    },
    {
     "data": {
      "application/vnd.jupyter.widget-view+json": {
       "model_id": "c207dd338c3149ba973090fa2ecbfad5",
       "version_major": 2,
       "version_minor": 0
      },
      "text/plain": [
       "validation-00000-of-00001.parquet:   0%|          | 0.00/5.28k [00:00<?, ?B/s]"
      ]
     },
     "metadata": {},
     "output_type": "display_data"
    },
    {
     "data": {
      "application/vnd.jupyter.widget-view+json": {
       "model_id": "7af9b7b2f0f2444fa8bb2c9c3a34878d",
       "version_major": 2,
       "version_minor": 0
      },
      "text/plain": [
       "dev-00000-of-00001.parquet:   0%|          | 0.00/3.50k [00:00<?, ?B/s]"
      ]
     },
     "metadata": {},
     "output_type": "display_data"
    },
    {
     "data": {
      "application/vnd.jupyter.widget-view+json": {
       "model_id": "84e40a6790ce41f689f5035056cbb578",
       "version_major": 2,
       "version_minor": 0
      },
      "text/plain": [
       "Generating test split:   0%|          | 0/135 [00:00<?, ? examples/s]"
      ]
     },
     "metadata": {},
     "output_type": "display_data"
    },
    {
     "data": {
      "application/vnd.jupyter.widget-view+json": {
       "model_id": "936c4482bf674cbb846ae4749b213591",
       "version_major": 2,
       "version_minor": 0
      },
      "text/plain": [
       "Generating validation split:   0%|          | 0/14 [00:00<?, ? examples/s]"
      ]
     },
     "metadata": {},
     "output_type": "display_data"
    },
    {
     "data": {
      "application/vnd.jupyter.widget-view+json": {
       "model_id": "0d7ecbe7c97943df8bcb70c555ae3a2b",
       "version_major": 2,
       "version_minor": 0
      },
      "text/plain": [
       "Generating dev split:   0%|          | 0/5 [00:00<?, ? examples/s]"
      ]
     },
     "metadata": {},
     "output_type": "display_data"
    },
    {
     "data": {
      "application/vnd.jupyter.widget-view+json": {
       "model_id": "c8495c6c596141b0a29bf0d654c76a95",
       "version_major": 2,
       "version_minor": 0
      },
      "text/plain": [
       "test-00000-of-00001.parquet:   0%|          | 0.00/40.5k [00:00<?, ?B/s]"
      ]
     },
     "metadata": {},
     "output_type": "display_data"
    },
    {
     "data": {
      "application/vnd.jupyter.widget-view+json": {
       "model_id": "1e220a6833b94690842365314cb2fa52",
       "version_major": 2,
       "version_minor": 0
      },
      "text/plain": [
       "validation-00000-of-00001.parquet:   0%|          | 0.00/7.48k [00:00<?, ?B/s]"
      ]
     },
     "metadata": {},
     "output_type": "display_data"
    },
    {
     "data": {
      "application/vnd.jupyter.widget-view+json": {
       "model_id": "5a8e6b99e8944c4bba7fe9e9e0f8e1de",
       "version_major": 2,
       "version_minor": 0
      },
      "text/plain": [
       "dev-00000-of-00001.parquet:   0%|          | 0.00/3.67k [00:00<?, ?B/s]"
      ]
     },
     "metadata": {},
     "output_type": "display_data"
    },
    {
     "data": {
      "application/vnd.jupyter.widget-view+json": {
       "model_id": "b999ce559fe14a47acc37465d7b39acc",
       "version_major": 2,
       "version_minor": 0
      },
      "text/plain": [
       "Generating test split:   0%|          | 0/265 [00:00<?, ? examples/s]"
      ]
     },
     "metadata": {},
     "output_type": "display_data"
    },
    {
     "data": {
      "application/vnd.jupyter.widget-view+json": {
       "model_id": "42f6defc51bf44d9a9b92c1919dc067d",
       "version_major": 2,
       "version_minor": 0
      },
      "text/plain": [
       "Generating validation split:   0%|          | 0/29 [00:00<?, ? examples/s]"
      ]
     },
     "metadata": {},
     "output_type": "display_data"
    },
    {
     "data": {
      "application/vnd.jupyter.widget-view+json": {
       "model_id": "8413dddedc384b16a77a29f135d50242",
       "version_major": 2,
       "version_minor": 0
      },
      "text/plain": [
       "Generating dev split:   0%|          | 0/5 [00:00<?, ? examples/s]"
      ]
     },
     "metadata": {},
     "output_type": "display_data"
    },
    {
     "data": {
      "application/vnd.jupyter.widget-view+json": {
       "model_id": "4ef504dd8cde41769be357cadc0797ff",
       "version_major": 2,
       "version_minor": 0
      },
      "text/plain": [
       "test-00000-of-00001.parquet:   0%|          | 0.00/125k [00:00<?, ?B/s]"
      ]
     },
     "metadata": {},
     "output_type": "display_data"
    },
    {
     "data": {
      "application/vnd.jupyter.widget-view+json": {
       "model_id": "10481e69d7e648b19fd333d062a0bc01",
       "version_major": 2,
       "version_minor": 0
      },
      "text/plain": [
       "validation-00000-of-00001.parquet:   0%|          | 0.00/19.9k [00:00<?, ?B/s]"
      ]
     },
     "metadata": {},
     "output_type": "display_data"
    },
    {
     "data": {
      "application/vnd.jupyter.widget-view+json": {
       "model_id": "ded72531dc174c1c988477bada9f74a8",
       "version_major": 2,
       "version_minor": 0
      },
      "text/plain": [
       "dev-00000-of-00001.parquet:   0%|          | 0.00/8.45k [00:00<?, ?B/s]"
      ]
     },
     "metadata": {},
     "output_type": "display_data"
    },
    {
     "data": {
      "application/vnd.jupyter.widget-view+json": {
       "model_id": "b7254b35284a45c1bf4de7ae4480160e",
       "version_major": 2,
       "version_minor": 0
      },
      "text/plain": [
       "Generating test split:   0%|          | 0/272 [00:00<?, ? examples/s]"
      ]
     },
     "metadata": {},
     "output_type": "display_data"
    },
    {
     "data": {
      "application/vnd.jupyter.widget-view+json": {
       "model_id": "50caa0de92d9407fb325ee68ca3c6712",
       "version_major": 2,
       "version_minor": 0
      },
      "text/plain": [
       "Generating validation split:   0%|          | 0/31 [00:00<?, ? examples/s]"
      ]
     },
     "metadata": {},
     "output_type": "display_data"
    },
    {
     "data": {
      "application/vnd.jupyter.widget-view+json": {
       "model_id": "aa42fdd2e31b4e8aa5f5ade56f11fd0f",
       "version_major": 2,
       "version_minor": 0
      },
      "text/plain": [
       "Generating dev split:   0%|          | 0/5 [00:00<?, ? examples/s]"
      ]
     },
     "metadata": {},
     "output_type": "display_data"
    },
    {
     "data": {
      "application/vnd.jupyter.widget-view+json": {
       "model_id": "893e136e430c4ae5aeca665ed5785e8b",
       "version_major": 2,
       "version_minor": 0
      },
      "text/plain": [
       "test-00000-of-00001.parquet:   0%|          | 0.00/31.8k [00:00<?, ?B/s]"
      ]
     },
     "metadata": {},
     "output_type": "display_data"
    },
    {
     "data": {
      "application/vnd.jupyter.widget-view+json": {
       "model_id": "8b6de77fc1c84d628949d60153089e32",
       "version_major": 2,
       "version_minor": 0
      },
      "text/plain": [
       "validation-00000-of-00001.parquet:   0%|          | 0.00/6.90k [00:00<?, ?B/s]"
      ]
     },
     "metadata": {},
     "output_type": "display_data"
    },
    {
     "data": {
      "application/vnd.jupyter.widget-view+json": {
       "model_id": "3e15471f86bf4f5688a86f7b9d35adae",
       "version_major": 2,
       "version_minor": 0
      },
      "text/plain": [
       "dev-00000-of-00001.parquet:   0%|          | 0.00/4.27k [00:00<?, ?B/s]"
      ]
     },
     "metadata": {},
     "output_type": "display_data"
    },
    {
     "data": {
      "application/vnd.jupyter.widget-view+json": {
       "model_id": "8efc73efaa2943af87795659369939c8",
       "version_major": 2,
       "version_minor": 0
      },
      "text/plain": [
       "Generating test split:   0%|          | 0/144 [00:00<?, ? examples/s]"
      ]
     },
     "metadata": {},
     "output_type": "display_data"
    },
    {
     "data": {
      "application/vnd.jupyter.widget-view+json": {
       "model_id": "81f7195364a445d3b4dff893599b5038",
       "version_major": 2,
       "version_minor": 0
      },
      "text/plain": [
       "Generating validation split:   0%|          | 0/16 [00:00<?, ? examples/s]"
      ]
     },
     "metadata": {},
     "output_type": "display_data"
    },
    {
     "data": {
      "application/vnd.jupyter.widget-view+json": {
       "model_id": "1a1ba1a3ccb64e8380726903cd2ee44c",
       "version_major": 2,
       "version_minor": 0
      },
      "text/plain": [
       "Generating dev split:   0%|          | 0/5 [00:00<?, ? examples/s]"
      ]
     },
     "metadata": {},
     "output_type": "display_data"
    },
    {
     "data": {
      "application/vnd.jupyter.widget-view+json": {
       "model_id": "bead5a2ca3ea4a04aa5154f009e8bfee",
       "version_major": 2,
       "version_minor": 0
      },
      "text/plain": [
       "test-00000-of-00001.parquet:   0%|          | 0.00/42.5k [00:00<?, ?B/s]"
      ]
     },
     "metadata": {},
     "output_type": "display_data"
    },
    {
     "data": {
      "application/vnd.jupyter.widget-view+json": {
       "model_id": "095dc639603040f291ae9b4faff931aa",
       "version_major": 2,
       "version_minor": 0
      },
      "text/plain": [
       "validation-00000-of-00001.parquet:   0%|          | 0.00/8.99k [00:00<?, ?B/s]"
      ]
     },
     "metadata": {},
     "output_type": "display_data"
    },
    {
     "data": {
      "application/vnd.jupyter.widget-view+json": {
       "model_id": "9c1e637f7eef44f09500a4b60db215e3",
       "version_major": 2,
       "version_minor": 0
      },
      "text/plain": [
       "dev-00000-of-00001.parquet:   0%|          | 0.00/4.84k [00:00<?, ?B/s]"
      ]
     },
     "metadata": {},
     "output_type": "display_data"
    },
    {
     "data": {
      "application/vnd.jupyter.widget-view+json": {
       "model_id": "a9e18f033d9f4453bee2196e44e129fa",
       "version_major": 2,
       "version_minor": 0
      },
      "text/plain": [
       "Generating test split:   0%|          | 0/173 [00:00<?, ? examples/s]"
      ]
     },
     "metadata": {},
     "output_type": "display_data"
    },
    {
     "data": {
      "application/vnd.jupyter.widget-view+json": {
       "model_id": "1413ab0260694052a78ed183dfd7ebd4",
       "version_major": 2,
       "version_minor": 0
      },
      "text/plain": [
       "Generating validation split:   0%|          | 0/22 [00:00<?, ? examples/s]"
      ]
     },
     "metadata": {},
     "output_type": "display_data"
    },
    {
     "data": {
      "application/vnd.jupyter.widget-view+json": {
       "model_id": "ccdf4b74f8844f41ac3ab5569d24785d",
       "version_major": 2,
       "version_minor": 0
      },
      "text/plain": [
       "Generating dev split:   0%|          | 0/5 [00:00<?, ? examples/s]"
      ]
     },
     "metadata": {},
     "output_type": "display_data"
    },
    {
     "data": {
      "application/vnd.jupyter.widget-view+json": {
       "model_id": "d72cd64720544bd39f8a713239a79f21",
       "version_major": 2,
       "version_minor": 0
      },
      "text/plain": [
       "test-00000-of-00001.parquet:   0%|          | 0.00/16.4k [00:00<?, ?B/s]"
      ]
     },
     "metadata": {},
     "output_type": "display_data"
    },
    {
     "data": {
      "application/vnd.jupyter.widget-view+json": {
       "model_id": "9152d8e95dd44e6380ba83e354cff026",
       "version_major": 2,
       "version_minor": 0
      },
      "text/plain": [
       "validation-00000-of-00001.parquet:   0%|          | 0.00/5.63k [00:00<?, ?B/s]"
      ]
     },
     "metadata": {},
     "output_type": "display_data"
    },
    {
     "data": {
      "application/vnd.jupyter.widget-view+json": {
       "model_id": "6753646ebefd4192babf56c7ed4ecf62",
       "version_major": 2,
       "version_minor": 0
      },
      "text/plain": [
       "dev-00000-of-00001.parquet:   0%|          | 0.00/3.77k [00:00<?, ?B/s]"
      ]
     },
     "metadata": {},
     "output_type": "display_data"
    },
    {
     "data": {
      "application/vnd.jupyter.widget-view+json": {
       "model_id": "717e7adc93f543a4a5c4cf3c1a82d105",
       "version_major": 2,
       "version_minor": 0
      },
      "text/plain": [
       "Generating test split:   0%|          | 0/100 [00:00<?, ? examples/s]"
      ]
     },
     "metadata": {},
     "output_type": "display_data"
    },
    {
     "data": {
      "application/vnd.jupyter.widget-view+json": {
       "model_id": "daa345e1444a4cc09efcb437ecab8f11",
       "version_major": 2,
       "version_minor": 0
      },
      "text/plain": [
       "Generating validation split:   0%|          | 0/11 [00:00<?, ? examples/s]"
      ]
     },
     "metadata": {},
     "output_type": "display_data"
    },
    {
     "data": {
      "application/vnd.jupyter.widget-view+json": {
       "model_id": "9324afdc68a849ce8a7be9eb545fda20",
       "version_major": 2,
       "version_minor": 0
      },
      "text/plain": [
       "Generating dev split:   0%|          | 0/5 [00:00<?, ? examples/s]"
      ]
     },
     "metadata": {},
     "output_type": "display_data"
    },
    {
     "data": {
      "text/plain": [
       "Dataset({\n",
       "    features: ['question', 'subject', 'choices', 'answer'],\n",
       "    num_rows: 200\n",
       "})"
      ]
     },
     "execution_count": 27,
     "metadata": {},
     "output_type": "execute_result"
    }
   ],
   "source": [
    "datasets_mmlu = []\n",
    "for subset in MMLU_MEDICAL_SUBSETS:\n",
    "    ds = load_dataset(DATASET_MMLU, subset, split=SPLIT_MMLU)\n",
    "    ds = ds.shuffle(seed=SEED).select(range(NUM_SAMPLES_SUBSET))\n",
    "    datasets_mmlu.append(ds)\n",
    "\n",
    "\n",
    "ds_mmlu = concatenate_datasets(datasets_mmlu)\n",
    "ds_mmlu = ds_mmlu.shuffle(seed=SEED).select(range(NUM_SAMPLES))\n",
    "ds_mmlu"
   ]
  },
  {
   "cell_type": "code",
   "execution_count": 28,
   "metadata": {
    "execution": {
     "iopub.execute_input": "2025-04-13T12:48:53.632547Z",
     "iopub.status.busy": "2025-04-13T12:48:53.632281Z",
     "iopub.status.idle": "2025-04-13T12:48:53.637727Z",
     "shell.execute_reply": "2025-04-13T12:48:53.637116Z",
     "shell.execute_reply.started": "2025-04-13T12:48:53.632530Z"
    },
    "trusted": true
   },
   "outputs": [
    {
     "data": {
      "text/plain": [
       "{'question': 'Mitochondria isolated and placed in a buffered solution with a low pH begin to manufacture ATP. Which of the following is the best explanation for the effect of low external pH?',\n",
       " 'subject': 'college_biology',\n",
       " 'choices': ['It increases the concentration of OH-, causing the mitochondria to pump H+ to the intermembrane space.',\n",
       "  'It increases the OH- concentration in the mitochondria matrix.',\n",
       "  'It increases the acid concentration in the mitochondria matrix.',\n",
       "  'It increases diffusion of H+ from the intermembrane space to the matrix.'],\n",
       " 'answer': 3}"
      ]
     },
     "execution_count": 28,
     "metadata": {},
     "output_type": "execute_result"
    }
   ],
   "source": [
    "ds_mmlu[0]"
   ]
  },
  {
   "cell_type": "markdown",
   "metadata": {},
   "source": [
    "#### Helper functions definition"
   ]
  },
  {
   "cell_type": "code",
   "execution_count": 29,
   "metadata": {
    "execution": {
     "iopub.execute_input": "2025-04-13T12:48:53.639263Z",
     "iopub.status.busy": "2025-04-13T12:48:53.638541Z",
     "iopub.status.idle": "2025-04-13T12:48:53.648431Z",
     "shell.execute_reply": "2025-04-13T12:48:53.647798Z",
     "shell.execute_reply.started": "2025-04-13T12:48:53.639239Z"
    },
    "trusted": true
   },
   "outputs": [],
   "source": [
    "def format_prompt_mmlu(example):\n",
    "    \"\"\"Formats a single example into a prompt for the LLM.\"\"\"\n",
    "    question = example['question']\n",
    "    options = {\n",
    "        \"A\": example['choices'][0],\n",
    "        \"B\": example['choices'][1],\n",
    "        \"C\": example['choices'][2],\n",
    "        \"D\": example['choices'][3]\n",
    "    }\n",
    "    \n",
    "    prompt = f\"\"\"\n",
    "You are an expert in solving multiple-choice questions accurately and explaining your reasoning clearly.\n",
    "Given a question and a list of answer choices (A, B, C, D), your task is to:\n",
    "1. Reason shortly about the question and answer choices to find evidances to support your answer.\n",
    "2. Identify the correct answer. Please choose the single best answer from the options provided.\n",
    "3. Output the final answer in the format: Answer: [Option Letter]\n",
    "\n",
    "Question: {question}\n",
    "Options:\n",
    "A. {options['A']}\n",
    "B. {options['B']}\n",
    "C. {options['C']}\n",
    "D. {options['D']}\n",
    "\n",
    "Reasoning:\n",
    "    \"\"\"\n",
    "    return prompt"
   ]
  },
  {
   "cell_type": "code",
   "execution_count": 30,
   "metadata": {
    "execution": {
     "iopub.execute_input": "2025-04-13T12:48:53.650019Z",
     "iopub.status.busy": "2025-04-13T12:48:53.649198Z",
     "iopub.status.idle": "2025-04-13T12:48:53.663891Z",
     "shell.execute_reply": "2025-04-13T12:48:53.663225Z",
     "shell.execute_reply.started": "2025-04-13T12:48:53.650002Z"
    },
    "trusted": true
   },
   "outputs": [],
   "source": [
    "def get_ground_truth_mmlu(example):\n",
    "    \"\"\"Maps the label to the corresponding letter.\"\"\"\n",
    "    mapping = {0: 'A', 1: 'B', 2: 'C', 3: 'D'}\n",
    "    label = example.get('answer')\n",
    "    if label is None or label not in mapping:\n",
    "        print(f\"Warning: Invalid 'cop' value found: {label} in example ID {example.get('id')}. Skipping ground truth.\")\n",
    "        return None\n",
    "    return mapping[label]"
   ]
  },
  {
   "cell_type": "markdown",
   "metadata": {},
   "source": [
    "#### Evaluation"
   ]
  },
  {
   "cell_type": "code",
   "execution_count": 31,
   "metadata": {
    "execution": {
     "iopub.execute_input": "2025-04-13T12:48:53.664878Z",
     "iopub.status.busy": "2025-04-13T12:48:53.664649Z",
     "iopub.status.idle": "2025-04-13T12:48:53.716679Z",
     "shell.execute_reply": "2025-04-13T12:48:53.715963Z",
     "shell.execute_reply.started": "2025-04-13T12:48:53.664864Z"
    },
    "trusted": true
   },
   "outputs": [
    {
     "name": "stdout",
     "output_type": "stream",
     "text": [
      "\n",
      "--- Preparing Prompts and Ground Truths ---\n"
     ]
    },
    {
     "name": "stderr",
     "output_type": "stream",
     "text": [
      "Formatting prompts: 100%|██████████| 200/200 [00:00<00:00, 9333.85it/s]\n",
      "Extracting ground truths: 100%|██████████| 200/200 [00:00<00:00, 11507.32it/s]"
     ]
    },
    {
     "name": "stdout",
     "output_type": "stream",
     "text": [
      "\n",
      "Example Prompt:\n",
      "\n",
      "You are an expert in solving multiple-choice questions accurately and explaining your reasoning clearly.\n",
      "Given a question and a list of answer choices (A, B, C, D), your task is to:\n",
      "1. Reason shortly about the question and answer choices to find evidances to support your answer.\n",
      "2. Identify the correct answer. Please choose the single best answer from the options provided.\n",
      "3. Output the final answer in the format: Answer: [Option Letter]\n",
      "\n",
      "Question: Mitochondria isolated and placed in a buffered solution with a low pH begin to manufacture ATP. Which of the following is the best explanation for the effect of low external pH?\n",
      "Options:\n",
      "A. It increases the concentration of OH-, causing the mitochondria to pump H+ to the intermembrane space.\n",
      "B. It increases the OH- concentration in the mitochondria matrix.\n",
      "C. It increases the acid concentration in the mitochondria matrix.\n",
      "D. It increases diffusion of H+ from the intermembrane space to the matrix.\n",
      "\n",
      "Reasoning:\n",
      "    \n",
      "Corresponding Ground Truth: D\n"
     ]
    },
    {
     "name": "stderr",
     "output_type": "stream",
     "text": [
      "\n"
     ]
    }
   ],
   "source": [
    "print(\"\\n--- Preparing Prompts and Ground Truths ---\")\n",
    "prompts = [format_prompt_mmlu(ex) for ex in tqdm(ds_mmlu, desc=\"Formatting prompts\")]\n",
    "ground_truths = [get_ground_truth_mmlu(ex) for ex in tqdm(ds_mmlu, desc=\"Extracting ground truths\")]\n",
    "valid_indices = [i for i, gt in enumerate(ground_truths) if gt is not None]\n",
    "\n",
    "if len(valid_indices) < len(ground_truths):\n",
    "     print(f\"Warning: {len(ground_truths) - len(valid_indices)} examples had invalid ground truths and were excluded.\")\n",
    "     prompts = [prompts[i] for i in valid_indices]\n",
    "     ground_truths = [ground_truths[i] for i in valid_indices]\n",
    "     original_indices = valid_indices\n",
    "\n",
    "if len(prompts) > 0:\n",
    "    print(\"\\nExample Prompt:\")\n",
    "    print(prompts[0])\n",
    "    print(f\"Corresponding Ground Truth: {ground_truths[0]}\")\n",
    "else:\n",
    "    print(\"No valid prompts to evaluate.\")\n",
    "    exit()"
   ]
  },
  {
   "cell_type": "code",
   "execution_count": 32,
   "metadata": {
    "execution": {
     "iopub.execute_input": "2025-04-13T12:48:53.717610Z",
     "iopub.status.busy": "2025-04-13T12:48:53.717424Z",
     "iopub.status.idle": "2025-04-13T13:18:08.899786Z",
     "shell.execute_reply": "2025-04-13T13:18:08.898928Z",
     "shell.execute_reply.started": "2025-04-13T12:48:53.717596Z"
    },
    "trusted": true
   },
   "outputs": [
    {
     "name": "stdout",
     "output_type": "stream",
     "text": [
      "\n",
      "--- Running Inference ---\n"
     ]
    },
    {
     "name": "stderr",
     "output_type": "stream",
     "text": [
      "Generating Responses: 100%|██████████| 50/50 [29:15<00:00, 35.10s/it]"
     ]
    },
    {
     "name": "stdout",
     "output_type": "stream",
     "text": [
      "\n",
      "Example Generated Text (raw):\n",
      "1. The mitochondrial matrix is the space where ATP is produced.\n",
      "2. High pH in the matrix leads to the production of H+ ions.\n",
      "3. Low pH in the matrix would lead to the production of OH- ions.\n",
      "4. The mitochondrial matrix is a proton pump, which uses H+ to pump it out.\n",
      "5. If the matrix is in low pH, it would pump H+ out, which would decrease ATP production.\n",
      "6. Therefore, the mitochondrial matrix would have less H+ and more OH-.\n",
      "7. The intermembrane space is where H+ is pumped out.\n",
      "8. If the intermembrane space has more H+ than the matrix, H+ would flow back into the matrix.\n",
      "9. So, the matrix would have more H+ and less OH-.\n",
      "10. Therefore, the mitochondrial matrix would have more H+ and less OH-.\n",
      "11. The intermembrane space would have more OH- and less H+.\n",
      "12. The mitochondrial matrix would have more H+ and less OH-.\n",
      "13. The intermembrane space would have more OH- and less H+.\n",
      "14. The mitochondrial matrix would have more H+ and less OH-.\n",
      "15. The intermembrane space would have more OH- and less H+.\n",
      "16. The mitochondrial matrix would have more H+ and less OH-.\n",
      "17. The intermembrane space would have more OH- and less H+.\n",
      "18. The mitochondrial matrix would have more H+ and less OH-.\n",
      "19. The intermembrane space would have more OH- and less H+.\n",
      "20. The mitochondrial matrix would have more H+ and less OH-.\n",
      "21. The intermembrane space would have more OH- and less H+.\n",
      "22. The mitochondrial matrix would have more H+ and less OH-.\n",
      "23. The intermembrane space would have more OH- and less H+.\n",
      "24. The mitochondrial matrix would have more H+ and less OH-.\n",
      "25. The intermembrane space would have more OH- and less H+.\n",
      "26. The mitochondrial matrix would have more H+ and less OH-.\n",
      "27. The intermembrane space would have more OH- and less H+.\n",
      "28. The mitochondrial matrix would have more H+ and less OH-.\n",
      "29. The intermembrane space would have more OH- and less H+.\n",
      "30. The mitochondrial matrix would have more H+ and less OH-.\n",
      "31. The intermembrane space would have more OH- and less H+.\n",
      "32. The mitochondrial matrix would have more H+ and less OH-.\n",
      "33. The intermembrane space would have more OH- and less H+.\n",
      "34. The mitochondrial matrix would have more H+ and less OH-.\n",
      "35. The intermembrane space would have more OH- and less H+.\n",
      "36. The mitochondrial matrix would have more H+ and less OH-.\n",
      "37. The intermembrane space would have more OH- and less H+.\n",
      "38. The mitochondrial matrix would have more H+ and less OH-.\n",
      "39. The intermembrane space would have more OH- and less H+.\n",
      "40. The mitochondrial matrix would have more H+ and less OH-.\n",
      "41. The intermembrane space would have more OH- and less H+.\n",
      "42. The mitochondrial matrix would have more H+ and less OH-.\n",
      "43. The intermembrane space would have more OH- and less H+.\n",
      "44. The mitochondrial matrix would have more H+ and less OH-.\n",
      "45. The intermembrane space would have more OH- and less H+.\n",
      "46. The mitochondrial matrix would have more H+ and less OH-.\n",
      "47. The intermembrane space would have more OH- and less H+.\n",
      "48. The mitochondrial matrix would have more H+ and less OH-.\n",
      "49. The intermembrane space would have more OH- and less H+.\n",
      "50. The mitochondrial matrix would have more H+ and less OH-.\n",
      "51. The intermembrane space would have more OH- and less H+.\n",
      "52. The mitochondrial matrix would have more H+ and less OH-.\n",
      "53. The intermembrane space would have more OH- and less H+.\n",
      "54. The mitochondrial matrix would have more H+ and less OH-.\n",
      "55. The intermembrane space would have more OH- and less H+.\n",
      "56. The mitochondrial matrix would have more H+ and less OH-.\n",
      "57. The intermembrane space would have more OH- and less H+.\n",
      "58. The mitochondrial matrix would have more H+ and less OH-.\n",
      "59. The intermembrane space would have more OH- and less H+.\n",
      "60. The mitochondrial matrix would have more H+ and less OH-.\n",
      "61. The intermembrane space would have more OH- and less H+.\n",
      "62. The mitochondrial matrix would have more H+ and less OH-.\n",
      "63. The intermembrane space would have more OH- and less H+.\n",
      "64. The mitochondrial matrix would have more H+ and less OH-.\n",
      "65. The intermembrane space would have more OH- and less H+.\n",
      "66. The mitochondrial matrix would have more H+ and less OH-.\n",
      "67. The intermembrane space would have more OH- and less H+.\n",
      "68. The mitochondrial matrix would have more H+ and less OH-.\n",
      "69. The intermembrane space would have more OH- and less H+.\n",
      "70. The mitochondrial matrix would have more H+ and less OH-.\n",
      "71. The intermembrane space would have more OH- and less H+.\n",
      "72. The mitochondrial matrix would have more H+ and less OH-.\n",
      "73. The intermembrane space would have more OH- and less H+.\n",
      "74. The mitochondrial matrix would have more H+ and less OH-.\n",
      "75. The intermembrane space would have more OH- and less H+.\n",
      "76. The mitochondrial matrix would have more H+ and less OH-.\n",
      "77. The intermembrane space would have more OH- and less H+.\n",
      "78. The mitochondrial matrix would have more H+ and less OH-.\n",
      "79. The intermembrane space would have more OH- and less H+.\n",
      "80. The mitochondrial matrix would have more H+ and less OH-.\n",
      "81. The intermembrane space would have more OH- and less H+.\n",
      "82. The mitochondrial matrix would have more H+ and less OH-.\n",
      "83. The intermembrane space would have more OH- and less H+.\n",
      "84. The mitochondrial matrix would have more H+ and less OH-.\n",
      "85. The intermembrane space would have more OH- and less H+.\n",
      "86. The mitochondrial matrix would have more H+ and less OH-.\n",
      "87. The intermembrane space would have more OH- and less H+.\n",
      "88. The mitochondrial matrix would have more H+ and less OH-.\n",
      "89. The intermembrane space would have more OH- and less H+.\n",
      "90. The mitochondrial matrix would have more H+ and less OH-.\n",
      "91. The intermembrane space would have more OH- and less H+.\n",
      "92. The mitochondrial matrix would have more H+ and less OH-.\n",
      "93. The intermembrane space would have more OH- and less H+.\n",
      "94. The mitochondrial matrix would have more H+ and less OH-.\n",
      "95. The intermembrane space would have more OH- and less H+.\n",
      "96. The mitochondrial matrix would have more H+ and less OH-.\n",
      "97. The intermembrane space would have more OH- and less H+.\n",
      "98. The mitochondrial matrix would have more H+ and less OH-.\n",
      "99. The intermembrane space would have more OH- and less H+.\n",
      "100. The mitochondrial matrix would have more H+ and less OH-.\n",
      "101. The intermembrane space would have more OH- and less H+.\n",
      "102. The mitochondrial matrix would have more H+ and less OH-.\n",
      "103. The intermembrane space would have more OH- and less H+.\n",
      "104. The mitochondrial matrix would have more H+ and less OH-.\n",
      "105. The intermembrane space would have more OH- and less H+.\n",
      "106. The mitochondrial matrix would have more H+ and less OH-.\n",
      "107. The intermembrane space would have more OH- and less H+.\n",
      "108. The mitochondrial matrix would have more H+ and less OH-.\n",
      "109. The intermembrane space would have more OH- and less H+.\n",
      "110. The mitochondrial matrix would have more H+ and less OH-.\n",
      "111. The intermembrane space would have more OH- and less H+.\n",
      "112. The mitochondrial matrix would have more H+ and less OH-.\n",
      "113. The intermembrane space would have more OH- and less H+.\n",
      "114. The mitochondrial matrix would have more H+ and less OH-.\n",
      "115. The intermembrane space would have more OH- and less H+.\n",
      "116. The mitochondrial matrix would have more H+ and less OH-.\n",
      "117. The intermembrane space would have more OH- and less H+.\n",
      "118. The mitochondrial matrix would have more H+ and less OH-.\n",
      "119. The intermembrane space would have more OH- and less H+.\n",
      "120. The mitochondrial matrix would have more H+ and less OH-.\n",
      "121. The intermembrane space would have more OH- and less H+.\n",
      "122. The mitochondrial matrix would have more H+ and less OH-.\n",
      "123. The intermembrane space would have more OH- and less H+.\n",
      "124. The mitochondrial matrix would have more H+ and less OH-.\n",
      "125. The intermembrane space would have more OH- and less H+.\n",
      "126. The mitochondrial matrix would have more H+ and less OH-.\n",
      "127. The intermembrane space would have more OH- and less H+.\n",
      "128. The mitochondrial matrix would have more H+ and less OH-.\n",
      "129. The intermembrane space would have more OH- and less H+.\n",
      "130. The mitochondrial matrix would have more H+ and less OH-.\n",
      "131. The intermembrane space would have more OH- and less H+.\n",
      "132. The mitochondrial matrix would have more H+ and less OH-.\n",
      "133. The intermembrane space would have more OH- and less H+.\n",
      "134. The mitochondrial matrix would have more H+ and less OH-.\n",
      "135. The intermembrane space would have more OH- and less H+.\n",
      "136. The mitochondrial matrix would have more H+ and less OH-.\n",
      "137. The intermembrane space would have more OH- and less H+.\n",
      "138. The mitochondrial matrix would have more H+ and less OH-.\n",
      "139. The intermembrane space would have more OH- and less H+.\n",
      "140. The mitochondrial matrix would have more H+ and less OH-.\n",
      "141. The intermembrane space would have more OH- and less H+.\n",
      "142. The mitochondrial matrix would have more H+ and less OH-.\n",
      "143. The intermembrane space would have more OH- and less H+.\n",
      "144. The mitochondrial matrix would have more H+ and less OH-.\n",
      "145. The intermembrane space would have more OH- and less H+.\n",
      "146. The mitochondrial matrix would have more H+ and less OH-.\n",
      "147. The intermembrane space would have more OH- and less H+.\n",
      "148. The mitochondrial matrix would have more H+ and less OH-.\n",
      "149. The intermembrane space would have more OH- and less H+.\n",
      "150. The mitochondrial matrix would have more H+ and less OH-.\n",
      "151. The intermembrane space would have more OH- and less H+.\n",
      "152. The mitochondrial matrix would have more H+ and less OH-.\n",
      "153. The intermembrane space would have more OH- and less H+.\n",
      "154. The mitochondrial matrix would have more H+ and less OH-.\n",
      "155. The intermembrane space would have more OH- and less H+.\n",
      "156. The mitochondrial matrix would have more H+ and less OH-.\n",
      "157. The intermembrane space would have more OH- and less H+.\n",
      "158. The mitochondrial matrix would have more H+ and less OH-.\n",
      "159. The intermembrane space would have more OH- and less H+.\n",
      "160. The mitochondrial matrix would have more H+ and less OH-.\n",
      "161. The intermembrane space would have more OH- and less H+.\n",
      "162. The mitochondrial matrix would have more H+ and less OH-.\n",
      "163. The intermembrane space would have more OH- and less H+.\n",
      "164. The mitochondrial matrix would have more H+ and less OH-.\n",
      "165. The intermembrane space would have more OH- and less H+.\n",
      "166. The mitochondrial matrix would have more H+ and less OH-.\n",
      "167. The intermembrane space would have more OH- and less H+.\n",
      "168. The mitochondrial matrix would have more H+ and less OH-.\n",
      "169. The intermembrane space would have more OH- and less H+.\n",
      "170. The mitochondrial matrix would have more H+ and less OH-.\n",
      "171. The intermembrane space would have more OH- and less H+.\n",
      "172. The mitochondrial matrix would have more H+ and less OH-.\n",
      "173. The intermembrane space would have more OH- and less H+.\n",
      "174. The mitochondrial matrix would have more H+ and less OH-.\n",
      "175. The intermembrane space would have more OH- and less H+.\n",
      "176. The mitochondrial matrix would have more H+ and less OH-.\n",
      "177. The intermembrane space would have more OH- and less H+.\n",
      "178. The mitochondrial matrix would have more H+ and less OH-.\n",
      "179. The intermembrane space would have more OH- and less H+.\n",
      "180. The mitochondrial matrix would have more H+ and less OH-.\n",
      "181. The intermembrane space would have more OH- and less H+.\n",
      "182. The mitochondrial matrix would have more H+ and less OH-.\n",
      "183. The intermembrane space would have more OH- and less H+.\n",
      "184. The mitochondrial matrix would have more H+ and less OH-.\n",
      "185. The intermembrane space would have more OH- and less H+.\n",
      "186. The mitochondrial matrix would have more H+ and less OH-.\n",
      "187. The intermembrane space would have more OH- and less H+.\n",
      "188. The mitochondrial matrix would have more H+ and less OH-.\n",
      "189. The intermembrane space would have more OH- and less H+.\n",
      "190. The mitochondrial matrix would have more H+ and less OH-.\n",
      "191. The intermembrane space would have more OH- and less H+.\n",
      "192. The mitochondrial matrix would have more H+ and less OH-.\n",
      "193. The intermembrane space would have more OH- and less H+.\n",
      "194. The mitochondrial matrix would have more H+ and less OH-.\n",
      "195. The intermembrane space would have more OH- and less H+.\n",
      "196. The mitochondrial matrix would have more H+ and less OH-.\n",
      "197. The intermembrane space would have more OH- and less H+.\n",
      "198. The mitochondrial matrix would have more H+ and less OH-.\n",
      "199. The intermembrane space would have more OH- and less H+.\n",
      "200. The mitochondrial matrix would have more H+ and less OH-.\n",
      "201. The intermembrane space would have more OH- and less H+.\n",
      "202. The mitochondrial matrix would have more H+ and less OH-.\n",
      "203. The intermembrane space would have more OH- and less H+.\n",
      "204. The mitochondrial matrix would have more H+ and less OH-.\n",
      "205. The intermembrane space would have more OH- and less H+.\n",
      "206. The mitochondrial matrix would have more H+ and less OH-.\n",
      "207. The intermembrane space would have more OH- and less H+.\n",
      "208. The mitochondrial matrix would have more H+ and less OH-.\n",
      "209. The intermembrane space would have more OH- and less H+.\n",
      "210. The mitochondrial matrix would have more H+ and less OH-.\n",
      "211. The intermembrane space would have more OH- and less H+.\n",
      "212. The mitochondrial matrix would have more H+ and less OH-.\n",
      "213. The intermembrane space would have more OH- and less H+.\n",
      "214. The mitochondrial matrix would have more H+ and less OH-.\n",
      "215. The intermembrane space would have more OH- and less H+.\n",
      "216. The mitochondrial matrix would have more H+ and less OH-.\n",
      "217. The intermembrane space would have more OH- and less H+.\n",
      "218. The mitochondrial matrix would have more H+ and less OH-.\n",
      "219. The intermembrane space would have more OH- and less H+.\n",
      "220. The mitochondrial matrix would have more H+ and less OH-.\n",
      "221. The intermembrane space would have more OH- and less H+.\n",
      "222. The mitochondrial matrix would have more H+ and less OH-.\n",
      "223. The intermembrane space would have more OH- and less H+.\n",
      "224. The mitochondrial matrix would have more H+ and less OH-.\n",
      "225. The intermembrane space would have more OH- and less H+.\n",
      "226. The mitochondrial matrix would have more H+ and less OH-.\n",
      "227. The intermembrane space would have more OH- and less H+.\n",
      "228. The mitochondrial matrix would have more H+ and less OH-.\n",
      "229. The intermembrane space would have more OH- and less H+.\n",
      "230. The mitochondrial matrix would have more H+ and less OH-.\n",
      "231. The intermembrane space would have more OH- and less H+.\n",
      "232. The mitochondrial matrix would have more H+ and less OH-.\n",
      "233. The intermembrane space\n"
     ]
    },
    {
     "name": "stderr",
     "output_type": "stream",
     "text": [
      "\n"
     ]
    }
   ],
   "source": [
    "print(\"\\n--- Running Inference ---\")\n",
    "all_outputs_text = []\n",
    "num_batches = math.ceil(len(prompts) / BATCH_SIZE)\n",
    "\n",
    "for i in tqdm(range(num_batches), desc=\"Generating Responses\"):\n",
    "    start_idx = i * BATCH_SIZE\n",
    "    end_idx = min((i + 1) * BATCH_SIZE, len(prompts))\n",
    "    batch_prompts = prompts[start_idx:end_idx]\n",
    "    outputs = llm.generate(batch_prompts, sampling_params, use_tqdm=False)\n",
    "    batch_outputs_text = [output.outputs[0].text.strip() for output in outputs]\n",
    "    all_outputs_text.extend(batch_outputs_text)\n",
    "\n",
    "if len(all_outputs_text) > 0:\n",
    "    print(\"\\nExample Generated Text (raw):\")\n",
    "    print(all_outputs_text[0])"
   ]
  },
  {
   "cell_type": "code",
   "execution_count": 33,
   "metadata": {
    "execution": {
     "iopub.execute_input": "2025-04-13T13:18:08.900806Z",
     "iopub.status.busy": "2025-04-13T13:18:08.900545Z",
     "iopub.status.idle": "2025-04-13T13:18:08.947643Z",
     "shell.execute_reply": "2025-04-13T13:18:08.947007Z",
     "shell.execute_reply.started": "2025-04-13T13:18:08.900779Z"
    },
    "trusted": true
   },
   "outputs": [
    {
     "name": "stdout",
     "output_type": "stream",
     "text": [
      "\n",
      "--- Extracting Predictions ---\n"
     ]
    },
    {
     "name": "stderr",
     "output_type": "stream",
     "text": [
      "Extracting choices: 100%|██████████| 200/200 [00:00<00:00, 5111.36it/s]"
     ]
    },
    {
     "name": "stdout",
     "output_type": "stream",
     "text": [
      "Warning: Could not extract answer from text: '1. The mitochondrial matrix is the space where ATP is produced.\n",
      "2. High pH in the matrix leads to th...less H+.\n",
      "232. The mitochondrial matrix would have more H+ and less OH-.\n",
      "233. The intermembrane space'\n",
      "Warning: Could not extract answer from text: '1. The patient has a history of recurrent injuries, which suggests a condition that needs immediate ...erious issue requiring immediate attention. This suggests that the patient's condition is related to'\n",
      "Warning: Could not extract answer from text: '1. The cardiac cycle involves four phases: I. systole, II. diastole, III. tachycardia, IV. bradycard...'s not correct. The phases are I. systole, II. diastole, III. tachycardia, IV. bradycardia. Wait, no'\n",
      "Warning: Could not extract answer from text: '1. The patient is 31 years old, so the options related to congenital heart disease (like aortic sten...are described as irregular, with a loud S1, which is a type of ventricular arrhythmia. This could be'\n",
      "Warning: Could not extract answer from text: '1. The problem involves the transmission of sound from one medium to another with a higher density. ... So, the exception is the change that does not happen. So, the exception is the change that does not'\n",
      "Warning: Could not extract answer from text: '1. The patient's parents were separated 3 months ago. She had been an honor student and excelled in ...iors that could be related to defense mechanisms.\n",
      "154. The question is about which defense mechanism'\n",
      "Warning: Could not extract answer from text: '1. The patient has a generalized tonic-clonic (GTC) seizure, which is typically associated with a hy...ized heart rhythm. Diazepam's continued presence may suppress the central respiratory drive, leading'\n",
      "Warning: Could not extract answer from text: '1. I remember that a surgical support is used to stabilize the stoma during operations.\n",
      "     2. Stom... 156. Stomach surgery is performed using a surgical support to allow the blood to flow back into the'\n",
      "Warning: Could not extract answer from text: '1. The patient has a generalized tonic-clonic (GTC) seizure, which is a type of tonic-clonic seizure...itional 0.5 mg/kg diazepam intravenously and the convulsion terminated. Within 2 minutes, her oxygen'\n",
      "Warning: Could not extract answer from text: '1. Glycolysis is an energy-motivating process that occurs in the cytoplasm.\n",
      "     2. When glycolysis ... intracellular buffer to limit pH changes.\n",
      "    151. Since ADP and ubiquinone are involved in the cit'\n",
      "Warning: Could not extract answer from text: '1. The patient is 31 years old, so the options related to congenital heart disease (like aortic sten... patient's heart sounds are irregular, with a loud S1, which is a ventricular arrhythmia. This could'\n",
      "\n",
      "------------------------------\n",
      "Number of invalid responces: 11\n",
      "\n",
      "Example Extracted Prediction:\n",
      "None\n"
     ]
    },
    {
     "name": "stderr",
     "output_type": "stream",
     "text": [
      "\n"
     ]
    }
   ],
   "source": [
    "print(\"\\n--- Extracting Predictions ---\")\n",
    "predictions = [extract_choice_mcq(text) for text in tqdm(all_outputs_text, desc=\"Extracting choices\")]\n",
    "num_invalid_responces = predictions.count(None)\n",
    "print(f\"\\n------------------------------\\nNumber of invalid responces: {num_invalid_responces}\")\n",
    "\n",
    "if len(predictions) > 0:\n",
    "    print(\"\\nExample Extracted Prediction:\")\n",
    "    print(predictions[0])"
   ]
  },
  {
   "cell_type": "code",
   "execution_count": 34,
   "metadata": {
    "execution": {
     "iopub.execute_input": "2025-04-13T13:18:08.948412Z",
     "iopub.status.busy": "2025-04-13T13:18:08.948242Z",
     "iopub.status.idle": "2025-04-13T13:18:08.982191Z",
     "shell.execute_reply": "2025-04-13T13:18:08.981635Z",
     "shell.execute_reply.started": "2025-04-13T13:18:08.948398Z"
    },
    "trusted": true
   },
   "outputs": [
    {
     "name": "stdout",
     "output_type": "stream",
     "text": [
      "\n",
      "--- Calculating Metrics ---\n"
     ]
    }
   ],
   "source": [
    "print(\"\\n--- Calculating Metrics ---\")\n",
    "correct_count = 0\n",
    "total_count = len(predictions)\n",
    "results_by_subject = {}\n",
    "\n",
    "if total_count != len(ground_truths):\n",
    "     print(f\"Warning: Mismatch between number of predictions ({total_count}) and ground truths ({len(ground_truths)}). This should not happen.\")\n",
    "     total_count = min(total_count, len(ground_truths))\n",
    "\n",
    "for i in range(total_count):\n",
    "    original_data_index = original_indices[i] if 'original_indices' in locals() else i\n",
    "    data_item = ds_mmlu[original_data_index]\n",
    "    subject = data_item.get('subject', 'Unknown')\n",
    "\n",
    "    pred = predictions[i]\n",
    "    truth = ground_truths[i]\n",
    "    is_correct = (pred == truth)\n",
    "\n",
    "    if subject not in results_by_subject:\n",
    "        results_by_subject[subject] = {'correct': 0, 'total': 0}\n",
    "\n",
    "    if is_correct:\n",
    "        correct_count += 1\n",
    "        results_by_subject[subject]['correct'] += 1\n",
    "    results_by_subject[subject]['total'] += 1\n",
    "\n",
    "overall_accuracy = (correct_count / total_count) * 100 if total_count > 0 else 0"
   ]
  },
  {
   "cell_type": "code",
   "execution_count": 35,
   "metadata": {
    "execution": {
     "iopub.execute_input": "2025-04-13T13:18:08.983217Z",
     "iopub.status.busy": "2025-04-13T13:18:08.982923Z",
     "iopub.status.idle": "2025-04-13T13:18:08.988775Z",
     "shell.execute_reply": "2025-04-13T13:18:08.988079Z",
     "shell.execute_reply.started": "2025-04-13T13:18:08.983200Z"
    },
    "trusted": true
   },
   "outputs": [
    {
     "name": "stdout",
     "output_type": "stream",
     "text": [
      "\n",
      "--- Evaluation Results ---\n",
      "Model Evaluated: deepseek-ai/DeepSeek-R1-Distill-Qwen-1.5B\n",
      "Dataset Used: cais/mmlu\n",
      "Number of Questions Evaluated: 200\n",
      "Number of Correct Answers: 68\n",
      "Overall Accuracy: 34.00%\n",
      "\n",
      "Accuracy by Subject:\n",
      "- anatomy: 41.94% (13/31)\n",
      "- clinical_knowledge: 37.93% (11/29)\n",
      "- college_biology: 44.44% (12/27)\n",
      "- college_medicine: 33.33% (10/30)\n",
      "- medical_genetics: 35.71% (10/28)\n",
      "- professional_medicine: 21.82% (12/55)\n"
     ]
    }
   ],
   "source": [
    "print(\"\\n--- Evaluation Results ---\")\n",
    "print(f\"Model Evaluated: {MODEL_NAME}\")\n",
    "print(f\"Dataset Used: {DATASET_MMLU}\")\n",
    "print(f\"Number of Questions Evaluated: {total_count}\")\n",
    "print(f\"Number of Correct Answers: {correct_count}\")\n",
    "print(f\"Overall Accuracy: {overall_accuracy:.2f}%\")\n",
    "\n",
    "print(\"\\nAccuracy by Subject:\")\n",
    "sorted_subjects = sorted(results_by_subject.keys())\n",
    "for subject in sorted_subjects:\n",
    "    counts = results_by_subject[subject]\n",
    "    sub_acc = (counts['correct'] / counts['total']) * 100 if counts['total'] > 0 else 0\n",
    "    print(f\"- {subject}: {sub_acc:.2f}% ({counts['correct']}/{counts['total']})\")"
   ]
  },
  {
   "cell_type": "markdown",
   "metadata": {},
   "source": [
    "### 4. PubMedQA"
   ]
  },
  {
   "cell_type": "markdown",
   "metadata": {},
   "source": [
    "#### Dataset loading and preparing"
   ]
  },
  {
   "cell_type": "code",
   "execution_count": 5,
   "metadata": {
    "execution": {
     "iopub.execute_input": "2025-04-13T13:29:05.349456Z",
     "iopub.status.busy": "2025-04-13T13:29:05.349229Z",
     "iopub.status.idle": "2025-04-13T13:29:05.353561Z",
     "shell.execute_reply": "2025-04-13T13:29:05.352901Z",
     "shell.execute_reply.started": "2025-04-13T13:29:05.349434Z"
    },
    "trusted": true
   },
   "outputs": [],
   "source": [
    "SEED = 4242\n",
    "BATCH_SIZE = 4\n",
    "NUM_SAMPLES = 200\n",
    "DATASET_PUBMEDQA = \"qiaojin/PubMedQA\"\n",
    "SUBSET_PUBMEDQA = \"pqa_labeled\"\n",
    "SPLIT_PUBMEDQA = \"train\""
   ]
  },
  {
   "cell_type": "code",
   "execution_count": 6,
   "metadata": {
    "execution": {
     "iopub.execute_input": "2025-04-13T13:29:05.354795Z",
     "iopub.status.busy": "2025-04-13T13:29:05.354450Z",
     "iopub.status.idle": "2025-04-13T13:29:07.543450Z",
     "shell.execute_reply": "2025-04-13T13:29:07.542909Z",
     "shell.execute_reply.started": "2025-04-13T13:29:05.354770Z"
    },
    "trusted": true
   },
   "outputs": [
    {
     "data": {
      "application/vnd.jupyter.widget-view+json": {
       "model_id": "e48ed2daddff4c15908d8fe065da1535",
       "version_major": 2,
       "version_minor": 0
      },
      "text/plain": [
       "README.md:   0%|          | 0.00/5.19k [00:00<?, ?B/s]"
      ]
     },
     "metadata": {},
     "output_type": "display_data"
    },
    {
     "data": {
      "application/vnd.jupyter.widget-view+json": {
       "model_id": "dafff6409c074b0892b015db87f1b1aa",
       "version_major": 2,
       "version_minor": 0
      },
      "text/plain": [
       "train-00000-of-00001.parquet:   0%|          | 0.00/1.08M [00:00<?, ?B/s]"
      ]
     },
     "metadata": {},
     "output_type": "display_data"
    },
    {
     "data": {
      "application/vnd.jupyter.widget-view+json": {
       "model_id": "d5b40a15c9124ba0bc5db4fc79c967fe",
       "version_major": 2,
       "version_minor": 0
      },
      "text/plain": [
       "Generating train split:   0%|          | 0/1000 [00:00<?, ? examples/s]"
      ]
     },
     "metadata": {},
     "output_type": "display_data"
    },
    {
     "data": {
      "text/plain": [
       "Dataset({\n",
       "    features: ['pubid', 'question', 'context', 'long_answer', 'final_decision'],\n",
       "    num_rows: 200\n",
       "})"
      ]
     },
     "execution_count": 6,
     "metadata": {},
     "output_type": "execute_result"
    }
   ],
   "source": [
    "ds_pubmedqa = load_dataset(DATASET_PUBMEDQA, SUBSET_PUBMEDQA, split=SPLIT_PUBMEDQA)\n",
    "ds_pubmedqa = ds_pubmedqa.shuffle(seed=SEED).select(range(NUM_SAMPLES))\n",
    "ds_pubmedqa"
   ]
  },
  {
   "cell_type": "code",
   "execution_count": 7,
   "metadata": {
    "execution": {
     "iopub.execute_input": "2025-04-13T13:29:07.544425Z",
     "iopub.status.busy": "2025-04-13T13:29:07.544167Z",
     "iopub.status.idle": "2025-04-13T13:29:07.551652Z",
     "shell.execute_reply": "2025-04-13T13:29:07.550839Z",
     "shell.execute_reply.started": "2025-04-13T13:29:07.544395Z"
    },
    "trusted": true
   },
   "outputs": [
    {
     "data": {
      "text/plain": [
       "{'pubid': 22504515,\n",
       " 'question': 'Endovenous laser ablation in the treatment of small saphenous varicose veins: does site of access influence early outcomes?',\n",
       " 'context': {'contexts': ['The study was performed to evaluate the clinical and technical efficacy of endovenous laser ablation (EVLA) of small saphenous varicosities, particularly in relation to the site of endovenous access.',\n",
       "   'Totally 59 patients with unilateral saphenopopliteal junction incompetence and small saphenous vein reflux underwent EVLA (810 nm, 14 W diode laser) with ambulatory phlebectomies. Small saphenous vein access was gained at the lowest site of truncal reflux. Patients were divided into 2 groups: access gained above mid-calf (AMC, n = 33) and below mid-calf (BMC, n = 26) levels. Outcomes included Venous Clinical Severity Scores (VCSS), Aberdeen Varicose Vein Questionnaire (AVVQ), patient satisfaction, complications, and recurrence rates.',\n",
       "   'Both groups demonstrated significant improvement in VCSS, AVVQ, generic quality of life Short Form 36, and EuroQol scores (P<.05) up to 1 year. No differences were seen between AMC and BMC groups for complications (phlebitis: 2 [6%] and 1 [3.8%], P>.05; paresthesia: 2 [6%] and 5 [19%], P = .223) and recurrence (3 [9%] and 1 [3.8%], P = .623), respectively.'],\n",
       "  'labels': ['OBJECTIVE', 'METHODS', 'RESULTS'],\n",
       "  'meshes': ['Adult',\n",
       "   'Ambulatory Surgical Procedures',\n",
       "   'Chi-Square Distribution',\n",
       "   'Endovascular Procedures',\n",
       "   'England',\n",
       "   'Female',\n",
       "   'Humans',\n",
       "   'Laser Therapy',\n",
       "   'Lasers, Semiconductor',\n",
       "   'Male',\n",
       "   'Middle Aged',\n",
       "   'Paresthesia',\n",
       "   'Patient Satisfaction',\n",
       "   'Peripheral Nerve Injuries',\n",
       "   'Phlebitis',\n",
       "   'Prospective Studies',\n",
       "   'Quality of Life',\n",
       "   'Recurrence',\n",
       "   'Risk Assessment',\n",
       "   'Risk Factors',\n",
       "   'Saphenous Vein',\n",
       "   'Severity of Illness Index',\n",
       "   'Surveys and Questionnaires',\n",
       "   'Time Factors',\n",
       "   'Treatment Outcome',\n",
       "   'Varicose Veins'],\n",
       "  'reasoning_required_pred': ['n', 'o'],\n",
       "  'reasoning_free_pred': ['n', 'o']},\n",
       " 'long_answer': 'The site of access in our study does not appear to influence complications specifically neural injury or recurrence rates.',\n",
       " 'final_decision': 'no'}"
      ]
     },
     "execution_count": 7,
     "metadata": {},
     "output_type": "execute_result"
    }
   ],
   "source": [
    "ds_pubmedqa[0]"
   ]
  },
  {
   "cell_type": "markdown",
   "metadata": {},
   "source": [
    "#### Helper functions definition"
   ]
  },
  {
   "cell_type": "code",
   "execution_count": 8,
   "metadata": {
    "execution": {
     "iopub.execute_input": "2025-04-13T13:29:07.552728Z",
     "iopub.status.busy": "2025-04-13T13:29:07.552488Z",
     "iopub.status.idle": "2025-04-13T13:29:07.570821Z",
     "shell.execute_reply": "2025-04-13T13:29:07.570321Z",
     "shell.execute_reply.started": "2025-04-13T13:29:07.552705Z"
    },
    "trusted": true
   },
   "outputs": [],
   "source": [
    "def format_prompt_pubmedqa(example):\n",
    "    \"\"\"Formats a single example into a prompt for the LLM.\"\"\"\n",
    "    question = example['question']\n",
    "    if not isinstance(example.get('context'), dict) or 'contexts' not in example['context']:\n",
    "        print(f\"Warning: Skipping example due to missing or invalid context field.\")\n",
    "        return None\n",
    "\n",
    "    context_passages = example['context']['contexts']\n",
    "    full_context = \"\\n\\n\".join(context_passages)\n",
    "\n",
    "    prompt = f\"\"\"\n",
    "You are an expert in analyzing scientific texts and answering questions based on provided context and explaining your reasoning clearly.\n",
    "Your task is to determine the answer to the question ('yes', 'no', or 'maybe') based only on the information given in the context. Follow these steps:\n",
    "1. Analyze the provided context in relation to the question. Summarize the key evidence (or lack thereof) relevant to answering the question. This is your reasoning.\n",
    "2. Based on your reasoning from the context, determine if the answer to the question is 'yes', 'no', or 'maybe'.\n",
    "3. Output your reasoning first. After the reasoning, start a new line and provide the final decision in the specific format: Answer: [yes/no/maybe]\n",
    "\n",
    "Context:\n",
    "{full_context}\n",
    "\n",
    "Question: {question}\n",
    "\n",
    "Reasoning:\n",
    "    \"\"\"\n",
    "    return prompt"
   ]
  },
  {
   "cell_type": "code",
   "execution_count": 9,
   "metadata": {
    "execution": {
     "iopub.execute_input": "2025-04-13T13:29:07.571901Z",
     "iopub.status.busy": "2025-04-13T13:29:07.571607Z",
     "iopub.status.idle": "2025-04-13T13:29:07.592094Z",
     "shell.execute_reply": "2025-04-13T13:29:07.591383Z",
     "shell.execute_reply.started": "2025-04-13T13:29:07.571878Z"
    },
    "trusted": true
   },
   "outputs": [],
   "source": [
    "def get_ground_truth_pubmedqa(example):\n",
    "    \"\"\"Extracts the ground truth ('yes', 'no', 'maybe') from the example.\"\"\"\n",
    "    decision = example.get('final_decision')\n",
    "    if decision not in ['yes', 'no', 'maybe']:\n",
    "        print(f\"Warning: Invalid 'final_decision' value found: {decision}. Skipping ground truth.\")\n",
    "        return None\n",
    "    return decision"
   ]
  },
  {
   "cell_type": "code",
   "execution_count": 10,
   "metadata": {
    "execution": {
     "iopub.execute_input": "2025-04-13T13:29:07.594218Z",
     "iopub.status.busy": "2025-04-13T13:29:07.594041Z",
     "iopub.status.idle": "2025-04-13T13:29:07.606787Z",
     "shell.execute_reply": "2025-04-13T13:29:07.606311Z",
     "shell.execute_reply.started": "2025-04-13T13:29:07.594205Z"
    },
    "trusted": true
   },
   "outputs": [],
   "source": [
    "def extract_yes_no_maybe(generated_text):\n",
    "    \"\"\"Extracts the predicted choice (yes, no, maybe) from the LLM's output.\"\"\"\n",
    "    text = generated_text.strip().lower()\n",
    "\n",
    "    # Explicit \"Answer: yes/no/maybe\" potentially followed by punctuation/eos\n",
    "    match = re.search(r'(?:answer|decision)\\s*[:\\-]?\\s*(yes|no|maybe)\\b', text)\n",
    "    if match:\n",
    "        return match.group(1)\n",
    "\n",
    "    # Look for the first occurrence of \"yes\", \"no\", or \"maybe\" as a whole word\n",
    "    match = re.search(r'\\b(yes|no|maybe)\\b', text)\n",
    "    if match:\n",
    "        return match.group(1)\n",
    "\n",
    "    # Fallback - If no clear choice found, return None\n",
    "    print(f\"Warning: Could not extract answer from text: '{text[:100]}...{text[-100:]}'\")\n",
    "    return None"
   ]
  },
  {
   "cell_type": "markdown",
   "metadata": {},
   "source": [
    "#### Evaluation"
   ]
  },
  {
   "cell_type": "code",
   "execution_count": 11,
   "metadata": {
    "execution": {
     "iopub.execute_input": "2025-04-13T13:29:07.607621Z",
     "iopub.status.busy": "2025-04-13T13:29:07.607429Z",
     "iopub.status.idle": "2025-04-13T13:29:07.664639Z",
     "shell.execute_reply": "2025-04-13T13:29:07.664041Z",
     "shell.execute_reply.started": "2025-04-13T13:29:07.607605Z"
    },
    "trusted": true
   },
   "outputs": [
    {
     "name": "stdout",
     "output_type": "stream",
     "text": [
      "\n",
      "--- Preparing Prompts and Ground Truths ---\n"
     ]
    },
    {
     "name": "stderr",
     "output_type": "stream",
     "text": [
      "Formatting prompts: 100%|██████████| 200/200 [00:00<00:00, 5983.32it/s]"
     ]
    },
    {
     "name": "stdout",
     "output_type": "stream",
     "text": [
      "Prepared 200 valid prompts for evaluation.\n",
      "\n",
      "Example Prompt:\n",
      "\n",
      "You are an expert in analyzing scientific texts and answering questions based on provided context and explaining your reasoning clearly.\n",
      "Your task is to determine the answer to the question ('yes', 'no', or 'maybe') based only on the information given in the context. Follow these steps:\n",
      "1. Analyze the provided context in relation to the question. Summarize the key evidence (or lack thereof) relevant to answering the question. This is your reasoning.\n",
      "2. Based on your reasoning from the context, determine if the answer to the question is 'yes', 'no', or 'maybe'.\n",
      "3. Output your reasoning first. After the reasoning, start a new line and provide the final decision in the specific format: Answer: [yes/no/maybe]\n",
      "\n",
      "Context:\n",
      "The study was performed to evaluate the clinical and technical efficacy of endovenous laser ablation (EVLA) of small saphenous varicosities, particularly in relation to the site of endovenous access.\n",
      "\n",
      "Totally 59 patients with unilateral saphenopopliteal junction incompetence and small saphenous vein reflux underwent EVLA (810 nm, 14 W diode laser) with ambulatory phlebectomies. Small saphenous vein access was gained at the lowest site of truncal reflux. Patients were divided into 2 groups: access gained above mid-calf (AMC, n = 33) and below mid-calf (BMC, n = 26) levels. Outcomes included Venous Clinical Severity Scores (VCSS), Aberdeen Varicose Vein Questionnaire (AVVQ), patient satisfaction, complications, and recurrence rates.\n",
      "\n",
      "Both groups demonstrated significant improvement in VCSS, AVVQ, generic quality of life Short Form 36, and EuroQol scores (P<.05) up to 1 year. No differences were seen between AMC and BMC groups for complications (phlebitis: 2 [6%] and 1 [3.8%], P>.05; paresthesia: 2 [6%] and 5 [19%], P = .223) and recurrence (3 [9%] and 1 [3.8%], P = .623), respectively.\n",
      "\n",
      "Question: Endovenous laser ablation in the treatment of small saphenous varicose veins: does site of access influence early outcomes?\n",
      "\n",
      "Reasoning:\n",
      "    \n",
      "Corresponding Ground Truth: no\n"
     ]
    },
    {
     "name": "stderr",
     "output_type": "stream",
     "text": [
      "\n"
     ]
    }
   ],
   "source": [
    "print(\"\\n--- Preparing Prompts and Ground Truths ---\")\n",
    "prompts = []\n",
    "ground_truths_raw = []\n",
    "original_indices_map = []\n",
    "\n",
    "for i, ex in enumerate(tqdm(ds_pubmedqa, desc=\"Formatting prompts\")):\n",
    "    prompt = format_prompt_pubmedqa(ex)\n",
    "    if prompt:\n",
    "        prompts.append(prompt)\n",
    "        ground_truths_raw.append(get_ground_truth_pubmedqa(ex))\n",
    "        original_indices_map.append(i)\n",
    "\n",
    "valid_indices = [i for i, gt in enumerate(ground_truths_raw) if gt is not None]\n",
    "\n",
    "if len(valid_indices) < len(prompts):\n",
    "     invalid_gt_count = len(prompts) - len(valid_indices)\n",
    "     print(f\"Warning: {invalid_gt_count} examples had invalid ground truths and were excluded.\")\n",
    "     prompts = [prompts[i] for i in valid_indices]\n",
    "     ground_truths = [ground_truths_raw[i] for i in valid_indices]\n",
    "     original_indices = [original_indices_map[i] for i in valid_indices]\n",
    "else:\n",
    "    ground_truths = ground_truths_raw\n",
    "    original_indices = original_indices_map\n",
    "\n",
    "if len(prompts) > 0:\n",
    "    print(\"\\nExample Prompt:\")\n",
    "    print(prompts[0])\n",
    "    print(f\"Corresponding Ground Truth: {ground_truths[0]}\")\n",
    "else:\n",
    "    print(\"No valid prompts to evaluate.\")\n",
    "    exit()"
   ]
  },
  {
   "cell_type": "code",
   "execution_count": 12,
   "metadata": {
    "execution": {
     "iopub.execute_input": "2025-04-13T13:29:07.665498Z",
     "iopub.status.busy": "2025-04-13T13:29:07.665296Z",
     "iopub.status.idle": "2025-04-13T13:47:21.235266Z",
     "shell.execute_reply": "2025-04-13T13:47:21.234423Z",
     "shell.execute_reply.started": "2025-04-13T13:29:07.665476Z"
    },
    "trusted": true
   },
   "outputs": [
    {
     "name": "stdout",
     "output_type": "stream",
     "text": [
      "\n",
      "--- Running Inference ---\n"
     ]
    },
    {
     "name": "stderr",
     "output_type": "stream",
     "text": [
      "Generating Responses: 100%|██████████| 50/50 [18:13<00:00, 21.87s/it]"
     ]
    },
    {
     "name": "stdout",
     "output_type": "stream",
     "text": [
      "Generated 200 responses.\n",
      "\n",
      "Example Generated Text (raw):\n",
      "- The study involved 59 patients with unilateral saphenopopliteal junction incompetence and small saphenous vein reflux.\n",
      "     - Patients were divided into two groups based on the site of access: AMC (above mid-calf) and BMC (below mid-calf).\n",
      "     - Both groups showed significant improvement in clinical scores (VCSS, AVVQ, etc.) up to 1 year.\n",
      "     - No differences were found between the groups in complications or recurrence rates.\n",
      "     - Therefore, the access site does not influence early outcomes.\n",
      "Answer: Maybe\n",
      "Okay, so I need to figure out whether the access site affects early outcomes in endovenous laser ablation for small saphenous varicose veins. Let me start by reading the context carefully.\n",
      "\n",
      "The study was about evaluating the effectiveness of endovenous laser ablation (EVLA) on small saphenous varicose veins. The patients had unilateral saphenopopliteal junction incompetence and small vein reflux. They used EVLA with a 14 W diode laser at 810 nm. After the procedure, they had ambulatory phlebectomies to remove the vein.\n",
      "\n",
      "They divided the patients into two groups based on where the access was made: above mid-calf (AMC, 33 patients) and below mid-calf (BMC, 26 patients). Both groups showed significant improvement in clinical scores like V Cass, AVVQ, and short form 36 QOL. The improvement was up to 1 year, and the differences were statistically significant (P<.05). \n",
      "\n",
      "Looking at complications, the AMC group had fewer incidents of phlebitis (2 vs. 6%) and paresthesia (2 vs. 3.8%). The BMC group had more phlebitis (1 vs. 6%) and paresthesia (5 vs. 19%). However, the recurrence rates were similar for both groups (3 vs. 9% for recurrence). \n",
      "\n",
      "So, the key points are that both groups showed similar improvement in clinical scores, no significant differences in complications or recurrence rates. The access site didn't seem to affect the early outcomes. \n",
      "\n",
      "Therefore, the answer should be 'maybe' because the data doesn't support a difference in outcomes based on the access site. The study shows no influence, but maybe the question is whether it does, and the answer is no, but the reasoning is that the data doesn't show any difference.\n",
      "</think>\n",
      "\n",
      "Answer: Maybe\n"
     ]
    },
    {
     "name": "stderr",
     "output_type": "stream",
     "text": [
      "\n"
     ]
    }
   ],
   "source": [
    "print(\"\\n--- Running Inference ---\")\n",
    "all_outputs_text = []\n",
    "num_batches = math.ceil(len(prompts) / BATCH_SIZE)\n",
    "\n",
    "for i in tqdm(range(num_batches), desc=\"Generating Responses\"):\n",
    "    start_idx = i * BATCH_SIZE\n",
    "    end_idx = min((i + 1) * BATCH_SIZE, len(prompts))\n",
    "    batch_prompts = prompts[start_idx:end_idx]\n",
    "    outputs = llm.generate(batch_prompts, sampling_params, use_tqdm=False)\n",
    "    batch_outputs_text = [output.outputs[0].text.strip() for output in outputs]\n",
    "    all_outputs_text.extend(batch_outputs_text)\n",
    "\n",
    "if len(all_outputs_text) > 0:\n",
    "    print(\"\\nExample Generated Text (raw):\")\n",
    "    print(all_outputs_text[0])"
   ]
  },
  {
   "cell_type": "code",
   "execution_count": 15,
   "metadata": {
    "execution": {
     "iopub.execute_input": "2025-04-13T13:55:35.327783Z",
     "iopub.status.busy": "2025-04-13T13:55:35.327214Z",
     "iopub.status.idle": "2025-04-13T13:55:35.350238Z",
     "shell.execute_reply": "2025-04-13T13:55:35.349527Z",
     "shell.execute_reply.started": "2025-04-13T13:55:35.327760Z"
    },
    "trusted": true
   },
   "outputs": [
    {
     "name": "stdout",
     "output_type": "stream",
     "text": [
      "\n",
      "--- Extracting Predictions ---\n"
     ]
    },
    {
     "name": "stderr",
     "output_type": "stream",
     "text": [
      "Extracting choices: 100%|██████████| 200/200 [00:00<00:00, 13155.92it/s]"
     ]
    },
    {
     "name": "stdout",
     "output_type": "stream",
     "text": [
      "Warning: Could not extract answer from text: '- the context mentions that routine laboratory parameters are used to distinguish nash from ash.\n",
      "   ...alt ratio, and fibrosis are all significant in distinguishing ash from nash.\n",
      "     - the mcv, ast/alt'\n",
      "Warning: Could not extract answer from text: '- the study's purpose was to evaluate the impact of a patient-safety curriculum on medical students'...es, which is a strong indicator of the curriculum's impact.\n",
      "     - the majority of students felt the'\n",
      "Warning: Could not extract answer from text: '- the context mentions that rural or urban residence affects perinatal outcomes.\n",
      "     - it provides ...lity.\n",
      "     - the study found that rural and urban infants have different mortality rates, with rural'\n",
      "Warning: Could not extract answer from text: '- the covering of the resection margin after distal pancreatectomy does not seem to be advantageous,...tients with coverage of the resection margin have a higher rate of pancreatic fistulas (22% vs. 10%)'\n",
      "Warning: Could not extract answer from text: '- the study compared three groups: protocol, matched, and remaining.\n",
      "     - the matched group had a ...ining group.\n",
      "     - the matched group had a higher recurrence-free survival than the protocol group.'\n",
      "Warning: Could not extract answer from text: '- the context mentions that raksi is used in an experiment with rats, which are alive at the time of...bout preserving their bodies, not just killing them.\n",
      "     - the rats are alive, so the experiment is'\n",
      "Warning: Could not extract answer from text: '- ace genotype is associated with increased chd.\n",
      "     - the ace genotype is associated with insulin ...reased levels of specific insulin.\n",
      "     - the ace genotype is associated with lower levels of proins'\n",
      "Warning: Could not extract answer from text: '- the context mentions that endoaortic occlusion was used in 52 out of 2,172 patients.\n",
      "     - it not...e overall safety of the procedure, such as the likelihood of bleeding or other complications.\n",
      "     -'\n",
      "Warning: Could not extract answer from text: '- the context mentions that rural midwives reported higher competence in breech delivery (p=0.001) c...to training was a significant factor for rural midwives, which might have hindered their competence.'\n",
      "Warning: Could not extract answer from text: '- the study's aim was to examine the association between gynecological alarm symptoms and specialist...tudy's context includes a random sample, so the results are representative of the population.\n",
      "     -'\n",
      "Warning: Could not extract answer from text: '- the context mentions that in 15 years ago, the israeli ministry of health set a readiness standard...cient.\n",
      "     - the surge in hmcis over the past decade indicates that the hospital's preparedness may'\n",
      "Warning: Could not extract answer from text: '- the context mentions that the study examined gout patients' knowledge of their condition, includin...xt does not specify whether the 5 gout-specific questions are primary or secondary goals.\n",
      "     - the'\n",
      "Warning: Could not extract answer from text: '1. ampk is a kinase that phosphorylates ampk-camp and other targets, including acc.\n",
      "     2. metformi...n of ampk, which is a key regulator of circadian rhythms and energy homeostasis.\n",
      "     110. therefore'\n",
      "Warning: Could not extract answer from text: '- the context mentions that dose-volume parameters in image-guided brachytherapy have become standar...l dose.\n",
      "     - the study found that the international commission on radiation units and rectovaginal'\n",
      "Warning: Could not extract answer from text: '- the context mentions that different ct scanners (siemens, philips, gems, toshiba) were evaluated.\n",
      "...n whether the same scanner model has consistent information across different kv settings.\n",
      "     - the'\n",
      "\n",
      "------------------------------\n",
      "Number of invalid responces: 15\n",
      "\n",
      "Example Extracted Prediction:\n",
      "maybe\n"
     ]
    },
    {
     "name": "stderr",
     "output_type": "stream",
     "text": [
      "\n"
     ]
    }
   ],
   "source": [
    "print(\"\\n--- Extracting Predictions ---\")\n",
    "predictions = [extract_yes_no_maybe(text) for text in tqdm(all_outputs_text, desc=\"Extracting choices\")]\n",
    "num_invalid_responсes = predictions.count(None)\n",
    "print(f\"\\n------------------------------\\nNumber of invalid responces: {num_invalid_responсes}\")\n",
    "\n",
    "if len(predictions) > 0:\n",
    "    print(\"\\nExample Extracted Prediction:\")\n",
    "    print(predictions[0])"
   ]
  },
  {
   "cell_type": "code",
   "execution_count": 17,
   "metadata": {
    "execution": {
     "iopub.execute_input": "2025-04-13T13:55:55.592044Z",
     "iopub.status.busy": "2025-04-13T13:55:55.591673Z",
     "iopub.status.idle": "2025-04-13T13:55:55.638012Z",
     "shell.execute_reply": "2025-04-13T13:55:55.637386Z",
     "shell.execute_reply.started": "2025-04-13T13:55:55.592020Z"
    },
    "trusted": true
   },
   "outputs": [
    {
     "name": "stdout",
     "output_type": "stream",
     "text": [
      "\n",
      "--- Calculating Metrics ---\n"
     ]
    }
   ],
   "source": [
    "print(\"\\n--- Calculating Metrics ---\")\n",
    "correct_count = 0\n",
    "total_count = len(predictions)\n",
    "results_by_subject = {}\n",
    "\n",
    "if total_count != len(ground_truths):\n",
    "     print(f\"Warning: Mismatch between number of predictions ({total_count}) and ground truths ({len(ground_truths)}). This should not happen.\")\n",
    "     total_count = min(total_count, len(ground_truths))\n",
    "\n",
    "for i in range(total_count):\n",
    "    original_data_index = original_indices[i] if 'original_indices' in locals() else i\n",
    "    data_item = ds_pubmedqa[original_data_index]\n",
    "    subject = data_item.get('subject_name', 'Unknown')\n",
    "\n",
    "    pred = predictions[i]\n",
    "    truth = ground_truths[i]\n",
    "    is_correct = (pred == truth)\n",
    "\n",
    "    if subject not in results_by_subject:\n",
    "        results_by_subject[subject] = {'correct': 0, 'total': 0}\n",
    "\n",
    "    if is_correct:\n",
    "        correct_count += 1\n",
    "        results_by_subject[subject]['correct'] += 1\n",
    "    results_by_subject[subject]['total'] += 1\n",
    "\n",
    "overall_accuracy = (correct_count / total_count) * 100 if total_count > 0 else 0"
   ]
  },
  {
   "cell_type": "code",
   "execution_count": 19,
   "metadata": {
    "execution": {
     "iopub.execute_input": "2025-04-13T13:56:08.225868Z",
     "iopub.status.busy": "2025-04-13T13:56:08.225551Z",
     "iopub.status.idle": "2025-04-13T13:56:08.230840Z",
     "shell.execute_reply": "2025-04-13T13:56:08.229909Z",
     "shell.execute_reply.started": "2025-04-13T13:56:08.225821Z"
    },
    "trusted": true
   },
   "outputs": [
    {
     "name": "stdout",
     "output_type": "stream",
     "text": [
      "\n",
      "--- Evaluation Results ---\n",
      "Model Evaluated: deepseek-ai/DeepSeek-R1-Distill-Qwen-1.5B\n",
      "Dataset Used: qiaojin/PubMedQA\n",
      "Number of Questions Evaluated: 200\n",
      "Number of Correct Answers: 76\n",
      "Overall Accuracy: 38.00%\n"
     ]
    }
   ],
   "source": [
    "print(\"\\n--- Evaluation Results ---\")\n",
    "print(f\"Model Evaluated: {MODEL_NAME}\")\n",
    "print(f\"Dataset Used: {DATASET_PUBMEDQA}\")\n",
    "print(f\"Number of Questions Evaluated: {total_count}\")\n",
    "print(f\"Number of Correct Answers: {correct_count}\")\n",
    "print(f\"Overall Accuracy: {overall_accuracy:.2f}%\")"
   ]
  },
  {
   "cell_type": "code",
   "execution_count": null,
   "metadata": {
    "trusted": true
   },
   "outputs": [],
   "source": []
  }
 ],
 "metadata": {
  "kaggle": {
   "accelerator": "nvidiaTeslaT4",
   "dataSources": [],
   "isGpuEnabled": true,
   "isInternetEnabled": true,
   "language": "python",
   "sourceType": "notebook"
  },
  "kernelspec": {
   "display_name": "Python 3",
   "language": "python",
   "name": "python3"
  },
  "language_info": {
   "codemirror_mode": {
    "name": "ipython",
    "version": 3
   },
   "file_extension": ".py",
   "mimetype": "text/x-python",
   "name": "python",
   "nbconvert_exporter": "python",
   "pygments_lexer": "ipython3",
   "version": "3.11.11"
  }
 },
 "nbformat": 4,
 "nbformat_minor": 4
}
